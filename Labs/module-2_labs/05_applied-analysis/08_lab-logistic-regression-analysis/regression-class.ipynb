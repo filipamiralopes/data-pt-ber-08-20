{
 "cells": [
  {
   "cell_type": "markdown",
   "metadata": {},
   "source": [
    "## Simple Linear Regression"
   ]
  },
  {
   "cell_type": "code",
<<<<<<< HEAD
   "execution_count": 1,
=======
   "execution_count": 167,
>>>>>>> f2a56fb897605fe6e919463fdcc44666c7e9f183
   "metadata": {},
   "outputs": [],
   "source": [
    "import numpy as np\n",
    "import pandas as pd\n",
    "import matplotlib.pyplot as plt\n",
    "import seaborn as sns"
   ]
  },
  {
   "cell_type": "code",
<<<<<<< HEAD
   "execution_count": 2,
=======
   "execution_count": 168,
>>>>>>> f2a56fb897605fe6e919463fdcc44666c7e9f183
   "metadata": {},
   "outputs": [
    {
     "data": {
      "text/html": [
       "<div>\n",
       "<style scoped>\n",
       "    .dataframe tbody tr th:only-of-type {\n",
       "        vertical-align: middle;\n",
       "    }\n",
       "\n",
       "    .dataframe tbody tr th {\n",
       "        vertical-align: top;\n",
       "    }\n",
       "\n",
       "    .dataframe thead th {\n",
       "        text-align: right;\n",
       "    }\n",
       "</style>\n",
       "<table border=\"1\" class=\"dataframe\">\n",
       "  <thead>\n",
       "    <tr style=\"text-align: right;\">\n",
       "      <th></th>\n",
       "      <th>Date</th>\n",
       "      <th>Calorie burned</th>\n",
       "      <th>Steps</th>\n",
       "      <th>Distance</th>\n",
       "      <th>Floors</th>\n",
       "      <th>Minutes Sedentary</th>\n",
       "      <th>Minutes Lightly Active</th>\n",
       "      <th>Minutes Fairly Active</th>\n",
       "      <th>Minutes Very Active</th>\n",
       "      <th>Activity Calories</th>\n",
       "      <th>...</th>\n",
       "      <th>Distance_miles</th>\n",
       "      <th>Days</th>\n",
       "      <th>Days_encoded</th>\n",
       "      <th>Work_or_Weekend</th>\n",
       "      <th>Hours Sleep</th>\n",
       "      <th>Sleep efficiency</th>\n",
       "      <th>Yesterday_sleep</th>\n",
       "      <th>Yesterday_sleep_efficiency</th>\n",
       "      <th>Months</th>\n",
       "      <th>Months_encoded</th>\n",
       "    </tr>\n",
       "  </thead>\n",
       "  <tbody>\n",
       "    <tr>\n",
       "      <th>0</th>\n",
       "      <td>2015-05-08</td>\n",
       "      <td>1934</td>\n",
       "      <td>905</td>\n",
       "      <td>0.65</td>\n",
       "      <td>0</td>\n",
       "      <td>1.355</td>\n",
       "      <td>46</td>\n",
       "      <td>0</td>\n",
       "      <td>0</td>\n",
       "      <td>1680</td>\n",
       "      <td>...</td>\n",
       "      <td>0.403891</td>\n",
       "      <td>Friday</td>\n",
       "      <td>4.0</td>\n",
       "      <td>1</td>\n",
       "      <td>6.400000</td>\n",
       "      <td>92.086331</td>\n",
       "      <td>0.000000</td>\n",
       "      <td>0.000000</td>\n",
       "      <td>May</td>\n",
       "      <td>5</td>\n",
       "    </tr>\n",
       "    <tr>\n",
       "      <th>1</th>\n",
       "      <td>2015-05-09</td>\n",
       "      <td>3631</td>\n",
       "      <td>18925</td>\n",
       "      <td>14.11</td>\n",
       "      <td>4</td>\n",
       "      <td>611.000</td>\n",
       "      <td>316</td>\n",
       "      <td>61</td>\n",
       "      <td>60</td>\n",
       "      <td>2248</td>\n",
       "      <td>...</td>\n",
       "      <td>8.767545</td>\n",
       "      <td>Saturday</td>\n",
       "      <td>5.0</td>\n",
       "      <td>0</td>\n",
       "      <td>7.566667</td>\n",
       "      <td>92.464358</td>\n",
       "      <td>6.400000</td>\n",
       "      <td>92.086331</td>\n",
       "      <td>May</td>\n",
       "      <td>5</td>\n",
       "    </tr>\n",
       "    <tr>\n",
       "      <th>2</th>\n",
       "      <td>2015-05-10</td>\n",
       "      <td>3204</td>\n",
       "      <td>14228</td>\n",
       "      <td>10.57</td>\n",
       "      <td>1</td>\n",
       "      <td>602.000</td>\n",
       "      <td>226</td>\n",
       "      <td>14</td>\n",
       "      <td>77</td>\n",
       "      <td>1719</td>\n",
       "      <td>...</td>\n",
       "      <td>6.567891</td>\n",
       "      <td>Sunday</td>\n",
       "      <td>6.0</td>\n",
       "      <td>0</td>\n",
       "      <td>6.450000</td>\n",
       "      <td>88.761468</td>\n",
       "      <td>7.566667</td>\n",
       "      <td>92.464358</td>\n",
       "      <td>May</td>\n",
       "      <td>5</td>\n",
       "    </tr>\n",
       "    <tr>\n",
       "      <th>3</th>\n",
       "      <td>2015-05-11</td>\n",
       "      <td>2673</td>\n",
       "      <td>6756</td>\n",
       "      <td>5.02</td>\n",
       "      <td>8</td>\n",
       "      <td>749.000</td>\n",
       "      <td>190</td>\n",
       "      <td>23</td>\n",
       "      <td>4</td>\n",
       "      <td>9620</td>\n",
       "      <td>...</td>\n",
       "      <td>3.119282</td>\n",
       "      <td>Monday</td>\n",
       "      <td>0.0</td>\n",
       "      <td>1</td>\n",
       "      <td>5.183333</td>\n",
       "      <td>88.857143</td>\n",
       "      <td>6.450000</td>\n",
       "      <td>88.761468</td>\n",
       "      <td>May</td>\n",
       "      <td>5</td>\n",
       "    </tr>\n",
       "    <tr>\n",
       "      <th>4</th>\n",
       "      <td>2015-05-12</td>\n",
       "      <td>2495</td>\n",
       "      <td>502</td>\n",
       "      <td>3.73</td>\n",
       "      <td>1</td>\n",
       "      <td>876.000</td>\n",
       "      <td>171</td>\n",
       "      <td>0</td>\n",
       "      <td>0</td>\n",
       "      <td>7360</td>\n",
       "      <td>...</td>\n",
       "      <td>2.317714</td>\n",
       "      <td>Tuesday</td>\n",
       "      <td>1.0</td>\n",
       "      <td>1</td>\n",
       "      <td>6.783333</td>\n",
       "      <td>82.892057</td>\n",
       "      <td>5.183333</td>\n",
       "      <td>88.857143</td>\n",
       "      <td>May</td>\n",
       "      <td>5</td>\n",
       "    </tr>\n",
       "  </tbody>\n",
       "</table>\n",
       "<p>5 rows × 24 columns</p>\n",
       "</div>"
      ],
      "text/plain": [
       "         Date  Calorie burned  Steps  Distance  Floors  Minutes Sedentary  \\\n",
       "0  2015-05-08            1934    905      0.65       0              1.355   \n",
       "1  2015-05-09            3631  18925     14.11       4            611.000   \n",
       "2  2015-05-10            3204  14228     10.57       1            602.000   \n",
       "3  2015-05-11            2673   6756      5.02       8            749.000   \n",
       "4  2015-05-12            2495    502      3.73       1            876.000   \n",
       "\n",
       "   Minutes Lightly Active  Minutes Fairly Active  Minutes Very Active  \\\n",
       "0                      46                      0                    0   \n",
       "1                     316                     61                   60   \n",
       "2                     226                     14                   77   \n",
       "3                     190                     23                    4   \n",
       "4                     171                      0                    0   \n",
       "\n",
       "   Activity Calories  ...  Distance_miles      Days  Days_encoded  \\\n",
       "0               1680  ...        0.403891    Friday           4.0   \n",
       "1               2248  ...        8.767545  Saturday           5.0   \n",
       "2               1719  ...        6.567891    Sunday           6.0   \n",
       "3               9620  ...        3.119282    Monday           0.0   \n",
       "4               7360  ...        2.317714   Tuesday           1.0   \n",
       "\n",
       "   Work_or_Weekend  Hours Sleep Sleep efficiency  Yesterday_sleep  \\\n",
       "0                1     6.400000        92.086331         0.000000   \n",
       "1                0     7.566667        92.464358         6.400000   \n",
       "2                0     6.450000        88.761468         7.566667   \n",
       "3                1     5.183333        88.857143         6.450000   \n",
       "4                1     6.783333        82.892057         5.183333   \n",
       "\n",
       "   Yesterday_sleep_efficiency  Months  Months_encoded  \n",
       "0                    0.000000     May               5  \n",
       "1                   92.086331     May               5  \n",
       "2                   92.464358     May               5  \n",
       "3                   88.761468     May               5  \n",
       "4                   88.857143     May               5  \n",
       "\n",
       "[5 rows x 24 columns]"
      ]
     },
<<<<<<< HEAD
     "execution_count": 2,
=======
     "execution_count": 168,
>>>>>>> f2a56fb897605fe6e919463fdcc44666c7e9f183
     "metadata": {},
     "output_type": "execute_result"
    }
   ],
   "source": [
    "data = pd.read_csv('../../03_data-visualization/02_lab-matplotlib-seaborn/your-code/Fitbit2.csv') \n",
    "data.head()"
   ]
  },
  {
   "cell_type": "code",
<<<<<<< HEAD
   "execution_count": 3,
=======
   "execution_count": 169,
>>>>>>> f2a56fb897605fe6e919463fdcc44666c7e9f183
   "metadata": {},
   "outputs": [
    {
     "data": {
      "text/plain": [
<<<<<<< HEAD
       "<AxesSubplot:>"
      ]
     },
     "execution_count": 3,
=======
       "<matplotlib.axes._subplots.AxesSubplot at 0x126109520>"
      ]
     },
     "execution_count": 169,
>>>>>>> f2a56fb897605fe6e919463fdcc44666c7e9f183
     "metadata": {},
     "output_type": "execute_result"
    },
    {
     "data": {
<<<<<<< HEAD
      "image/png": "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\n",
=======
      "image/png": "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\n",
>>>>>>> f2a56fb897605fe6e919463fdcc44666c7e9f183
      "text/plain": [
       "<Figure size 1080x1080 with 2 Axes>"
      ]
     },
     "metadata": {
      "needs_background": "light"
     },
     "output_type": "display_data"
    }
   ],
   "source": [
    "plt.figure(figsize=(15,15))\n",
    "sns.heatmap(data.corr())"
   ]
  },
  {
   "cell_type": "markdown",
   "metadata": {},
   "source": [
    "### Simple Regression Plot"
   ]
  },
  {
   "cell_type": "code",
<<<<<<< HEAD
   "execution_count": 4,
=======
   "execution_count": 177,
>>>>>>> f2a56fb897605fe6e919463fdcc44666c7e9f183
   "metadata": {},
   "outputs": [
    {
     "data": {
      "text/plain": [
<<<<<<< HEAD
       "<AxesSubplot:xlabel='NumberOfAwakings', ylabel='MinutesOfBeingAwake'>"
      ]
     },
     "execution_count": 4,
=======
       "<matplotlib.axes._subplots.AxesSubplot at 0x127d019d0>"
      ]
     },
     "execution_count": 177,
>>>>>>> f2a56fb897605fe6e919463fdcc44666c7e9f183
     "metadata": {},
     "output_type": "execute_result"
    },
    {
     "data": {
<<<<<<< HEAD
      "image/png": "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\n",
=======
      "image/png": "iVBORw0KGgoAAAANSUhEUgAAAYUAAAEGCAYAAACKB4k+AAAABHNCSVQICAgIfAhkiAAAAAlwSFlzAAALEgAACxIB0t1+/AAAADh0RVh0U29mdHdhcmUAbWF0cGxvdGxpYiB2ZXJzaW9uMy4yLjIsIGh0dHA6Ly9tYXRwbG90bGliLm9yZy+WH4yJAAAgAElEQVR4nOy9e5xcZX34//6cuex9s5t7yIUkJCEIRsSoCDGEm/WKl1YLWkutmGgtWFutVPttKe3PUtuKYL0kohWqopRWwUtVCIaAECAgBAKBJRtyT3Y32dvszuzMnPP5/XHOzM5sZs6Z3cnszmaft6/x7DxnnvM8Z4acz/N8rqKqGAwGg8EAYE30BAwGg8FQPRihYDAYDIYsRigYDAaDIYsRCgaDwWDIYoSCwWAwGLKEJ3oCpTBz5kxdvHjxRE/DYDAYJhVPPvlkl6rOGk2fSSEUFi9ezPbt2yd6GgaDwTCpEJG9o+1TUfWRiHxaRHaKyHMicqeI1IrIdBG5T0TavGNrJedgMBgMhtKpmFAQkfnAdcBqVT0HCAFXAtcDm1V1ObDZe28wGAyGKqDShuYwUCciYaAeOAS8G7jdO3878J4Kz8FgMBgMJVIxoaCqB4F/A/YBh4FeVf01MEdVD3ufOQzMLtRfRNaLyHYR2d7Z2VmpaRoMBoMhh0qqj1pxdwVLgNOABhH5o1L7q+omVV2tqqtnzRqV8dxgMBgMY6SS3keXAXtUtRNARP4XuAA4KiLzVPWwiMwDOio4B4PBYAhky64ONm5tZ3/3IAtb69mwdinrVhZUYpzyVNKmsA84X0TqRUSAS4EXgHuBq73PXA3cU8E5GAwGgy9bdnXwd/fupKM/QUtdhI7+BH9370627Jqa69VK2hQeA+4GngKe9cbaBNwEXC4ibcDl3nuDwWCYEDZubScSEuqjYUTcYyQkbNzaPtFTmxAqGrymqn8P/P2I5iHcXYPBYDBMOPu7B2mpi+S11UVCHOgenKAZTSwm95HBYJjSLGytJ56y89riKZsFrfUTNKOJxQgFg8EwpdmwdikpWxlMplF1jylb2bB26URPbcykbIfewdSY+k6K3EcGg8FQKdatnM2NuLaFA92DLJjE3keOo/TEU/TGU9SEx7bmN0LBYDBMedatnD0phUAu/YkU3QMp0o5T1nWMUDAYDFOeyRynkEjZHBtIMjTCLjIwlB7T9YxQMBgMU5pMnEIkJHlxCjdCVQuGtO1wfCBJbMTD33aUn+04zO2PvjKm6xqhYDAYpjS5cQoA9dEwg8k0G7e2V6VQUFV6BlP0xFOoal77Y3uOs/HBdvYeH7s7rREKBoNhSjOZ4hRiQ2mOx5In2A12d8T4xoO7eWpfDwACvGPVPL42hjGMUDAYDFOaha31dPQnsjsFqL44hUTK5vhAksQIu0FXbIjvPPwKv9p5hMye4XWLWvj4RWdw9vxpRigYDAbDaNmwdil/d+9OBpNp6iIh4im7auIU0rbD8cEksUS+3SCesvnRE/u564n9JNLuruH06fVsuGgpb1wyHTfd3NgwQsFgMExpqjFOQVXpjafoGUzh5NgNbEf59c4jfOe3r3BsIAlAS12EP7lwMe949TxC1tiFQQYjFAwGw5SnmuIUBobSHB9IkrLz7QZP7u3mGw/upr1zAIBo2OIPzpvPVW9YRENN/qP8mf09/PCJ/URmLX71aMc3QsFgMBiqgKG0azeIJ/PtBnuPDbBxazvb2o9n2y47azYfXbOEOc21eZ+tjYR47kAvN9/fRiQkoM6ogxWMUDAYDIYJxHaU4wNJ+hP5uYq6B5Pc/shefrbjEI6nQXr1/Gl8Yt1SVs5tzvtsJGQxozFKfTTMX931TJ6L7WgxQsFgMBgmAFWlL56mezCZZzcYStn8z1MH+cHj+xj0dg3zW+r42NolvHnZzDwjctiyaGmI0Fw77FJbyMV2NBihYDAYDOPMYDLNsVi+3cBR5Te7OvjWQ3vo6B8CoKk2zIfPP513n3sakdBwgjtLhJb6CNPqIid4GhVysR0NFRMKInIm8KOcpqXA3wF3eO2LgVeAD6hqd6XmYTAYDNVCMu1wbGDoBLvBjgM9fOPBdl480g9A2BLe89rT+KM3nk5zzqpfRGiuDdNSHy3qaZTrYjsWKiYUVPVF4FwAEQkBB4EfA9cDm1X1JhG53nv/uUrNw2AwGCYa21G6B5P0xfPtBge6B9m0dQ8Pv9yVbVu7fCYfe/NS5rfW5X22sTbM9Poo4ZB/SuxcF1vEGvUzXnJzZ1QKEXkL8PeqeqGIvAisU9XDIjIP2KKqZ/r1X716tW7fvr3i8zQYDIaTScZu0BNPYjvDz9q+eIr/2raXe54+RNprXzm3iU9cdAavXjAt7xr10TCtDRFqwqFRjy8iT6rq6tH0GS+bwpXAnd7fc1T1MIAnGKrDOdhgMBhOIoXsBinb4SdPH+J72/bS70Upz2mu4Zo1S7l45SysHPtATSTEjIYotZHRC4NyqLhQEJEocAXwN6Pstx5YD7Bo0aIKzMxgMBhOPsm0m9I6V6evqjzU1sWmh9o51JMAoCEa4oNvXMTvn7eAaE6VtEjIYnpD9ISAtPFiPEZ9G/CUqh713h8VkXk56qOOQp1UdROwCVz10TjM02AwGMaMk7EbJNJ5Ka13HenjG1vaefZgLwCWwLtWncbVF5xOS300+7mMe2lTTbis3EXlMh5C4SqGVUcA9wJXAzd5x3vGYQ4Gg8FQMfoSKboH8u0GR/oSfPuhPWzeNbzuPX/pdDasXcrpMxqybRn30ubaCNZJyF1ULhUVCiJSD1wObMhpvgm4S0Q+CuwD3l/JORgMBkOlSKRsumJDJNPDdoOBoTQ/eHwfdz95gJTtCollsxr5+LqlnLeoNfs5EaGpNkyrj3vpRFBRoaCqg8CMEW3HgEsrOa7BMJmYzPWBpyop26F7RCnMbBnMR16hx3M9ndEY5U8vXMJbXjUn78HfWBOmtSGaF5BWLZiIZoNhApms9YGnKoVKYRYqg1kbsbjy9Qt5/+qF1OV4D9VFQ7TWj79H0WgwQsFgmEAmW33gqUyhUpiFymC+7Zy5fOTCxcxorMl+Lhp2PYrGmnpiPKn+GRoMpzCTqT5wqVRKHTZRarahtM2xWH4pzKJlMNedwRmzGrOfC1sWrQ0RmmrHnqBuvDFCwWCYQCZDfeDRUCl12ESo2QqltC5YBnNGPR+/aClvWDxcBjNkCS11UZrrJta9dCwYoWAwTCDVXB/Yj2Kr9iB12FhX++OpZiuU0rpQGczW+gh/csFi3p5TBlNEmFYXoaWusu6lldw1GaFgMEwg1VgfOAi/VbufOqyc1f54qdkKlcJ8cm8333xwN7u9MpiRkPD+1y3IK4MpIq5HUX0kMGFduVR612SEgsEwwVRTfeBS8Fu1+6nDylntV1rNViildallMBtq3FiD3FQVlaTSu6bqc5I1GAxVzf7uwTw3SxhetW9Yu5SUrQwm3VQPg8l0Vh3m1y8Iv+uWg+0oXbEhDnQPZgVC92CSr9zfxkdv354VCK+e38zXP/RaPv/2s7ICoS4a4rSWOuY0146bQAD/7/9kYHYKBoNhVPit2v3UYQu3jn21f7LVbIVSWifTDnc/eSCwDOZEu5dWetdkhILBYBgVQcbxYuqwco3qQWq2Uo2vI1NaFyqD2Vwb5sNvOp0rXjNcBrNa3Esr7ZwwLkV2ysUU2TEYqovMA3i0q/ax9ivluhnja+6D8sYrzs5ev1BK62cP9PL1B3fnlcF872vn80fnL8o+/KvRvbTU73EsRXaMUDAYDJOeqzZtO0GlMphMM7uplu9f88YTUlof7I7zrYfa2do2ogzm2qXMb3HLYJZSD7naqebKawaDwVAxirms7js2wP7uQR59+Rg/fGI/B3sHQYXjA0lsLV4GM7ce8lRLWGiEgsFgmPSMNL46jtI/lGJWUy2PvnyMr2x+iUTKoS+RIlPyoKU+wifXLcsrgzmyHvJUTFhohILBYBg3glbdY12VZ4yvA0MpIiGLwaRN2lH+cPUCvvngbrpiSdKeNLAEmmrDLGqt59Kz3GsXq4c8FRMWmjgFg8EwLmRW3R39ibxV9xavMlnQeT/WrpjFZ9+ygua6KL3xFDMaanjfufP5wRP7eOX4YFYgTKuLsHhGA7ObaujoTxAJWcxurmV+S13BdNaVjgmoRoxQMBgM40LuqlvEPUZCwsat7SWdL0Z/IsWB7jhnz5/Glz/wGr78h+cyozHK1x7czbMH+wC3vsHp0+uZ01RD2BKG0g4LW+tZ0FpHY01xhcnC1nriOdlRYXInLCyFigoFEWkRkbtFZJeIvCAibxKR6SJyn4i0ecfW4CsZDIbJzv7uQdK2Q3tnjF1H+mjvjJG2neyqe7Sr8kTK5mBPnM7+IdKOw8BQmm891M7V33k8Wxd52axGrrlwCa31URxVFEjaDqrwyYuXBbqYViqSupqptE3hFuCXqvoHIhIF6oHPA5tV9SYRuR64HvhchedhMBgmmKaaMG0dMUKWELKEtKMc7EmwfLZbf6DUSN207cYbZEphFiuD+dELl3C5VwZz2exG/vvJAxzti7NwekPJtorJmLCwXComFESkGVgL/AmAqiaBpIi8G1jnfex2YAtGKBgMpzzZmKhMaJTmtwdF6o4shVlqGcyGmjDve90CrnzjojHNe7IlLCyXkoWCiNQBi1T1xRK7LAU6gf8UkdcATwKfAuao6mEAVT0sIgW/bRFZD6wHWLRobD+mwWCoHmJJm/kttXTFkiRth2jIYm5jDQNeniG/VfnIUpillMEs5lFk8KckoSAi7wL+DYgCS0TkXOBGVb0i4NrnAdeq6mMicguuqqgkVHUTsAnciOZS+xkMhuokox5amlOuMhN1nGHkqnwobXOoJ54thVlKGcxIyE1Y1+BjQDYUp9Rv7QbgDbiqHlT1aRFZHNDnAHBAVR/z3t+NKxSOisg8b5cwDwj2NzMYDONKJaJ4N6xdymfufoaDPXFsRwlZbmGa//eOV53w2ZGlMOMpmy//+iV+82JHNvhsdlMNf3HZct64xC2DGbYsWhoiNNVUT46iyUipQiGtqr2j+aJV9YiI7BeRMz2V06XA897rauAm73jPKOdsMBgqSCWjeAVAPTuCCiOfKCNLYWbKYH5zazv9CdewHBJorotgCVgIIcuipT7CtLqIEQYngVKFwnMi8kEgJCLLgeuAR0rody3wfc/zqB34CK4b7F0i8lFgH/D+0U/bYDBAZVb0pUTxjmXcjVvbCYdczyNb3WPYi0NYt3L2CaUwR5bBFNy6yK1egrp4yubupw7w/tcvnLQJ66qRUoXCtcAXgCHgB8CvgRuDOqnq00ChDH2XljpBg8FQmEqt6IPqIY913LaOfnoHU1g5Lqld/UmS6T4O98azlc8KlcGsjVjMba4hGnKNxpblZjA92pcwAuEkU2rw2lWq+gVVfb33+gLwD5WcmMFg8GesEcBBBEXxjnXcZNoBAUsE93+gKImUQzxpFymDOY2vf+i1rJzTjO24wiAStoiELBJp55SOLJ4oShUKfyAiH8q8EZGvAbMqMyWDwVAKlcrLs2HtUvriKdqO9vPC4V7ajvbTF09l4wWCIpOLEQm5K3rbdnAcB8ezGEcs+MFj+/jwtx/n3mcOZQ3JNWGL1y2cxsq5zXz4/EUokLIdBKZEZPFEUar66H3AvSLiAG8DjqvqJys3LYPBEEQla/UqgLiFZpDheDMIjkwuxoo5zezu7Kc/kSZlO4QtIRoKMZByuO3hPdnPWeK+bMfhjsf20Vgb4TNvXcmMxpopFVk8UfgKBRGZnvP2GuAnwG+BG0VkuqoeL9zTYDBUmkrV6t24tZ1pdRHmTavLtuUamoMikwuRTDt84HUL+NKvX2RmYw2qSkf/ELEhV00V9uwCqkrYq4ksQNpxuGPbXj7z1pVTLrJ4ogjaKTyJ+5NLzvEd3ktxo5YNBsMEUG5enmIeRPu7BwkJtHfGspHHMxujWfVQUGRyLo6j2VKYr1nUwofesIhvPbyHXi9HEcDaFTP52JuXcvV3HidskXVTFXF3IoWua6gcvkJBVZeM10QMBsPoGevq2c+DqDEa4uXOAUIihERI2656aNmsBqC0yGSAvkSK7oEktqP0xVP817a93PP0oWxtg7PmuWUwz5k/zTNYh0ik7DxvIkehIWrSVIwno8l9dA7wKiD7y6vqHZWYlMFgKA2/eAG/c36xCCKCqpJUzeoHLMgGhgWprRIpm67YEMm0Q8p2+MnTh/jetr3Z4DN33BBRy2JwyKaxJkxrQ5T1b17KLQ+8TNpxsMQVCI7CNWuWBN6P4eRRau6jv8fNbPoq4Be4xuaHASMUDIYJwm+1D/jGEvjFImTdUTMywRMMnbEhoLjaas3ymXT0JYgNubUHHmrrYtND7RzqSQCuN1E0bDGtNkxdNERPPMnXtrzM3Gm1rFs5m+suWwHAbQ/vYSBp0xANcc2aJVx32YopWSt5oih1p/AHwGuA36nqR0RkDnBb5aZlMBiC8FvtA75RyX6eSzsP9WJZQtQa9lhPO44bZ+CRq7ZSVXrjKfZ3x1FVXjjcxzdzqp5ZAu96zWnsPhqjN5GiPhombAm1kRMjpa+7bEVWOJR6r0YonFxKFQpxVXVEJO3VSejAGJkNhpPCWNUifqt9Bd+oZD8V0F/999PEU66RWAQyTkXR0ImRw7GhNN1eaoojfQlue2gPD+TUVH7T0hmsX7uE02c08MFvbaO1Ppr1Lho5p7Heq+HkUqpQ2C4iLcC3cD2SYsDjFZuVwTBFKEctEhSn4HfOz3NpxZxm9nTF6E+ks95FTbURlswcNiwPpW2OxZIkUjaxoTQ/eGwf//PUAVK2K0GWzWrk4+uWct6iVkKW0FIXZfGMBjpjQ3lCodS4ikrGZBjyKUkoqOqfeX9+U0R+CTSr6o7KTctgmBqUoxYJSkUdFMNQzHMps4uYOy18Qt9MSuvNzx/lzsf30X5sgMGkje15FOWWwQyHLKbVRWipi2BZwscvOmPMcRWViskwnEiphuY7gIeAh1R1V2WnZDBMHcpVixRLRV1ODEOhvuvfvITXLmpl//FBHn25iy/9+kX6E+mse6kAl541m09fvoK6SIim2git9ZG8XcHJnpPxPqoM4heFmP2QyCXAGuDNuLaEp4GtqnpLZafnsnr1at2+fft4DGUwjCtXbdp2glok4/N/5/rzK9Z3NOSmtH65I8Zf3vUMsaF09nxzbZjGmjCzm2rZ+Mevo7U+SjRcalo1QyURkSdVtVCm6qKUqj56QEQeBF4PXAx8HDgbGBehYDBUO2M1FgepgPyuW2njazLtcGxgiHjSLlgGsz4SYlZTlJpwyHNZTTCnudb3mobqp1T10WagAXgUV430elU1ZTQNBsqva1BMBRR03UoZX20vNUV/Is1gMs2PntjPXU/sJ+G5pNaGLRprw7TWRbAsi5AlDKVtFk1vKGtcQ3VQqvfRDuB1wDlAL9AjIo+qatyvk4i8AvQDNm5Jz9Vekr0fAYuBV4APqGr3mGZvMIySaqtUtnFrO811EeYWSD4HkEzbHIvlegGFs9fdsHYpn737GQ52x0k7DmHLPV+o5nEpqCp9iTQ9g0l+29bFNx7czcGeeDaVdWt9hD+5YDEzG2r49/teZN/xQWzVssc1VBelqo8+DSAijbglNf8TmAvUlND9YlXtynl/PbBZVW8Skeu9958b1awNhjFQjZXK/PoOJtP0JdJuHWIvB9GxgSRpuy/7Wb8U16NhMJnmWMy1G3x/2z5uf/SVPCNyfU2IT12ynHUrZ/PcwV5EQCxBHMoa11B9lGQNEpE/F5Ef4RqY3wN8BzfVxVh4N3C79/ft3vUMhopTjZXK/PpmfP4tSxARLC9RXNJrz6S4Xj67iZVzm1k+u4lpdZFR3U8y7XCkN8GR3gRtHf38zf8+y7d/uycrEJpqwiyeUc/0+ig/e/YwC6fX8/3H9tFSHy1rXEP1Uqr6qA74MvCkqqYBvFQXQSjwaxFRYKOqbgLmqOphAFU9LCIFl2gish5YD7Bo0aISp2kwFKdShtkgH3q/cf/x3ecU7fuZu58hnrRxNCeyWMl69uzvHmQolWZP1wCOuukkZjRE8tJRFCM3pfXxgSG++8gr/HzH4ayqKBpybRvxVJojfQ6zGqPZeshBqbX9MEntqp+Sdgqq+q+q+hjQICJ/KiL3A0+V0PVCVT0Pd1fxSRFZW+rEVHWTqq5W1dWzZpnKn4byCVrRj5V1K2dz4xVnM7uplt54itlNtdx4xdnZh53fuH59l89uYmZTlLAl2I4StoSZTe4KHQDHoTOWyj7IHYXOWAp1/IVCXyLF/u5BOvoSfH/bXj787cf56TOuQJjfUsecphrStqJAyBIchUO9QzTWuGvIxmiIgz0J0rbmpdYOSnGdUaN19Cfy1GhbdhmflWoicKcgInXAFcAHgfOAJlyVz9agvqp6yDt2iMiPgTcAR0VknrdLmIebR8lgqDiVjIr1q2sQNO5YIosBjsfTJ/TJbb/1/pfyMo5e/abT+cM3LCKRsvnNrg6+9pvd9HjFbkKW8Laz53Ltpcv4s+89SVcMBHe3kC205v0h4gqpdI4lQRhOrV0Mk9RuchBUjvP7wFrg18B/AA8AL6vqlqALi0gDYKlqv/f3W4AbgXuBq4GbvOM95dyAwVAqExUVO9Zxg/rFi1Qkiydtbr3/JW554GUsgZAog8k0X9uym90dMXYfG+TFI/3Zz7fUhWmIhnlqXzftHQMM2cqC1rqildUO9sRPMCyr1+6HSWo3OQjaKZwDdAMvALtU1fbsA6UwB/ixt3oIAz9Q1V+KyBPAXSLyUWAf8P6xTd1gGD0TVed3rOP69bM8tVLuAl3Vbb/t4T0ISkgsFMFCsR3lFzuPZj9bF7GY01RLNOLFGqRs7ti2N7CyWkY4jBw3qGymSWo3OQgqx/kaEVmJqzq6X0Q6gCYRmauqRwL6tuPWYBjZfgy4tIw5GwwVoRwj6EQYUBuiIfoS6RP8QRuiITcNhUKigH1h5dwmjvYlmNkYJewFn4kIoagEGr/BNVLDsFopQ6a9GBOZ1M4YuEsn0NCsqrtU9e9U9Uzg08B/AY+LyCMVn53BME6UYwSdKAPq2adNY3p9xPVMwl25t9aFWTa70S1nWaBPSOA/Pvhals5sdI3XIStrCyjF+A1QV8SgXKw9Q9B1K4UxcI+Okms0A6jqdtzaCn+Fa2swGCYVfpHF5UQlj7UvnGgQzpSgDDqXiWiOhixStkPYEhQ4a24zT+3rKXj/FrCgtZ5rL1lW0qq90Np/el2YwQKqoul1wY+TIDXaREWcG4YpNffRrQWae0WkRVWNodgwKRhrZHEl++440JM1CIctd7V+ywMvZ69T7FxGMDiqKK5dwUbpH7L5/uP7Ct6/AI4ItZGQrxE7MPLbspjVGOHYQCovPkKs8jKjTlTEuSGfUncKtcBK4L+9978P7AQ+KiIXq+pfVGJyBsPJxG/FGGQErVTfnYd6vYe++0C1xK2HfNvDe7LvC5277rIVfH3LbhpqwjTXRuiKJekfSpNZ22cqZ4ZDVtZdNO041EWGVTzFVu1BK+vM/c6dNmwgzjVEj5VKreiNgXt0lCralwGXqOpXVfWrwGXAWcB7cV1NDYaqZ3/3YN5DEYZXjBvWLqUvnqLtaD8vHO6l7Wg/ffFUXlRy2nZo74yx60gf7Z0x0raT7dsbT9HW0c+uI320dfTTO6JvsXEHkjbWCPd+S1xPnmLnYkNpDvfG2XMsxvGBJHuODXoCAcKW0Fof4eo3nY6tMJR2SKQdEimbtK1cs2ZJ9lpbdnVw1aZtrPmXB7hq07asjt1vvuCqrVK26+aq6h5zVU/FrlvO71MOQfM15FOqUJiPmzo7QwNwmqrawNBJn5XBUAGCIpr9kss11YTdKF6v5kHacaN4M1G++emvIfdZ7jduQzTESKcdR10PopHnVF230tqwxQ8f38+xWJLY0PB1Q+J6AM1sjLJm+Sym1YXz5tFcF2bVghbA3/ga9D35GYzLMepOVMS5IZ9S1UdfAp4WkS24/72vBb7oBaXdX6G5GQyjxs9Q6ecSmUkuN69ACut1K2dno3mzkiInynfj1nbCISFkCba6x7CX8C6T4rrYuDsO9PCVzW2k7OGHoSVkV/S3PPAyKdvdMdiOKzAiNSFu2dyW9/mQuBHINm7qiW89tIeZjTV5NQ5y72fj1nZSdn5a7uY6Ny13Ka6jY1U9jfX3KZeJik+ZjJSa++jbwAXAT7zXGlW9TVUHVPWzlZygwVAqQatUvxVjkOoilrSZ31JLOCRuDYGQML+lloGkTVtHP139ybxdRFd/kraO/sBxVy1ooTEayqqJLHFzC61a0MJ1l63gzy5aSm04RMp25ZACvfEUAtRGLOY0RakJWygQCVssaK1jIGkH3o/fnMtZWfuNW87vYxg/RuOSagGdXp9lIrJMVQPzHxkM40UphspiK8YgY6RflO/OQ70gYHn+/iLgiOZlK/VbWc9qruX0EXWWv/HgblbOa+bNK2bR1jHAr3YeyaqSXreohY9fdAbfeHA33YNJZjfn724yBl+/+0mmHd85j3Vl7fc9lvP7GMaPUusp/AvwW+ALwGe912cqOC+DYdSUY6gMMkb6GZMjnquP4yiqmo3sjYak6HjF5qyqRCxhT1eMr//mZf7424/zS68u8ukz6vnn953DzX94Lhcsm8l1lyzHdig456D7KWfOQd9jMYN9pQzJhpNLqTuF9wBnqqoxKhuqlnJcD0tJWleslvKKOc3s6YrRn8gtmxlhyczGAiMVn7PtKCnbdt1LE2nu2LYXGC6D+c7XzGNmYy3NtW6xnqA5+50rZ85BFDPYG9fQyUGpQqEdiGA8jQyjoFL5Zopdt1xDpZ/qYuPWduLJdLZ4fdpxCHuqj6AU135sWLuUv73nOVK2q9/v7B/KVlyLhi3e/7oFfPANizitpY5pdZFs9bWR+GUdKnSunDn74Wewn8jcR4bSKVUoDOJ6H20mRzCo6nUVmZVh0lOp6NSg61YqNfbT+7uJp/KzCcWSDk/v7x7zuCnb4azTmnn/eQv49m/3uMntPC47azbXvHkpy2Y30lofJVRAGPh9F4Dv91Sp78oveniiUpcbRsl56LwAACAASURBVEepQuFe72UwlESlolODrlspQ+VIgTCyfTTjZkph7j02yH8+sievDOaqBdP4xEVncN7prbTWR7OlNwvh910AE2LUDVIRGUNy9VOSUFDV2ys9EUN1MlYVUKXyzZSSZ8hvvmNNTBdEqd9TXyLFkZ44d20/wA8e35dNLDe/pY71a5dy2VmzmdFYQ61nkPW7rl+NZoXA778S6j2jIpr8BFVeu0tVPyAiz1JANamqqyo2M8OEU44KqFJGRb/rBs13rInprrtshRuYVqBeQMiSkr6neNKmM5bgl88d4baH9tDR72phm2vDfPhNp/P75y1gTnMtDTXD9xV4Xa9Gc4ZMjeYF0ywWzmj0/f4rpd4zKqLJT5BL6qe84zuBdxV4BSIiIRH5nYj8zHs/XUTuE5E279g6xrkbKkyuekLEPUa8SN0gKpVvxu+6QfP1O3/bw3uyyecssbwj2cR0V6yaW3A+V6ya63vdlO1wtC/Br3Ye5mN3PMkXf7GLjv4hwpbw/tct4M6Pnc+Gi85g6azGPIFQyvefqcXsJrwbTq1xPJ4O/P7L+W2DWLdyNneuP5+HPncJd64/3wiESYavUFDVw95xr9e03Pu7Azhe4hifwi3nmeF6YLOqLgc2e+8NVUg5fuWVik4tJyo5KDGdqjKUtkmkbIbS7vtMicmbrzyP9547L2vwDVnCe8+dx81XnlfwurVhi73HBtjWfoy/uusZ/uJHz2TrIq9dMZPb//QNfOEdZ/Gq05pprs1X82QIup+htEPIc/n0Ui4RErc96Ps3MQOGYpRaT+FjwHpgOnAGsAD4JgFlNUVkAfAO4P8D/tJrfjewzvv7dmAL8LnRTdswHpSrAqqUUbHcqORC57tiQ8RTw+ohVVcdUxcZ9vq5+crzuPnKE+cz8rq2o/TGU6Rs5SP/+QRpT+101rwmPrFuGReeMYOWIh5Fo7mfmrDFYNJ2dwgCKNgK9RHL93sq5dqGqUupWVI/CVwI9AGoahtQyr/2rwB/TX5lwDk5O5DDJV7HMAFUa8rhYqmZg1JY+93PzMaagmPltgeN+9LRPp4/1MuLR/s41JOgMzZE2lHmNNdwzmlN7Drcz3V3/o43fHEzn7nrd4H3GXQ/mUpnuTuF3PZb73+JVTf8ijM+/wtW3fArbr3/pbxrl/PbjjU9tqH6KVUoDKlqMvNGRML4x8sgIu8EOlT1ybFMTETWi8h2Edne2dk5lksYyqQaE5QFJVXzS2Htdz/xlM3IdbtANpWz37i2o9i24x7VzWaquCv59WuXsuq0Zp471J/9B2M7yo+fPsynf/hU4P363U+mAlpuMr1ZjW4FtFvvf4lbHniZeMrOM5xnBEM5v62peXxqI9mUwH4fEvkS0AP8MXAt8GfA86r6BZ8+/wx8GEjjVm5rBv4XeD2wTlUPi8g8YIuqnuk3/urVq3X79u2l3ZHhlOaqTdtOUHv4JYHLnLtz/fm+1111w6+8B+jwOilTqWzHDb9XcNyBoRTTG2rojafYe2yQpD28IW6sCbFkZgN3bbiAc274FbbjlszMoOraJXZ/8e1jutc715/ve37noV7f+ymHoHkZqgcReVJVV4+mT6k7hetxM6Q+C2wAfgH8rV8HVf0bVV2gqouBK4EHVPWPcIPgrvY+djVgajwbSsbPQOpXHS2ISEhwVEmkbOIp19jsqGYTxI0c13YUVXjuYC9tHbGsQBCgJuxWP+sZTFEXDRV0Zc1cY6z3Cv4qIL+KbuVSzvdsqH5KrafgqOq3VPX9qvoH3t/BW4zC3ARcLiJtwOXee4OhJPyqcwVVR/NjdlMt6jCsnxFQB2Z5O5DMuI4q8aTtlcMczOZCAje+IRoWVOFw71B23GIG5VIMzWOtgOZX0a1cGqMh93u23YI+adv9nk/GtQ0Tj69QEJHlIvJdEfmyiCwQkf8TkZiIPCMiry91EFXdoqrv9P4+pqqXqupy71iqa6vB4Ls6zquOlnkBpaxfVBUHV62Dd3Ry+n5szRLiSZuD3XH2dMXoHnSDxpprw8xqiGIBFpL9X+64mRgH1eFXbvtY7jVDsZiAa9YswVFXZeSo4x3Jq9E8ViSjB5OcV267YVITtFP4T+AR4BDwGPAdYCZuLYX/qOzUDIYT8Vsd+1VHC2LPsVjh9q4YPQNJjvQnSNlKTzyF7aWUuOys2fz02jVEIxYLp9cRCVsFx10ys7GgETsoTXU5xuDrLlvBpy5ZRl0kRNpx1U6fumRZyWk7/OgfSrvfsxflHbbc+40NpYM7G6qeoH11o6puAhCRj6vqf3vt94nIv1Z2agZDYYLiFApVRwui2PNsyIaP3P4Ev9vXA7jC4K3nzOUT685gxZwmasIhFk1v8B33tof3EA7JCUbf2x7eE/iQLifW47rLVpwUITCScr5nQ/UTJBRy4wv6fM4ZDCeNsSa127B2KZ+5+xkO9sSxPbtCY02Y//eOV5U1n4xAeN3prVx7yTLesGR6nudNUBK4gaTrFprLyTL6TgQm6d2pTZBQWCkiO3B3u2d4f+O9N/8FGE465SS1g+LV0YKwhBMMsxkWz6jnzy9exu+dM5emAikpgpLANUTdB2euXflkGX0nApP07tQmSCicB8THYyKGUw+/FX+xc24SOZtjseEykc114WwdgKAaAs11EeYWqPrl98BSVZprLHoSJ25+68LC/3ziAqY3RPnq5rbA1NqF5Mo1a5Zw8/1tpOzhnYEA11wcbPQtJ533eDBWF0RD9RIkFH6gqueJyH+p6ofHZUaGU4KxVgVr6+indzCFZUnWrbSrP0nKdpPJ+dVTKKWGwEgGk2l++dwR+goIBHDdRmc01mQjhAul1l61oCUwDfXIh2cpD1O/MSdSMFQq7bahOggSClERuRq4QETeN/Kkqv5vZaZlmOyMtSpYMu2AgOW5N4qAI+q2E5zIrdQkb8m0w5N7j/OV+9t4bE9xr+h42n1856bWBlfdlDEWn33aNN8qZ7c9vIfIGAzNfmNOpFCoVFU9Q3UQJBQ+DnwIaOHE+gmKm7bCYDiB/d2DhATaO2NZNdDMxmh2RZ9M2XkVw2Y2REmmHSIhIZ5yS1aKDPv0ZyKLg4ycQQZQ21F2d8b46gNteWUwc8mo/t1Ec+4HBpI2Fuql1HaFVcgzFvvda1BfP6rVQF2pqnqG6sBXKKjqw8DDIrJdVb89TnMynAI01YRp64gRylEDHexJsHx2I7GhNB2xZDbuSRU6YkkWttaxYk4ze7pi9CeGbQpNtZGsT3+QkbPYOVWlo3+Ibz/czve25ZfB/OTFy/jiz3cSTznZjKMibhBPpvBNTchiMCdpniqkvDTVjdEQL3cOEBLJi/BdNqshsK8f1WqgNmm3T20C4/9FZDZwuojcjbt4eh74mqqalIhTHD9DsqqiqiTTiuI+/C1x27tibinKkYv0rtgQ//juc7juzqe8lBJgOzYhoaC7YyG9fCG//oFEmh9t3883H9ydVwbzTy5YzEcuXEJrQ5Su/gS3PPAyIRn2RMqNAJ7eEGGwxz5hzOkNEUTEvVcn/14zEb5+ff24Zs0SvrI530BtycmJSi4H45J6ahOU5uJC4Ancf393AN/zTj3unTNMUYLSJ3cNJF3VT24uIXXbE6nCRt1EymHHgR5iSTur1nEUYkmbHQd6Sho3l2Ta4ZfPHeZ933yEG3/2fLYM5h+uXsDPr3szn758Ba0NUSA4AjiRdgpGJSfSDp2ekCNTEtP74HC7FE5xHZAWYtWCFhqjobx+jdEQqxa0+ParNNWYUt1w8gjaKfw78B5Vza0Ico+I/BjYCLyxYjMzVDVBxsZk2iFUwLiaTDtYXnqEkamkLUu47eE9hCyhpohRthQjp+Mozxzo4cv3vcRDbV3Z61y0YhZ/efkKXj1/GlaBZHR+EcDJtFMwKjljALcsIVrkXEbdMnfasHqllAjgjVvbmdVcy+kjUlRXg0G3UlX1DBNPkFBoHiEQAFDVp0WkqUJzMlQRxVREQcZVX4NxNERfIs3IPHUN0VCgcTXIyLn/+CC3bH6JH//uUDY19VnzmvjLy1dw8Zmzebitiw/d9tioYieC7keBgaSbdjurPrJKN44XI+g7NhgqQZBQEBFpVdXuEY3TKb0Wg2GS4uePHmRc9TMY9wwmiR3pz8uTYuEafQ/2xH2Nq8WMnHOaa/m3X+3iu4/szSZmm9NcwycvXsYHVi+gNhIec+zEupWzfe+ne2CI7oFU3nenznApz7FGAPsZ6w2GShH0YL8Z+LWIXCQiTd5rHfB/3jnDJGCs9XQz0cVHehO8eLSfI70JUrbNxq3tiAiOoyQdh0TaIek43ip6eHWcdhTbW1LbqqSd4RTXInnmBm/1rVyzZglpO7/YTdrWrHF1w9qldMWGeO5gL896r4M9cdq7BviP3+wmNpR2de81IRa21LOotZ7aSDjwfvzOZcaNhkPMnVbLmXOamDutlmg4xIa1SxERV30UtqiNWETDFpYlBW0Go4kAVu87G0o7JFIOQ2mHtKMlpQI3GMaKr1DwMqT+A/CPwCvAHlyvv39S1Y0Vn52hbMqpp9vW0U9XfzKvaE1Xf5K2jn46+hOIxfBTTkEs6OxPZPsXqy/sZ4RetaCF5rr8DWxzXThrXN1xoIe+eDrv4ZpIORwfSGIJ1EdDLGipY/GMBrrjybx79bsfv3Pgb1wNSiU91t/gQE9hNdHBIu0Gw8kg0CVVVX8G/Gwc5mKoAOVEnwZFF1siRCMjjKu2ZsctlofIzwi9cWs7MxtrWDS94YR+mehgS1xZlBt4FhI4a14zg8k0DTWRgvcadD++5xh7yu6x/gbxlGbnkkEVBlNmp2CoHCXZBUTkSyLSLCIREdksIl0i8kcBfWpF5HGvSttOEfkHr326iNwnIm3esfVk3IihMEF1fv2IeIZSx1NZON5TOBpyVSUoOKooiuPtBqKeldhvXL/r+tX/7exP0JdIY2u+QMhsWHriqTxbw8h79RvX71yGYmq4oAppY/0N8irJ5RyN+shQSUo1Fr9FVfuAdwIHgBXAZwP6DAGXqOprgHOBt4rI+cD1wGZVXQ5s9t4bKkRQnV8/VsxpZkZDNK+S2YyGKMvnNLN8dhMzm6J5KpOZTVGWz24KHNfvuoXqLO8/HieRsrnsy1sLztMBaiOhwHv1G9fvHPirgIL89sf6GzTWhAlZ3k4hkx7DoqSa0wbDWClVKGR8AN8O3FlKXWV1ydQ4jHgvBd4N3O613w68p/TpGgrhZ0gupc5vMfyMqxvWLiUSyj8XCYWy1x1pEH7uYC9dsaFs357BJANJ1zVzIGnTM5jMGqHdSOhh46oDdMaS9MZTResjTK8Ls2HtUjr6Euw85I6581AvHX2JvDn53U+xc5CvAhJxj5GQZA3RGQqt4cf6G7jGddfzKBp2jyATHtFsOLUpVSj8VER2AauBzSIyC0gE9EFEQiLyNNAB3KeqjwFzVPUwgHcsqFQVkfUisl1Etnd2dpY4zalHkBGznOhTv75B180YhHPpi6fZcaCHe54+QCKd//hMpJV7nj6QNUIXeri+a9U8ptWFGBl3ZokbWbzjQA8DI6KhB3Kiocu5Hz8VUKV+g0rWWTYYiiGl6ic93X+fqtoi0gA0qeqREvu2AD8GrgUeVtWWnHPdquprV1i9erVu3769pHlONa7atO0Ev/2MkfPO9edP2LxW3fAr4in7BGNyXcQNUCsU0RyyhNqwMJh08oSCAHURi+f/8W2+1wWKnttxw++VdT9+3zOcmLK7Gn4Dg0FEnlTV1aPpU5JyUkTqgU8Ci4D1wGnAmZTolaSqPSKyBXgrcFRE5qnqYRGZh7uLMIyRctMYl1PZy6+vX2RyJtJ45HrEdpSB5HCj4HoVKa6rKbiG7HjSxtGcyGLPwN09mApMUR1U/7kYflHJf3vPcyaVtOGUoVT10X8CSeAC7/0B4J/8OojILG+HgIjUAZcBu4B7gau9j10N3DPKORtyKMeQnKns5a6uhyt73Xr/S2X3bYiGTqhVkIlMLpB2KA8BIpZgCdREQsxqqskafP0M3DVhi5RDNgZCFVIO1HjSqZyYDT8VUDm/gcFQbZQqFM5Q1S8BKQBVjUNRm1+GecBvRGQHbqbV+7yYh5uAy0WkDbjce28YI+UYknMre1lieUe3PUMxI3ZQ32vWLMFRV33jqOMd3fbWuuIb1MvOmk19xPUAstV9uA4MpfOMxcUM3NO962ZqImRkUqa9VGNxMdatnM2d68/noc9dwp3rz8/uMMr5DQyGaqNUoZD0VvsKICJn4LqcFkVVd6jqa1V1laqeo6o3eu3HVPVSVV3uHQM9mQzFKceQPJC0CxptM+oWv5V1UF8/I2lfIt8AnSFqwar504indUzGYiyrcIpqKzh2ohxMKmnDqUSpDs83AL8EForI94ELgY9UalKG0THWNMZBlb38InFLqQo2MhX1oZ5BPv2jpylSToGkQ2DqbL/7DUpRXcmKYSaVtOFUoSShoKq/FpEngfNx1UafUtWugG6GKueaNUu45YGXSTtOwWpjfkbsa9Ys4cv351cFA7j24mEf+oxRd++xGCJCVyzJULqIRPAopS7xp3/4FPfuOILtBbhdsWouN195XmCK6kpWDBurAdtgqDZK9T7arKqXAj8v0GaYpGRW3sU8iPxW1nu6YgWvmWnfsquDv/3JsyTSDj2DKdKePqg+GiKePLE0JbguqUE7kE//8Cl+/PTh7DnbUe/9U9x85Xm+KarHmsI6CL+U3EYwGCYbvnEKIlIL1AO/AdYxbFxuBv5PVc+q9ATBxClMFLkPu9yV9Y1XnM1H79heNNZg9xffztu+spXdnbFsgjwBmmrDrJjdyMLpdXkP9gzvPXceS2Y2cssDL2ONqJWcsUec8flf+I47EVRrrIjBUIk4hQ3AX+DGJTyV094HfG100zP4UY3qB7+VtT3S39TDdpSrv/M4Lxzpz7YJUBMWWusjHO0f4u4/uxAorALKUGz34jfuRFFurIjBUE34CgVVvQW4RUSuVdWvjtOcphzVrH4oZkANeXECGXI3nA++NJyWJCwQDlmokleZ7eYrz+PmKwuP6VcreeS4ue0TRSUN2AbDeFOq91GviPzxyEZVveMkz2dKUk7Ng4niilVz+fHTh0+ISgaY21wLKEf7hkgrpDP1F6BgNbKR+O2aio17xaq5gX0rRSUN2AbDeFNqnMLrc15vxnVRvaJCc5pyVMp/vpIsntFQsP38JdP5zV9dxGABY7IDHOyJ+143KOr45ivP473nzsvuDEKW8N5z53HzleeVFbFcDiZOwXAqUapL6rW570VkGvBfFZnRFGSyqR+eeOUYtzzwcl5bphbN84f7qKsJZ11IRxqEc11LC1HKrqmY6mkid1wmTsFwqjDWah2DwPKTOZGpTCnqh3LUIier76yGKGIJT+3ryZ53U10IIcvCUSf70HeKJL3LtBebUzlGW2PwNRjKp9Q4hZ8ynErGAl4F3FWpSU01gvznyzFEn4y+Fspg0uZ33b3Zcxm7bk14WO2VG09QG7GIFwhdro1YvnMqZ9c02XZcBkM1UupO4d9y/k4De1X1QAXmM2XxUz+4xe5tjsXSJG2HaMiiqTZcklokSKXil/76Gw/u5vjAELGhYZWPJXD6jHre85rTuPU3u4tGQ89srGF/94n2g5mNNb5z2rB2KR//3va8Ijy1YeH/veNVgd+hMfgaDOVTqk3hwUpPxFCcl4720ZdIYyGEREjbyrGBJGm7L7Cvn0olk/7aVQENp79WVVbMa+aJV47npb/O2A364yk+dfmZiEhRgRJP2Vi4xuUMltfuNye/qmxBArBSEcsGw1SiVPXR+4B/wS2dKd5LVbW5gnMzeKS8qGDL09mIuLr5TLSwH34qldz01+DuApJpm1sfeBl7hDAIW4JlWaQdJzuuXzxBMu0QCp2Y2C6Zdlg+u6nonO7dcSR7jxlU4d4dR4rGNeRiDL4GQ3mUqj76EvAuVX2hkpOZyvgZg/2qjQX19VOpfPSO7dnkc47jkHY0TxhkCtk44AoCx139Z8b1Uz1FQsJAUkmkXNdUASwLoiHxndOj7ccKfj8nK2K5GiPHDYZqotQ4haNGIFSOIP96v2pj5RSNb4iGSNtKMm0zZA8LBEtg04dfx7JZDa5BOVOwxjs/q7EmsPLa7KZa1GE4W5aAOjCrqdZ3TsUik09GxPJExTEYDJOJUoXCdhH5kYhcJSLvy7z8OojIQhH5jYi8ICI7ReRTXvt0EblPRNq8Y2vZdzHJCaoIlqnsZXv+nbZqdmW9cWs7/Ykke7oGeO5QH3u6BuhPJPOqie040MPOQ70c6k2w81AvOw70YDvK6tNbsZW83YEA1128jLec7UYIj3QpVQVVDay8pqpYlhC1LGrDFlHLwrKETALGYlXMMpHJ7jjD42faK/k9GwyG0tVHzbixCW/JaVPgf336pIG/UtWnRKQJeFJE7gP+BNisqjeJyPXA9cDnRj3zU4hS/OsF3BW7KqhkF+DPHeyhP8c7yFHoHkzz3EE3lqCQMfnm+9v47iOvcHwwlTdmY9Ri/dozsiqgztgQYrkr/Ow8LOiKDQXWPYglbea31NIVS2Y9puY21gQGr7lJ8fyT5Y0VE8dgMARTqvfRqKusqeph4LD3d7+IvADMB96Nm4Yb4HZgC1NcKAT512/c2k5zXYS50+qy5zMunINeLMBIw2ymPXdFbzsOtqMoZAXC2189j79520oWTj/Rlz9lK5YI0cgIY7GtgXUPMve0dFZj3pwzVdD88EuWVw4mjsFgCMZXfSQif+0dvyoit458lTqIiCwGXgs8BszxBEZGcBS08onIehHZLiLbOzs7C31k0rFlVwdXbdrGmn95gKs2bcvqsoMKv/vlRsrWw9CcF2TbB5KuETeesknamudi+uNPXMDXP3ReQYEArkHZcZRE2iaRskmkbRxHiYYtrlmzhLTtGpLjKfd82tZsnEI1FrOvxjkZDNVGkE0hY1zeDjxZ4BWIiDQC/wP8haoGO9Z7qOomVV2tqqtnzZpVareqxc/IGZRQbWFrPfFUvtols8JtrAkTkuGdgojrQtpYEyaeTKNFvHYiAq893d+cM6uxxv2jgKF51YIWmuvyN5rNdWFWLWgBqjNJXDXOyWCoNoLqKfzUO94+louLSARXIHxfVTP2h6MiMk9VD4vIPGDcXT8mwi0xKLLYz7/ez4Vzx4Eebr6/LZuDJLNxeOOS6Vz0r1soVhHZCgX7GKgqIkLUkqwrrK2KqrJxazt1Ec97ybMZ1EVCeVHW1RgzUI1zMhiqCV+hICL3+p1X1aLps8VNnP9t4AVV/XLOqXuBq4GbvOM9Jc/2JDBRBW3KMXL6ReruONBTsN7xfS/4y9pkupi4GMbPWNwZG3uUtcFgqF6CDM1vAvYDd+LaA0bjLH4h8GHgWRF52mv7PK4wuEtEPgrsA94/qhmXyUSlVy7XyFlshXvbw3uIhFxvpLSTbzO49KzZPPBChxs8NsIQbZXg9+9nLN55yE2ON5Yoa4PBUL0E6RDm4j7IzwFuAS4HulT1waB8SKr6sKqKqq5S1XO91y9U9ZiqXqqqy73j8ZNzK6UxUQVtgoycxYzQGW69/yVW3fArzvj8L1h1w6+yQWL9ibSnwskXCAJ8++rX01TrCqGRfv8ZL6GxzjkatkDBUUVRHNW8KGuDwTA58f0XrKq2qv5SVa8GzgdeBraIyLV+/aoZP6NtJfEzcgZF2haKHr75/jY+uOnRXIejPDKCb9oIlVWGYu2lztkvytpgMExeAuMURKQGeAdwFbAYuBX/oLWqphrSK498iAelxs6NNVBvua/AI+3FN1nTG9yHfldsqOD5Yu0jKaa2ynyPc6eFTZpqg+EUIsjQfDuu6uj/gH9Q1efGZVYVZKLSK/sZuINSY2eih23HIWVrnlCJWEKqgNtpXyINuInswpYbWKbq6v4toWzdv0lTbTCcmgTtFD4MDAArgOtk2Fo5qVNnT4Rbop+BOyg1dm1YGEw6ecJAgLqIxZD3mWK1kDORxzWh/Kjk+kiwTSEI495pMJx6BMUpGKvhSWJ/9yBDqTR7ugZw1F2tz2iIkEw7RVNjhyy44Z6dJFLDAkFwBYCI8PGLzuDm+9uA4rWQr1mzhK9sbiNl51dPy0Qel4NJQ20wnHqYh/544Th0xlJZDyFHoTOWQh3nBKNtSKA2atGfsPnuo69gK9RHQ9SG3SCyxpown7pkGdddtoKm2jCWpxISyP6d8TpataCFxmgom6PIEmiMhrKRx2PFpKE2GE5NSs2SavAIWh0XO388ni54vePxNP/kGW3nNIdIpZXDfQnSXkK7ukiIP12zmD+/eDl1BdxIr1mzZHi3kP2/4Z3Axq3tzGqu5fSc+IiTEZcxUfEeBoOhshihMAqCoqH9zg8WSRk9mLRZt3I2V3fG+Mr9bfQPucJDgPe8dj7Xv/VM5uRkRx1JJgdRX47Qyc1BVKl00SYNtcFwamKEwigIWh37nffjz3/wFD/fcThrN3jjkun83Ttfxdnzp5U0p5mNNSya3pBty51TpdJFmzTUBsOpiREKoyBodby/e5CQQHtnLBtvMLMxyoHuQbyqlgX52Y7DACyZ2cDn334Wl501G8l1J6K4WspvTKhcXEY1xHsYDIaTjxEKoyBoddxUE6atI0bIEkKWkHaUgz0Jls9upC4aKqpCaq2PcN2ly/nw+acTLpC91E8t5TcmVC6ewMQpGAynJkYojIKg1XFewZuco6oyvS5cUCg0Ri0e+twlNNYU/yn81FJ+Y2aoVDyBiVMwGE49jFAYBUGr41jSprU+zLGBVF4sQvdgku4C3kc1FrQ21NBYE/b1avJTWymMqRaywWAwFMIIhVHitzpujIY40psgYlmIgG07dMVSRW0JQ467og/yagpSW421FrLBYDCMxASvjRK/FNcigqoyZDsk0g4pJS8SmZy/M++PD6Ty1EMi7jESkqzXkl8Ka1N32GAwnEyMBEwF/wAAEKdJREFUUBgFQVG8R/viFCqJXB91dw4Ri2xkceb9kO0E1njwS2Ft6g4bDIaTScXURyLyHeCdQIeqnuO1TQd+hJuC+xXgA6raXak5nGz8DL5iCT3xdJ6qKOQJgLBl0VhjFUxM1xAJleTz76e2MgZfg8FwsqjkTuG7wFtHtF0PbFbV5cBm7/2kYX/3IH3xJDsP9fLswV52HurleCzBU/u6ufo7j5+wS3A89VE0JFyzZgm2o8RTdvZlO8o1a5YYFZDBYKgaKiYUVHUrMLIKzLuB272/bwfeU6nxK0KBpHbdcZuhtJunqCZs5dkL8P6e2VjDqgUtNIxITNfgJaYzKiCDwVAtjLf30RxVPQygqodFpCqfeqNNagfwr3+wim8/1E5bR+yEHYOIazSe3VybpyIqlEDOlL03GAwTSdUamkVkvYhsF5HtnZ2d4zZuMWPy5uePEC/g+2/h7gbev3ohXQNJb/LebsHbFXTGhnyNySYNtcFgqBbGWygcFZF5AN6x6FNPVTep6mpVXT1r1qxxm2Ah99BU2ua6Hz59ghG5JiSEQpKtXZBMO1iWUBsOURsJURsOYVlCMu2wsLWeeCpfqGSMyUEuqQaDwTBejLdQuBe42vv7auCecR4/kP3dg6Rth/bOGM8f6uX5Q70c7hs6IULYVhiylbSt2doFEc/dyHEUVc1WP4uGxNeYHOSSCv7xEQaDwXCyqJhQEJE7gUeBM0XkgIh8FLgJuFxE2oDLvfdVRVNNmP3H4653kLoPf4BoyOK95552wudzdw8r5jQzoyFKOCTYqoRDwoyGKMvnNPsak/12EWCqnBkMhvGjYoZmVb2qyKlLKzVmuQwm03T2J3Ag72kvwOLptWze1UHIcushq2ZqJcNtD+/hustWsGHtUj579zPY3k7BdtxXxrW0WDxBUKK9iaxyZuowGwxTi6o1NI8nadvhx787wFu/8hBdA6lsuyVQFxYWTa8jnlZiQ2lsxxUIiHu0HYgNDXslKe45EdfaXIo3UZBLainqpUpgdigGw9RjSifEU1Ue23OcL/1yF0/t68m2N9aEOK2ljpqw+yDOJJg71JvwtgjeB73KOZmCOBu3tjOtLsK8nPKZpa7o/aKSJ6rKmanDbDBMPaakULj1/pfYuHU3A0knr/31i1t569lzuP3RfVkVUK4q59mD3cSGFB2x/K+PuEIhqDLbWFUxE1XlzNRhNhimHlNOffTPP3+eL9/fdoJAeOer53LXhjfx0TefUVSV8+r5rbTUhfOiklvqwpwzvxXA12BcjipmoiKegwzgBoPh1GPK7BQGhtJ8b9teNj20J689bLnprre2dZ1QF3mkPSCzYp/RWFNwxe63og9SxQTtIiYi6Z2pw2wwTD1O+Z1Cynb46TMHeddXH+af/29X9kGfCT6LhCzCIcnGIfit6INW7H7nJ2NEs8nJZDBMPURHKsirkNWrV+v27dtH1cdxlO17j/Pvv36Jx/YM5+XL7Ayi4eEHdNpxqIuE2HHD73HVpm0nGHUzhuY7158/5nvwuy5QkTENBsPURkSeVNXVo+lzyu0UVJX2zhhXfWsbH9i4LSsQls5s4Ifrz+e6S5aBCGnHwVHHO5KNSq6U+2e5Ec0Gg8EwHpxSNoXO/gSbtrZzx6N7s+msIyGhtT5CMm2TSNpcd9kKwA04G0jaNERDXLNmSba9Uu6f61bO5kZcN88D3YMsyLEbLNw6MS6nBoPBMJJTQn00kEjzo+37+OaD7XT0DwFuCEHYEhxVaiMhmuvCLJ7RGKiOyej3IyHJM65WUpc+EWMaDIZTn7Gojyb1TmEobfPArg6+cl8bLx7tB1xBELKEtJexNCRC2lG6+pOk7P7Aa/qt6CvFRIxpMBgMhZiUQiFlOzxzoIev3NfGwy93ZdvXrZjFX7/1TK7ctA1HFctzMRUBR5Rk2il2yTwmwv3T1Fk2GAzVwKQSCrajvNIV42tbdvOT3x3MVjirj4bYsHYp116yHMsSIiEhnnI9kMTLUQRuCutyMQniDAbDqcykEQodfQm++8gr3PHo3mwCupAlzG6KUhu2+J+nDvIar97xijnN7OmK0Z9Ik7QdoiGLptoIS2Y2ljWHXN1/bjzBjWAEg8FgOCWYFC6px2JJ3v213/L1LbuJDaWz6SVWzGlkZmMtjbXRvEplG9YuJRoOMXdaLWfOaWLutFqi4VDZkbimQprBYDjVmRRC4VBvnMO9CSyB9712PrOaaljQWk/YGp5+rl9/pSJxTTyBwWA41Zk06qMLzpjBZ95yJucubOFDtz0W6NdfCcPtRKWwNhgMhvFiQnYKIvJWEXlRRF4WketL6fPI7mO87xuPYFn+9Y4ryUSNazAYDOPFuAsFEQkBXwPeBrwKuEpEXlVq/8XX/3zCErWZBHEGg+FUZyLUR28AXlbVdgAR+SHwbuD50Vxkovz6TTyBwWA4lZkI9dF8YH/O+wNeWx4isl5EtovIdnuwd9wmZzAYDFOZiRAKhSLITkjApKqbVHW1qq4O1U8bh2kZDAaDYSKEwgFgYc77BcChCZiHwWAwGEYwEULhCWC5iCwRkShwJXBvqZ1fuekdFZuYwWAwTHXG3dCsqmkR+XPgV0AI+I6q7vTr8+r509huhIHBYDBUnAkJXlPVXwC/mIixDQaDwVCcSZHmwmD4/9s796CrqjKM/x7BS4ImSpqJhXmJGifJjDI10UwtGQxKJ6ZSR6a0vDeOXcaMppujUjrdpjRSK3UoQB1nQghRzEwQBIEMEWEMYWSMUsiREp7+WOscN1/n4HeUztrI+5v55uy9zt7rPPv5zt7vXmud/a4gCLpDBIUgCIKgSQSFIAiCoEkEhSAIgqCJ7P95bqx2SFoHLCmtowcDgWdfcavuUkdNUE9doal3hKbeU0dd77C9Wyc7bCups5fYPqK0iCqSHg5NvaOOukJT7whNvaeOuiQ93Ok+0X0UBEEQNImgEARBEDTZVoLCz0sLaEFo6j111BWaekdo6j111NWxpm1ioDkIgiDoDttKSyEIgiDoAhEUgiAIgia1DgqSTpa0RNITkr5SWk8DSSskLZQ0/9X85GsraZggaY2kRZWyPSVNl7Q0vw6ogaZxkp7OXs2X9LEua9pf0kxJj0laLOmiXF7Mqy1oKu3VLpJmS1qQdX0zl5f0qp2mol5lDX0kPSLprrxe9Pxro6ljn2o7piCpD/A48BHSxDxzgDG2O5rL+f+BpBXAEbaLPagi6UPAeuBm24fmsquAtbavzEF0gO0vF9Y0Dlhv+5pu6eihaV9gX9vzJO0GzAU+DpxFIa+2oOl0ynoloJ/t9ZJ2BP4IXASMppxX7TSdTEGvsrYvAUcAu9seUfr8a6NpHB36VOeWwjDgCdtP2v43cBtwamFNtcH2LGBtj+JTgZvy8k2kC01pTUWxvdr2vLy8DniMNCd4Ma+2oKkoTqzPqzvmP1PWq3aaiiJpEHAKcEOluOj510ZTx9Q5KOwH/K2yvpIanDgZA9MkzZX0+dJiKuxjezWkCw+wd2E9Dc6X9GjuXup6k7qBpMHAe4CHqIlXPTRBYa9y98N8YA0w3XZxr9pogrJeXQtcBmyqlJX+TrXSBB36VOegoBZlxe8QMkfZPhz4KHBe7jYJWvNT4EBgKLAaGF9ChKT+wCTgYtvPl9DQkxaaintle6PtoaS504dJOrTbGnqpqZhXkkYAa2zP7dZnvhJb0NSxT3UOCiuB/Svrg4BVhbRshu1V+XUNMIXU1VUHnsn91Y1+6zWF9WD7mXxSbwKup4BXuS96EvAb25NzcVGvWmmqg1cNbP8TuJfUd1+L71VVU2GvjgJG5rHF24DjJf2asj611PRqfKpzUJgDHCzpAEk7AZ8C7iysCUn98uAgkvoBJwKLtrxX17gTODMvnwncUVAL0Dw5Goyiy17lgcpfAI/Z/n7lrWJetdNUA6/eJGmPvPwG4ATgr5T1qqWmkl7Z/qrtQbYHk65L99j+DAV9aqfp1fhU2yyptl+SdD5wN9AHmGB7cWFZAPsAU9J5TV/gFttTuy1C0q3AcGCgpJXAN4ArgYmSxgJPAafVQNNwSUNJXX8rgHO6qYl0B/VZYGHulwb4GmW9aqdpTGGv9gVuyr/82wGYaPsuSQ9Szqt2mn5V2KtWFD3/2nBVpz7V9iepQRAEQfepc/dREARB0GUiKARBEARNIigEQRAETSIoBEEQBE0iKARBEARNIigERZFkSeMr65fmJF5bo+4bJX3yNdYxSNIdOfPlMknX5edmGu/fmlMIXJLX+0p6VtL3Xqv+XN/6FmVvkfS7rVF/EPQkgkJQmg3AaEkDSwupkvPtCJgM3G77YOAQoD/wnbzNm4EP2n637R/kXU8ElgCn5/23OrZX2X5NwS4I2hFBISjNS6R5ZC/p+UbPO/3GXbOk4ZLukzRR0uOSrpT0aaW8+wslHVip5gRJ9+ftRuT9+0i6WtKcfJd/TqXemZJuARYCxwMv2v4lpBw8WefZknYFpgF7K+WpPyZ/3hjgOtLDSx/I9f5E0si8PEXShLw8VtK38/LtSgkWF6tFkkVJAyU9KOkUSYOV56yQdJakyZKm5tbMVZV9xubjvlfS9ZJ+lMtPk7RIaY6CWZ38s4LXP7V9ojnYrvgx8Gj1gtYLDgPeSUrV/SRwg+1hShPWXABcnLcbDBxLSgo2U9JBwBnAc7bfJ2ln4AFJ0/L2w4BDbS+XdCFproMmtp+X9BRwEDASuCsna2ukYfgw6anRPUgB4kFgFnAMKQ3CfqSndAGOJuWpATjb9tpcxxxJk2z/Pde7T973ctvTlTKrVhlKyrS6AVgi6YfARuDrwOHAOuAeYEHe/grgJNtPN1JIBEGDaCkExckZQm8GLuxgtzl5XoINwDLSXTukO/zBle0m2t5keykpeAwhdfGckVNMPATsBRyct59te3leFq0z87YrHwHMtP0CKdndqJye4X7gGEnvAv7Cy4nTjgT+lPe9UNIC4M+kRJANPTsCM4DLbE9v48UM28/ZfjHX/zZScLvP9lrb/wF+W9n+AeBGSZ8jpZAJgiYRFIK6cC0wFuhXKXuJ/B3N/fM7Vd7bUFneVFnfxOYt4J4Xb5Mu6hfYHpr/DrDdCCr/qmy7mDSLVRNJu5Mu2staHMMYUnfVClILYy/gONtPAwNIGUdnkYJEY5a1dZKGkxK9HWn7MOARYJeKB3OBk1p8XoOqFxvz8bcdz7B9LnB5Po75kvbaQt3BdkYEhaAW2F4LTCQFhgYrgPfm5VNJd82dcpqkHfI4w9tJg8B3A19QSl+NpEOUMt72ZAawq6Qz8nZ9SPnob8ytgSY5WBwNvNX24Jyt8jxSoIDUjXQxLweFS/MrwBuBf9h+QdIQ8lhExsDZwBB1Nk/5bOBYSQMk9QU+UdF6oO2HbF8BPMvmKeqD7ZwICkGdGA9Uf4V0PenCNht4P5vfxfeWJcB9wO+Bc3MXyw2kbpZ5ecD2Z7QYX3PKFjmKFFiWkuYMf5GU0bQno0npiqt37XeQctzvTAoAfW0/AcwD9uTloDAV6CvpUeBbpC6kqo6NpHTIx0n6Ym8OOrdOvkvqHvtDPt7n8ttX5wH5RaQgtaB1LcH2SGRJDYLXKZL6O01435c0GdQE21NK6wrqTbQUguD1y7g8mL4IWA7cXlhPsA0QLYUgCIKgSbQUgiAIgiYRFIIgCIImERSCIAiCJhEUgiAIgiYRFIIgCIIm/wWE0Chw4qt2OwAAAABJRU5ErkJggg==\n",
>>>>>>> f2a56fb897605fe6e919463fdcc44666c7e9f183
      "text/plain": [
       "<Figure size 432x288 with 1 Axes>"
      ]
     },
     "metadata": {
      "needs_background": "light"
     },
     "output_type": "display_data"
    }
   ],
   "source": [
    "sns.regplot(x=\"NumberOfAwakings\", y=\"MinutesOfBeingAwake\", data=data)\n"
   ]
  },
  {
   "cell_type": "markdown",
   "metadata": {},
   "source": [
    "[MinutesOfBeingAwake] = b0 + b1*[NumberOfAwakings]"
   ]
  },
  {
   "cell_type": "markdown",
   "metadata": {},
   "source": [
    "### Estimating OLS using statsmodels"
   ]
  },
  {
   "cell_type": "code",
<<<<<<< HEAD
   "execution_count": 5,
=======
   "execution_count": 173,
>>>>>>> f2a56fb897605fe6e919463fdcc44666c7e9f183
   "metadata": {},
   "outputs": [],
   "source": [
    "import statsmodels.api as sm"
   ]
  },
  {
   "cell_type": "code",
<<<<<<< HEAD
   "execution_count": 6,
=======
   "execution_count": 180,
>>>>>>> f2a56fb897605fe6e919463fdcc44666c7e9f183
   "metadata": {},
   "outputs": [
    {
     "data": {
      "text/html": [
       "<table class=\"simpletable\">\n",
       "<caption>OLS Regression Results</caption>\n",
       "<tr>\n",
       "  <th>Dep. Variable:</th>    <td>MinutesOfBeingAwake</td> <th>  R-squared:         </th> <td>   0.906</td> \n",
       "</tr>\n",
       "<tr>\n",
       "  <th>Model:</th>                    <td>OLS</td>         <th>  Adj. R-squared:    </th> <td>   0.906</td> \n",
       "</tr>\n",
       "<tr>\n",
       "  <th>Method:</th>              <td>Least Squares</td>    <th>  F-statistic:       </th> <td>   3516.</td> \n",
       "</tr>\n",
       "<tr>\n",
       "  <th>Date:</th>              <td>Tue, 10 Nov 2020</td>   <th>  Prob (F-statistic):</th> <td>1.89e-189</td>\n",
       "</tr>\n",
       "<tr>\n",
<<<<<<< HEAD
       "  <th>Time:</th>                  <td>21:12:44</td>       <th>  Log-Likelihood:    </th> <td> -1158.1</td> \n",
=======
       "  <th>Time:</th>                  <td>10:44:13</td>       <th>  Log-Likelihood:    </th> <td> -1158.1</td> \n",
>>>>>>> f2a56fb897605fe6e919463fdcc44666c7e9f183
       "</tr>\n",
       "<tr>\n",
       "  <th>No. Observations:</th>       <td>   367</td>        <th>  AIC:               </th> <td>   2320.</td> \n",
       "</tr>\n",
       "<tr>\n",
       "  <th>Df Residuals:</th>           <td>   365</td>        <th>  BIC:               </th> <td>   2328.</td> \n",
       "</tr>\n",
       "<tr>\n",
       "  <th>Df Model:</th>               <td>     1</td>        <th>                     </th>     <td> </td>    \n",
       "</tr>\n",
       "<tr>\n",
       "  <th>Covariance Type:</th>       <td>nonrobust</td>      <th>                     </th>     <td> </td>    \n",
       "</tr>\n",
       "</table>\n",
       "<table class=\"simpletable\">\n",
       "<tr>\n",
       "          <td></td>            <th>coef</th>     <th>std err</th>      <th>t</th>      <th>P>|t|</th>  <th>[0.025</th>    <th>0.975]</th>  \n",
       "</tr>\n",
       "<tr>\n",
       "  <th>const</th>            <td>    1.4381</td> <td>    0.538</td> <td>    2.675</td> <td> 0.008</td> <td>    0.381</td> <td>    2.495</td>\n",
       "</tr>\n",
       "<tr>\n",
       "  <th>NumberOfAwakings</th> <td>    1.6405</td> <td>    0.028</td> <td>   59.297</td> <td> 0.000</td> <td>    1.586</td> <td>    1.695</td>\n",
       "</tr>\n",
       "</table>\n",
       "<table class=\"simpletable\">\n",
       "<tr>\n",
       "  <th>Omnibus:</th>       <td>17.535</td> <th>  Durbin-Watson:     </th> <td>   1.830</td>\n",
       "</tr>\n",
       "<tr>\n",
       "  <th>Prob(Omnibus):</th> <td> 0.000</td> <th>  Jarque-Bera (JB):  </th> <td>  31.142</td>\n",
       "</tr>\n",
       "<tr>\n",
       "  <th>Skew:</th>          <td> 0.290</td> <th>  Prob(JB):          </th> <td>1.73e-07</td>\n",
       "</tr>\n",
       "<tr>\n",
       "  <th>Kurtosis:</th>      <td> 4.304</td> <th>  Cond. No.          </th> <td>    35.2</td>\n",
       "</tr>\n",
<<<<<<< HEAD
       "</table><br/><br/>Notes:<br/>[1] Standard Errors assume that the covariance matrix of the errors is correctly specified."
=======
       "</table><br/><br/>Warnings:<br/>[1] Standard Errors assume that the covariance matrix of the errors is correctly specified."
>>>>>>> f2a56fb897605fe6e919463fdcc44666c7e9f183
      ],
      "text/plain": [
       "<class 'statsmodels.iolib.summary.Summary'>\n",
       "\"\"\"\n",
       "                             OLS Regression Results                            \n",
       "===============================================================================\n",
       "Dep. Variable:     MinutesOfBeingAwake   R-squared:                       0.906\n",
       "Model:                             OLS   Adj. R-squared:                  0.906\n",
       "Method:                  Least Squares   F-statistic:                     3516.\n",
       "Date:                 Tue, 10 Nov 2020   Prob (F-statistic):          1.89e-189\n",
<<<<<<< HEAD
       "Time:                         21:12:44   Log-Likelihood:                -1158.1\n",
=======
       "Time:                         10:44:13   Log-Likelihood:                -1158.1\n",
>>>>>>> f2a56fb897605fe6e919463fdcc44666c7e9f183
       "No. Observations:                  367   AIC:                             2320.\n",
       "Df Residuals:                      365   BIC:                             2328.\n",
       "Df Model:                            1                                         \n",
       "Covariance Type:             nonrobust                                         \n",
       "====================================================================================\n",
       "                       coef    std err          t      P>|t|      [0.025      0.975]\n",
       "------------------------------------------------------------------------------------\n",
       "const                1.4381      0.538      2.675      0.008       0.381       2.495\n",
       "NumberOfAwakings     1.6405      0.028     59.297      0.000       1.586       1.695\n",
       "==============================================================================\n",
       "Omnibus:                       17.535   Durbin-Watson:                   1.830\n",
       "Prob(Omnibus):                  0.000   Jarque-Bera (JB):               31.142\n",
       "Skew:                           0.290   Prob(JB):                     1.73e-07\n",
       "Kurtosis:                       4.304   Cond. No.                         35.2\n",
       "==============================================================================\n",
       "\n",
<<<<<<< HEAD
       "Notes:\n",
=======
       "Warnings:\n",
>>>>>>> f2a56fb897605fe6e919463fdcc44666c7e9f183
       "[1] Standard Errors assume that the covariance matrix of the errors is correctly specified.\n",
       "\"\"\""
      ]
     },
<<<<<<< HEAD
     "execution_count": 6,
=======
     "execution_count": 180,
>>>>>>> f2a56fb897605fe6e919463fdcc44666c7e9f183
     "metadata": {},
     "output_type": "execute_result"
    }
   ],
   "source": [
    "Y = data['MinutesOfBeingAwake']\n",
    "X = data['NumberOfAwakings']\n",
    "X = sm.add_constant(X)\n",
    "model = sm.OLS(Y,X)\n",
    "results = model.fit()\n",
    "results.summary()"
   ]
  },
  {
   "cell_type": "markdown",
   "metadata": {},
   "source": [
    "#### Using 'Work_or_Weekend' as an explanatory variable"
   ]
  },
  {
   "cell_type": "code",
<<<<<<< HEAD
   "execution_count": 7,
=======
   "execution_count": 181,
>>>>>>> f2a56fb897605fe6e919463fdcc44666c7e9f183
   "metadata": {},
   "outputs": [
    {
     "data": {
      "text/plain": [
       "1    262\n",
       "0    105\n",
       "Name: Work_or_Weekend, dtype: int64"
      ]
     },
<<<<<<< HEAD
     "execution_count": 7,
=======
     "execution_count": 181,
>>>>>>> f2a56fb897605fe6e919463fdcc44666c7e9f183
     "metadata": {},
     "output_type": "execute_result"
    }
   ],
   "source": [
    "data['Work_or_Weekend'].value_counts()"
   ]
  },
  {
   "cell_type": "code",
<<<<<<< HEAD
   "execution_count": 8,
=======
   "execution_count": 185,
>>>>>>> f2a56fb897605fe6e919463fdcc44666c7e9f183
   "metadata": {},
   "outputs": [
    {
     "data": {
      "text/html": [
       "<div>\n",
       "<style scoped>\n",
       "    .dataframe tbody tr th:only-of-type {\n",
       "        vertical-align: middle;\n",
       "    }\n",
       "\n",
       "    .dataframe tbody tr th {\n",
       "        vertical-align: top;\n",
       "    }\n",
       "\n",
       "    .dataframe thead th {\n",
       "        text-align: right;\n",
       "    }\n",
       "</style>\n",
       "<table border=\"1\" class=\"dataframe\">\n",
       "  <thead>\n",
       "    <tr style=\"text-align: right;\">\n",
       "      <th></th>\n",
       "      <th>MinutesOfBeingAwake</th>\n",
       "    </tr>\n",
       "    <tr>\n",
       "      <th>Work_or_Weekend</th>\n",
       "      <th></th>\n",
       "    </tr>\n",
       "  </thead>\n",
       "  <tbody>\n",
       "    <tr>\n",
       "      <th>0</th>\n",
       "      <td>26.895238</td>\n",
       "    </tr>\n",
       "    <tr>\n",
       "      <th>1</th>\n",
       "      <td>28.454198</td>\n",
       "    </tr>\n",
       "  </tbody>\n",
       "</table>\n",
       "</div>"
      ],
      "text/plain": [
       "                 MinutesOfBeingAwake\n",
       "Work_or_Weekend                     \n",
       "0                          26.895238\n",
       "1                          28.454198"
      ]
     },
<<<<<<< HEAD
     "execution_count": 8,
=======
     "execution_count": 185,
>>>>>>> f2a56fb897605fe6e919463fdcc44666c7e9f183
     "metadata": {},
     "output_type": "execute_result"
    }
   ],
   "source": [
    "pd.pivot_table(data, index = ['Work_or_Weekend'], values='MinutesOfBeingAwake')"
   ]
  },
  {
   "cell_type": "code",
<<<<<<< HEAD
   "execution_count": 9,
=======
   "execution_count": 187,
>>>>>>> f2a56fb897605fe6e919463fdcc44666c7e9f183
   "metadata": {},
   "outputs": [
    {
     "data": {
      "text/html": [
       "<table class=\"simpletable\">\n",
       "<caption>OLS Regression Results</caption>\n",
       "<tr>\n",
<<<<<<< HEAD
       "  <th>Dep. Variable:</th>    <td>MinutesOfBeingAwake</td> <th>  R-squared:         </th> <td>   0.001</td>\n",
       "</tr>\n",
       "<tr>\n",
       "  <th>Model:</th>                    <td>OLS</td>         <th>  Adj. R-squared:    </th> <td>  -0.001</td>\n",
       "</tr>\n",
       "<tr>\n",
       "  <th>Method:</th>              <td>Least Squares</td>    <th>  F-statistic:       </th> <td>  0.5292</td>\n",
       "</tr>\n",
       "<tr>\n",
       "  <th>Date:</th>              <td>Tue, 10 Nov 2020</td>   <th>  Prob (F-statistic):</th>  <td> 0.467</td> \n",
       "</tr>\n",
       "<tr>\n",
       "  <th>Time:</th>                  <td>21:12:44</td>       <th>  Log-Likelihood:    </th> <td> -1591.6</td>\n",
       "</tr>\n",
       "<tr>\n",
       "  <th>No. Observations:</th>       <td>   367</td>        <th>  AIC:               </th> <td>   3187.</td>\n",
       "</tr>\n",
       "<tr>\n",
       "  <th>Df Residuals:</th>           <td>   365</td>        <th>  BIC:               </th> <td>   3195.</td>\n",
       "</tr>\n",
       "<tr>\n",
       "  <th>Df Model:</th>               <td>     1</td>        <th>                     </th>     <td> </td>   \n",
       "</tr>\n",
       "<tr>\n",
       "  <th>Covariance Type:</th>       <td>nonrobust</td>      <th>                     </th>     <td> </td>   \n",
=======
       "  <th>Dep. Variable:</th>    <td>MinutesOfBeingAwake</td> <th>  R-squared:         </th> <td>   0.906</td> \n",
       "</tr>\n",
       "<tr>\n",
       "  <th>Model:</th>                    <td>OLS</td>         <th>  Adj. R-squared:    </th> <td>   0.905</td> \n",
       "</tr>\n",
       "<tr>\n",
       "  <th>Method:</th>              <td>Least Squares</td>    <th>  F-statistic:       </th> <td>   1754.</td> \n",
       "</tr>\n",
       "<tr>\n",
       "  <th>Date:</th>              <td>Tue, 10 Nov 2020</td>   <th>  Prob (F-statistic):</th> <td>1.33e-187</td>\n",
       "</tr>\n",
       "<tr>\n",
       "  <th>Time:</th>                  <td>10:47:30</td>       <th>  Log-Likelihood:    </th> <td> -1158.0</td> \n",
       "</tr>\n",
       "<tr>\n",
       "  <th>No. Observations:</th>       <td>   367</td>        <th>  AIC:               </th> <td>   2322.</td> \n",
       "</tr>\n",
       "<tr>\n",
       "  <th>Df Residuals:</th>           <td>   364</td>        <th>  BIC:               </th> <td>   2334.</td> \n",
       "</tr>\n",
       "<tr>\n",
       "  <th>Df Model:</th>               <td>     2</td>        <th>                     </th>     <td> </td>    \n",
       "</tr>\n",
       "<tr>\n",
       "  <th>Covariance Type:</th>       <td>nonrobust</td>      <th>                     </th>     <td> </td>    \n",
>>>>>>> f2a56fb897605fe6e919463fdcc44666c7e9f183
       "</tr>\n",
       "</table>\n",
       "<table class=\"simpletable\">\n",
       "<tr>\n",
<<<<<<< HEAD
       "         <td></td>            <th>coef</th>     <th>std err</th>      <th>t</th>      <th>P>|t|</th>  <th>[0.025</th>    <th>0.975]</th>  \n",
       "</tr>\n",
       "<tr>\n",
       "  <th>const</th>           <td>   26.8952</td> <td>    1.811</td> <td>   14.854</td> <td> 0.000</td> <td>   23.335</td> <td>   30.456</td>\n",
       "</tr>\n",
       "<tr>\n",
       "  <th>Work_or_Weekend</th> <td>    1.5590</td> <td>    2.143</td> <td>    0.727</td> <td> 0.467</td> <td>   -2.655</td> <td>    5.773</td>\n",
=======
       "          <td></td>            <th>coef</th>     <th>std err</th>      <th>t</th>      <th>P>|t|</th>  <th>[0.025</th>    <th>0.975]</th>  \n",
       "</tr>\n",
       "<tr>\n",
       "  <th>const</th>            <td>    1.2924</td> <td>    0.705</td> <td>    1.834</td> <td> 0.068</td> <td>   -0.094</td> <td>    2.678</td>\n",
       "</tr>\n",
       "<tr>\n",
       "  <th>NumberOfAwakings</th> <td>    1.6402</td> <td>    0.028</td> <td>   59.178</td> <td> 0.000</td> <td>    1.586</td> <td>    1.695</td>\n",
       "</tr>\n",
       "<tr>\n",
       "  <th>Work_or_Weekend</th>  <td>    0.2111</td> <td>    0.659</td> <td>    0.320</td> <td> 0.749</td> <td>   -1.085</td> <td>    1.507</td>\n",
>>>>>>> f2a56fb897605fe6e919463fdcc44666c7e9f183
       "</tr>\n",
       "</table>\n",
       "<table class=\"simpletable\">\n",
       "<tr>\n",
<<<<<<< HEAD
       "  <th>Omnibus:</th>       <td>24.581</td> <th>  Durbin-Watson:     </th> <td>   1.808</td>\n",
       "</tr>\n",
       "<tr>\n",
       "  <th>Prob(Omnibus):</th> <td> 0.000</td> <th>  Jarque-Bera (JB):  </th> <td>   9.338</td>\n",
       "</tr>\n",
       "<tr>\n",
       "  <th>Skew:</th>          <td> 0.058</td> <th>  Prob(JB):          </th> <td> 0.00938</td>\n",
       "</tr>\n",
       "<tr>\n",
       "  <th>Kurtosis:</th>      <td> 2.227</td> <th>  Cond. No.          </th> <td>    3.51</td>\n",
       "</tr>\n",
       "</table><br/><br/>Notes:<br/>[1] Standard Errors assume that the covariance matrix of the errors is correctly specified."
=======
       "  <th>Omnibus:</th>       <td>18.112</td> <th>  Durbin-Watson:     </th> <td>   1.831</td>\n",
       "</tr>\n",
       "<tr>\n",
       "  <th>Prob(Omnibus):</th> <td> 0.000</td> <th>  Jarque-Bera (JB):  </th> <td>  32.691</td>\n",
       "</tr>\n",
       "<tr>\n",
       "  <th>Skew:</th>          <td> 0.295</td> <th>  Prob(JB):          </th> <td>7.97e-08</td>\n",
       "</tr>\n",
       "<tr>\n",
       "  <th>Kurtosis:</th>      <td> 4.338</td> <th>  Cond. No.          </th> <td>    57.3</td>\n",
       "</tr>\n",
       "</table><br/><br/>Warnings:<br/>[1] Standard Errors assume that the covariance matrix of the errors is correctly specified."
>>>>>>> f2a56fb897605fe6e919463fdcc44666c7e9f183
      ],
      "text/plain": [
       "<class 'statsmodels.iolib.summary.Summary'>\n",
       "\"\"\"\n",
       "                             OLS Regression Results                            \n",
       "===============================================================================\n",
<<<<<<< HEAD
       "Dep. Variable:     MinutesOfBeingAwake   R-squared:                       0.001\n",
       "Model:                             OLS   Adj. R-squared:                 -0.001\n",
       "Method:                  Least Squares   F-statistic:                    0.5292\n",
       "Date:                 Tue, 10 Nov 2020   Prob (F-statistic):              0.467\n",
       "Time:                         21:12:44   Log-Likelihood:                -1591.6\n",
       "No. Observations:                  367   AIC:                             3187.\n",
       "Df Residuals:                      365   BIC:                             3195.\n",
       "Df Model:                            1                                         \n",
       "Covariance Type:             nonrobust                                         \n",
       "===================================================================================\n",
       "                      coef    std err          t      P>|t|      [0.025      0.975]\n",
       "-----------------------------------------------------------------------------------\n",
       "const              26.8952      1.811     14.854      0.000      23.335      30.456\n",
       "Work_or_Weekend     1.5590      2.143      0.727      0.467      -2.655       5.773\n",
       "==============================================================================\n",
       "Omnibus:                       24.581   Durbin-Watson:                   1.808\n",
       "Prob(Omnibus):                  0.000   Jarque-Bera (JB):                9.338\n",
       "Skew:                           0.058   Prob(JB):                      0.00938\n",
       "Kurtosis:                       2.227   Cond. No.                         3.51\n",
       "==============================================================================\n",
       "\n",
       "Notes:\n",
=======
       "Dep. Variable:     MinutesOfBeingAwake   R-squared:                       0.906\n",
       "Model:                             OLS   Adj. R-squared:                  0.905\n",
       "Method:                  Least Squares   F-statistic:                     1754.\n",
       "Date:                 Tue, 10 Nov 2020   Prob (F-statistic):          1.33e-187\n",
       "Time:                         10:47:30   Log-Likelihood:                -1158.0\n",
       "No. Observations:                  367   AIC:                             2322.\n",
       "Df Residuals:                      364   BIC:                             2334.\n",
       "Df Model:                            2                                         \n",
       "Covariance Type:             nonrobust                                         \n",
       "====================================================================================\n",
       "                       coef    std err          t      P>|t|      [0.025      0.975]\n",
       "------------------------------------------------------------------------------------\n",
       "const                1.2924      0.705      1.834      0.068      -0.094       2.678\n",
       "NumberOfAwakings     1.6402      0.028     59.178      0.000       1.586       1.695\n",
       "Work_or_Weekend      0.2111      0.659      0.320      0.749      -1.085       1.507\n",
       "==============================================================================\n",
       "Omnibus:                       18.112   Durbin-Watson:                   1.831\n",
       "Prob(Omnibus):                  0.000   Jarque-Bera (JB):               32.691\n",
       "Skew:                           0.295   Prob(JB):                     7.97e-08\n",
       "Kurtosis:                       4.338   Cond. No.                         57.3\n",
       "==============================================================================\n",
       "\n",
       "Warnings:\n",
>>>>>>> f2a56fb897605fe6e919463fdcc44666c7e9f183
       "[1] Standard Errors assume that the covariance matrix of the errors is correctly specified.\n",
       "\"\"\""
      ]
     },
<<<<<<< HEAD
     "execution_count": 9,
=======
     "execution_count": 187,
>>>>>>> f2a56fb897605fe6e919463fdcc44666c7e9f183
     "metadata": {},
     "output_type": "execute_result"
    }
   ],
   "source": [
    "Y = data['MinutesOfBeingAwake']\n",
    "X = data['Work_or_Weekend']\n",
    "X = sm.add_constant(X)\n",
    "model = sm.OLS(Y,X)\n",
    "results = model.fit()\n",
    "results.summary()"
   ]
  },
  {
   "cell_type": "markdown",
   "metadata": {},
   "source": [
    "#### Using an indicator for whether sleep was efficient (above 90) as an explanatory variable\n"
   ]
  },
  {
   "cell_type": "code",
<<<<<<< HEAD
   "execution_count": 10,
=======
   "execution_count": 198,
>>>>>>> f2a56fb897605fe6e919463fdcc44666c7e9f183
   "metadata": {},
   "outputs": [
    {
     "data": {
      "text/html": [
       "<table class=\"simpletable\">\n",
       "<caption>OLS Regression Results</caption>\n",
       "<tr>\n",
       "  <th>Dep. Variable:</th>    <td>MinutesOfBeingAwake</td> <th>  R-squared:         </th> <td>   0.029</td>\n",
       "</tr>\n",
       "<tr>\n",
       "  <th>Model:</th>                    <td>OLS</td>         <th>  Adj. R-squared:    </th> <td>   0.026</td>\n",
       "</tr>\n",
       "<tr>\n",
       "  <th>Method:</th>              <td>Least Squares</td>    <th>  F-statistic:       </th> <td>   10.72</td>\n",
       "</tr>\n",
       "<tr>\n",
       "  <th>Date:</th>              <td>Tue, 10 Nov 2020</td>   <th>  Prob (F-statistic):</th>  <td>0.00116</td>\n",
       "</tr>\n",
       "<tr>\n",
<<<<<<< HEAD
       "  <th>Time:</th>                  <td>21:12:44</td>       <th>  Log-Likelihood:    </th> <td> -1586.6</td>\n",
=======
       "  <th>Time:</th>                  <td>10:52:05</td>       <th>  Log-Likelihood:    </th> <td> -1586.6</td>\n",
>>>>>>> f2a56fb897605fe6e919463fdcc44666c7e9f183
       "</tr>\n",
       "<tr>\n",
       "  <th>No. Observations:</th>       <td>   367</td>        <th>  AIC:               </th> <td>   3177.</td>\n",
       "</tr>\n",
       "<tr>\n",
       "  <th>Df Residuals:</th>           <td>   365</td>        <th>  BIC:               </th> <td>   3185.</td>\n",
       "</tr>\n",
       "<tr>\n",
       "  <th>Df Model:</th>               <td>     1</td>        <th>                     </th>     <td> </td>   \n",
       "</tr>\n",
       "<tr>\n",
       "  <th>Covariance Type:</th>       <td>nonrobust</td>      <th>                     </th>     <td> </td>   \n",
       "</tr>\n",
       "</table>\n",
       "<table class=\"simpletable\">\n",
       "<tr>\n",
       "         <td></td>           <th>coef</th>     <th>std err</th>      <th>t</th>      <th>P>|t|</th>  <th>[0.025</th>    <th>0.975]</th>  \n",
       "</tr>\n",
       "<tr>\n",
       "  <th>const</th>          <td>   30.9137</td> <td>    1.304</td> <td>   23.710</td> <td> 0.000</td> <td>   28.350</td> <td>   33.478</td>\n",
       "</tr>\n",
       "<tr>\n",
       "  <th>EfficientSleep</th> <td>   -6.2725</td> <td>    1.916</td> <td>   -3.274</td> <td> 0.001</td> <td>  -10.040</td> <td>   -2.505</td>\n",
       "</tr>\n",
       "</table>\n",
       "<table class=\"simpletable\">\n",
       "<tr>\n",
       "  <th>Omnibus:</th>       <td>17.383</td> <th>  Durbin-Watson:     </th> <td>   1.768</td>\n",
       "</tr>\n",
       "<tr>\n",
       "  <th>Prob(Omnibus):</th> <td> 0.000</td> <th>  Jarque-Bera (JB):  </th> <td>  10.279</td>\n",
       "</tr>\n",
       "<tr>\n",
       "  <th>Skew:</th>          <td>-0.251</td> <th>  Prob(JB):          </th> <td> 0.00586</td>\n",
       "</tr>\n",
       "<tr>\n",
       "  <th>Kurtosis:</th>      <td> 2.351</td> <th>  Cond. No.          </th> <td>    2.54</td>\n",
       "</tr>\n",
<<<<<<< HEAD
       "</table><br/><br/>Notes:<br/>[1] Standard Errors assume that the covariance matrix of the errors is correctly specified."
=======
       "</table><br/><br/>Warnings:<br/>[1] Standard Errors assume that the covariance matrix of the errors is correctly specified."
>>>>>>> f2a56fb897605fe6e919463fdcc44666c7e9f183
      ],
      "text/plain": [
       "<class 'statsmodels.iolib.summary.Summary'>\n",
       "\"\"\"\n",
       "                             OLS Regression Results                            \n",
       "===============================================================================\n",
       "Dep. Variable:     MinutesOfBeingAwake   R-squared:                       0.029\n",
       "Model:                             OLS   Adj. R-squared:                  0.026\n",
       "Method:                  Least Squares   F-statistic:                     10.72\n",
       "Date:                 Tue, 10 Nov 2020   Prob (F-statistic):            0.00116\n",
<<<<<<< HEAD
       "Time:                         21:12:44   Log-Likelihood:                -1586.6\n",
=======
       "Time:                         10:52:05   Log-Likelihood:                -1586.6\n",
>>>>>>> f2a56fb897605fe6e919463fdcc44666c7e9f183
       "No. Observations:                  367   AIC:                             3177.\n",
       "Df Residuals:                      365   BIC:                             3185.\n",
       "Df Model:                            1                                         \n",
       "Covariance Type:             nonrobust                                         \n",
       "==================================================================================\n",
       "                     coef    std err          t      P>|t|      [0.025      0.975]\n",
       "----------------------------------------------------------------------------------\n",
       "const             30.9137      1.304     23.710      0.000      28.350      33.478\n",
       "EfficientSleep    -6.2725      1.916     -3.274      0.001     -10.040      -2.505\n",
       "==============================================================================\n",
       "Omnibus:                       17.383   Durbin-Watson:                   1.768\n",
       "Prob(Omnibus):                  0.000   Jarque-Bera (JB):               10.279\n",
       "Skew:                          -0.251   Prob(JB):                      0.00586\n",
       "Kurtosis:                       2.351   Cond. No.                         2.54\n",
       "==============================================================================\n",
       "\n",
<<<<<<< HEAD
       "Notes:\n",
=======
       "Warnings:\n",
>>>>>>> f2a56fb897605fe6e919463fdcc44666c7e9f183
       "[1] Standard Errors assume that the covariance matrix of the errors is correctly specified.\n",
       "\"\"\""
      ]
     },
<<<<<<< HEAD
     "execution_count": 10,
=======
     "execution_count": 198,
>>>>>>> f2a56fb897605fe6e919463fdcc44666c7e9f183
     "metadata": {},
     "output_type": "execute_result"
    }
   ],
   "source": [
    "X = pd.DataFrame()\n",
    "X['EfficientSleep'] = np.where(data['Sleep efficiency']>90, 1, 0)\n",
    "X = sm.add_constant(X)\n",
    "model = sm.OLS(Y,X)\n",
    "results = model.fit()\n",
    "results.summary()"
   ]
  },
  {
   "cell_type": "markdown",
   "metadata": {},
   "source": [
    "#### Using 'Days' (categorical) as an explanatory variable\n"
   ]
  },
  {
   "cell_type": "code",
<<<<<<< HEAD
   "execution_count": 11,
=======
   "execution_count": 205,
>>>>>>> f2a56fb897605fe6e919463fdcc44666c7e9f183
   "metadata": {},
   "outputs": [
    {
     "data": {
      "text/html": [
       "<table class=\"simpletable\">\n",
       "<caption>OLS Regression Results</caption>\n",
       "<tr>\n",
       "  <th>Dep. Variable:</th>    <td>MinutesOfBeingAwake</td> <th>  R-squared:         </th> <td>   0.015</td>\n",
       "</tr>\n",
       "<tr>\n",
       "  <th>Model:</th>                    <td>OLS</td>         <th>  Adj. R-squared:    </th> <td>  -0.002</td>\n",
       "</tr>\n",
       "<tr>\n",
       "  <th>Method:</th>              <td>Least Squares</td>    <th>  F-statistic:       </th> <td>  0.8900</td>\n",
       "</tr>\n",
       "<tr>\n",
       "  <th>Date:</th>              <td>Tue, 10 Nov 2020</td>   <th>  Prob (F-statistic):</th>  <td> 0.502</td> \n",
       "</tr>\n",
       "<tr>\n",
<<<<<<< HEAD
       "  <th>Time:</th>                  <td>21:12:44</td>       <th>  Log-Likelihood:    </th> <td> -1589.2</td>\n",
=======
       "  <th>Time:</th>                  <td>10:56:18</td>       <th>  Log-Likelihood:    </th> <td> -1589.2</td>\n",
>>>>>>> f2a56fb897605fe6e919463fdcc44666c7e9f183
       "</tr>\n",
       "<tr>\n",
       "  <th>No. Observations:</th>       <td>   367</td>        <th>  AIC:               </th> <td>   3192.</td>\n",
       "</tr>\n",
       "<tr>\n",
       "  <th>Df Residuals:</th>           <td>   360</td>        <th>  BIC:               </th> <td>   3220.</td>\n",
       "</tr>\n",
       "<tr>\n",
       "  <th>Df Model:</th>               <td>     6</td>        <th>                     </th>     <td> </td>   \n",
       "</tr>\n",
       "<tr>\n",
       "  <th>Covariance Type:</th>       <td>nonrobust</td>      <th>                     </th>     <td> </td>   \n",
       "</tr>\n",
       "</table>\n",
       "<table class=\"simpletable\">\n",
       "<tr>\n",
       "      <td></td>         <th>coef</th>     <th>std err</th>      <th>t</th>      <th>P>|t|</th>  <th>[0.025</th>    <th>0.975]</th>  \n",
       "</tr>\n",
       "<tr>\n",
       "  <th>const</th>     <td>   28.0370</td> <td>    2.525</td> <td>   11.102</td> <td> 0.000</td> <td>   23.071</td> <td>   33.004</td>\n",
       "</tr>\n",
       "<tr>\n",
       "  <th>Monday</th>    <td>   -2.4793</td> <td>    3.606</td> <td>   -0.688</td> <td> 0.492</td> <td>   -9.570</td> <td>    4.612</td>\n",
       "</tr>\n",
       "<tr>\n",
       "  <th>Saturday</th>  <td>   -1.3767</td> <td>    3.588</td> <td>   -0.384</td> <td> 0.701</td> <td>   -8.433</td> <td>    5.680</td>\n",
       "</tr>\n",
       "<tr>\n",
       "  <th>Sunday</th>    <td>   -0.9024</td> <td>    3.606</td> <td>   -0.250</td> <td> 0.803</td> <td>   -7.993</td> <td>    6.188</td>\n",
       "</tr>\n",
       "<tr>\n",
       "  <th>Thursday</th>  <td>    4.9630</td> <td>    3.606</td> <td>    1.376</td> <td> 0.170</td> <td>   -2.128</td> <td>   12.054</td>\n",
       "</tr>\n",
       "<tr>\n",
       "  <th>Tuesday</th>   <td>   -1.1332</td> <td>    3.606</td> <td>   -0.314</td> <td> 0.753</td> <td>   -8.224</td> <td>    5.958</td>\n",
       "</tr>\n",
       "<tr>\n",
       "  <th>Wednesday</th> <td>    0.7514</td> <td>    3.606</td> <td>    0.208</td> <td> 0.835</td> <td>   -6.339</td> <td>    7.842</td>\n",
       "</tr>\n",
       "</table>\n",
       "<table class=\"simpletable\">\n",
       "<tr>\n",
       "  <th>Omnibus:</th>       <td>25.696</td> <th>  Durbin-Watson:     </th> <td>   1.808</td>\n",
       "</tr>\n",
       "<tr>\n",
       "  <th>Prob(Omnibus):</th> <td> 0.000</td> <th>  Jarque-Bera (JB):  </th> <td>   9.589</td>\n",
       "</tr>\n",
       "<tr>\n",
       "  <th>Skew:</th>          <td> 0.062</td> <th>  Prob(JB):          </th> <td> 0.00827</td>\n",
       "</tr>\n",
       "<tr>\n",
       "  <th>Kurtosis:</th>      <td> 2.218</td> <th>  Cond. No.          </th> <td>    7.77</td>\n",
       "</tr>\n",
<<<<<<< HEAD
       "</table><br/><br/>Notes:<br/>[1] Standard Errors assume that the covariance matrix of the errors is correctly specified."
=======
       "</table><br/><br/>Warnings:<br/>[1] Standard Errors assume that the covariance matrix of the errors is correctly specified."
>>>>>>> f2a56fb897605fe6e919463fdcc44666c7e9f183
      ],
      "text/plain": [
       "<class 'statsmodels.iolib.summary.Summary'>\n",
       "\"\"\"\n",
       "                             OLS Regression Results                            \n",
       "===============================================================================\n",
       "Dep. Variable:     MinutesOfBeingAwake   R-squared:                       0.015\n",
       "Model:                             OLS   Adj. R-squared:                 -0.002\n",
       "Method:                  Least Squares   F-statistic:                    0.8900\n",
       "Date:                 Tue, 10 Nov 2020   Prob (F-statistic):              0.502\n",
<<<<<<< HEAD
       "Time:                         21:12:44   Log-Likelihood:                -1589.2\n",
=======
       "Time:                         10:56:18   Log-Likelihood:                -1589.2\n",
>>>>>>> f2a56fb897605fe6e919463fdcc44666c7e9f183
       "No. Observations:                  367   AIC:                             3192.\n",
       "Df Residuals:                      360   BIC:                             3220.\n",
       "Df Model:                            6                                         \n",
       "Covariance Type:             nonrobust                                         \n",
       "==============================================================================\n",
       "                 coef    std err          t      P>|t|      [0.025      0.975]\n",
       "------------------------------------------------------------------------------\n",
       "const         28.0370      2.525     11.102      0.000      23.071      33.004\n",
       "Monday        -2.4793      3.606     -0.688      0.492      -9.570       4.612\n",
       "Saturday      -1.3767      3.588     -0.384      0.701      -8.433       5.680\n",
       "Sunday        -0.9024      3.606     -0.250      0.803      -7.993       6.188\n",
       "Thursday       4.9630      3.606      1.376      0.170      -2.128      12.054\n",
       "Tuesday       -1.1332      3.606     -0.314      0.753      -8.224       5.958\n",
       "Wednesday      0.7514      3.606      0.208      0.835      -6.339       7.842\n",
       "==============================================================================\n",
       "Omnibus:                       25.696   Durbin-Watson:                   1.808\n",
       "Prob(Omnibus):                  0.000   Jarque-Bera (JB):                9.589\n",
       "Skew:                           0.062   Prob(JB):                      0.00827\n",
       "Kurtosis:                       2.218   Cond. No.                         7.77\n",
       "==============================================================================\n",
       "\n",
<<<<<<< HEAD
       "Notes:\n",
=======
       "Warnings:\n",
>>>>>>> f2a56fb897605fe6e919463fdcc44666c7e9f183
       "[1] Standard Errors assume that the covariance matrix of the errors is correctly specified.\n",
       "\"\"\""
      ]
     },
<<<<<<< HEAD
     "execution_count": 11,
=======
     "execution_count": 205,
>>>>>>> f2a56fb897605fe6e919463fdcc44666c7e9f183
     "metadata": {},
     "output_type": "execute_result"
    }
   ],
   "source": [
    "X = pd.get_dummies(data['Days'], drop_first = True)\n",
    "X = sm.add_constant(X)\n",
    "model = sm.OLS(Y,X)\n",
    "results = model.fit()\n",
    "results.summary()"
   ]
  },
  {
   "cell_type": "markdown",
   "metadata": {},
   "source": [
    "### Estimating OLS parameters using scipy.stats"
   ]
  },
  {
   "cell_type": "code",
<<<<<<< HEAD
   "execution_count": 12,
   "metadata": {},
   "outputs": [
    {
     "name": "stdout",
     "output_type": "stream",
     "text": [
      "Help on function linregress in module scipy.stats._stats_mstats_common:\n",
      "\n",
      "linregress(x, y=None)\n",
      "    Calculate a linear least-squares regression for two sets of measurements.\n",
      "    \n",
      "    Parameters\n",
      "    ----------\n",
      "    x, y : array_like\n",
      "        Two sets of measurements.  Both arrays should have the same length.  If\n",
      "        only `x` is given (and ``y=None``), then it must be a two-dimensional\n",
      "        array where one dimension has length 2.  The two sets of measurements\n",
      "        are then found by splitting the array along the length-2 dimension.  In\n",
      "        the case where ``y=None`` and `x` is a 2x2 array, ``linregress(x)`` is\n",
      "        equivalent to ``linregress(x[0], x[1])``.\n",
      "    \n",
      "    Returns\n",
      "    -------\n",
      "    slope : float\n",
      "        Slope of the regression line.\n",
      "    intercept : float\n",
      "        Intercept of the regression line.\n",
      "    rvalue : float\n",
      "        Correlation coefficient.\n",
      "    pvalue : float\n",
      "        Two-sided p-value for a hypothesis test whose null hypothesis is\n",
      "        that the slope is zero, using Wald Test with t-distribution of\n",
      "        the test statistic.\n",
      "    stderr : float\n",
      "        Standard error of the estimated gradient.\n",
      "    \n",
      "    See also\n",
      "    --------\n",
      "    :func:`scipy.optimize.curve_fit` : Use non-linear\n",
      "     least squares to fit a function to data.\n",
      "    :func:`scipy.optimize.leastsq` : Minimize the sum of\n",
      "     squares of a set of equations.\n",
      "    \n",
      "    Notes\n",
      "    -----\n",
      "    Missing values are considered pair-wise: if a value is missing in `x`,\n",
      "    the corresponding value in `y` is masked.\n",
      "    \n",
      "    Examples\n",
      "    --------\n",
      "    >>> import matplotlib.pyplot as plt\n",
      "    >>> from scipy import stats\n",
      "    \n",
      "    Generate some data:\n",
      "    \n",
      "    >>> np.random.seed(12345678)\n",
      "    >>> x = np.random.random(10)\n",
      "    >>> y = 1.6*x + np.random.random(10)\n",
      "    \n",
      "    Perform the linear regression:\n",
      "    \n",
      "    >>> slope, intercept, r_value, p_value, std_err = stats.linregress(x, y)\n",
      "    >>> print(\"slope: %f    intercept: %f\" % (slope, intercept))\n",
      "    slope: 1.944864    intercept: 0.268578\n",
      "    \n",
      "    To get coefficient of determination (R-squared):\n",
      "    \n",
      "    >>> print(\"R-squared: %f\" % r_value**2)\n",
      "    R-squared: 0.735498\n",
      "    \n",
      "    Plot the data along with the fitted line:\n",
      "    \n",
      "    >>> plt.plot(x, y, 'o', label='original data')\n",
      "    >>> plt.plot(x, intercept + slope*x, 'r', label='fitted line')\n",
      "    >>> plt.legend()\n",
      "    >>> plt.show()\n",
      "    \n",
      "    Example for the case where only x is provided as a 2x2 array:\n",
      "    \n",
      "    >>> x = np.array([[0, 1], [0, 2]])\n",
      "    >>> r = stats.linregress(x)\n",
      "    >>> r.slope, r.intercept\n",
      "    (2.0, 0.0)\n",
      "\n"
     ]
    }
   ],
=======
   "execution_count": null,
   "metadata": {},
   "outputs": [],
>>>>>>> f2a56fb897605fe6e919463fdcc44666c7e9f183
   "source": [
    "from scipy.stats import linregress\n",
    "help(linregress)"
   ]
  },
  {
   "cell_type": "code",
<<<<<<< HEAD
   "execution_count": 13,
   "metadata": {},
   "outputs": [
    {
     "name": "stdout",
     "output_type": "stream",
     "text": [
      "The slope is: 1.6405141436199793\n",
      "The intercept is: 1.4381033523783202\n"
     ]
    }
   ],
=======
   "execution_count": null,
   "metadata": {},
   "outputs": [],
>>>>>>> f2a56fb897605fe6e919463fdcc44666c7e9f183
   "source": [
    "X = data['NumberOfAwakings']\n",
    "Y = data['MinutesOfBeingAwake']\n",
    "slope, intercept, r_value, p_value, std_err  = linregress(X, Y)\n",
    "print ('The slope is: ' + str(slope))\n",
    "print ('The intercept is: ' + str(intercept))"
   ]
  },
  {
   "cell_type": "markdown",
   "metadata": {},
   "source": [
    "#### Predictions"
   ]
  },
  {
   "cell_type": "code",
<<<<<<< HEAD
   "execution_count": 14,
   "metadata": {},
   "outputs": [
    {
     "name": "stdout",
     "output_type": "stream",
     "text": [
      "[39.16992865563785, 35.888900368397884, 42.4509569428778, 35.888900368397884, 73.62072567165741, 52.294041804597676, 21.12427307581807, 27.68632965029799, 30.967357937537948, 19.483758932198093, 14.562216501338154, 45.73198523011776, 37.529414512017865, 44.09147108649778, 44.09147108649778, 40.81044279925782, 32.60787208115792, 1.4381033523783202, 47.37249937373774, 29.326843793917966, 53.93455594821766, 44.09147108649778, 42.4509569428778, 55.57507009183764, 44.09147108649778, 57.21558423545761, 49.01301351735772, 26.04581550667801, 57.21558423545761, 45.73198523011776, 32.60787208115792, 50.6535276609777, 42.4509569428778, 24.40530136305803, 50.6535276609777, 6.359645783238258, 35.888900368397884, 24.40530136305803, 24.40530136305803, 29.326843793917966, 22.764787219438052, 19.483758932198093, 1.4381033523783202, 16.202730644958134, 50.6535276609777, 39.16992865563785, 44.09147108649778, 37.529414512017865, 49.01301351735772, 40.81044279925782, 47.37249937373774, 26.04581550667801, 26.04581550667801, 35.888900368397884, 12.921702357718175, 32.60787208115792, 37.529414512017865, 26.04581550667801, 29.326843793917966, 24.40530136305803, 22.764787219438052, 19.483758932198093, 32.60787208115792, 45.73198523011776, 22.764787219438052, 12.921702357718175, 30.967357937537948, 12.921702357718175, 45.73198523011776, 27.68632965029799, 29.326843793917966, 26.04581550667801, 24.40530136305803, 19.483758932198093, 19.483758932198093, 27.68632965029799, 40.81044279925782, 17.84324478857811, 40.81044279925782, 22.764787219438052, 1.4381033523783202, 27.68632965029799, 27.68632965029799, 35.888900368397884, 42.4509569428778, 12.921702357718175, 52.294041804597676, 39.16992865563785, 32.60787208115792, 52.294041804597676, 1.4381033523783202, 63.77764080993753, 30.967357937537948, 27.68632965029799, 34.2483862247779, 21.12427307581807, 21.12427307581807, 29.326843793917966, 40.81044279925782, 1.4381033523783202, 9.640674070478216, 1.4381033523783202, 29.326843793917966, 19.483758932198093, 45.73198523011776, 27.68632965029799, 22.764787219438052, 63.77764080993753, 26.04581550667801, 22.764787219438052, 55.57507009183764, 39.16992865563785, 32.60787208115792, 55.57507009183764, 11.281188214098195, 24.40530136305803, 62.137126666317556, 1.4381033523783202, 14.562216501338154, 6.359645783238258, 1.4381033523783202, 16.202730644958134, 34.2483862247779, 1.4381033523783202, 30.967357937537948, 35.888900368397884, 30.967357937537948, 1.4381033523783202, 16.202730644958134, 55.57507009183764, 14.562216501338154, 26.04581550667801, 75.26123981527739, 57.21558423545761, 1.4381033523783202, 19.483758932198093, 45.73198523011776, 49.01301351735772, 50.6535276609777, 40.81044279925782, 1.4381033523783202, 1.4381033523783202, 29.326843793917966, 29.326843793917966, 1.4381033523783202, 27.68632965029799, 50.6535276609777, 17.84324478857811, 39.16992865563785, 44.09147108649778, 27.68632965029799, 45.73198523011776, 47.37249937373774, 1.4381033523783202, 9.640674070478216, 4.719131639618279, 58.856098379077594, 14.562216501338154, 1.4381033523783202, 55.57507009183764, 11.281188214098195, 1.4381033523783202, 1.4381033523783202, 1.4381033523783202, 1.4381033523783202, 1.4381033523783202, 27.68632965029799, 55.57507009183764, 11.281188214098195, 49.01301351735772, 1.4381033523783202, 1.4381033523783202, 17.84324478857811, 11.281188214098195, 24.40530136305803, 17.84324478857811, 26.04581550667801, 39.16992865563785, 24.40530136305803, 1.4381033523783202, 9.640674070478216, 39.16992865563785, 12.921702357718175, 1.4381033523783202, 1.4381033523783202, 35.888900368397884, 47.37249937373774, 19.483758932198093, 26.04581550667801, 29.326843793917966, 62.137126666317556, 44.09147108649778, 9.640674070478216, 52.294041804597676, 1.4381033523783202, 24.40530136305803, 35.888900368397884, 1.4381033523783202, 39.16992865563785, 40.81044279925782, 44.09147108649778, 42.4509569428778, 1.4381033523783202, 1.4381033523783202, 27.68632965029799, 1.4381033523783202, 3.0786174959982997, 1.4381033523783202, 29.326843793917966, 53.93455594821766, 37.529414512017865, 40.81044279925782, 24.40530136305803, 55.57507009183764, 35.888900368397884, 1.4381033523783202, 8.000159926858238, 12.921702357718175, 11.281188214098195, 1.4381033523783202, 52.294041804597676, 1.4381033523783202, 1.4381033523783202, 58.856098379077594, 34.2483862247779, 35.888900368397884, 11.281188214098195, 4.719131639618279, 8.000159926858238, 1.4381033523783202, 37.529414512017865, 47.37249937373774, 17.84324478857811, 19.483758932198093, 1.4381033523783202, 1.4381033523783202, 45.73198523011776, 45.73198523011776, 40.81044279925782, 30.967357937537948, 11.281188214098195, 55.57507009183764, 22.764787219438052, 24.40530136305803, 32.60787208115792, 1.4381033523783202, 52.294041804597676, 32.60787208115792, 37.529414512017865, 14.562216501338154, 17.84324478857811, 17.84324478857811, 1.4381033523783202, 19.483758932198093, 30.967357937537948, 12.921702357718175, 32.60787208115792, 37.529414512017865, 45.73198523011776, 44.09147108649778, 9.640674070478216, 1.4381033523783202, 40.81044279925782, 50.6535276609777, 60.496612522697575, 47.37249937373774, 52.294041804597676, 1.4381033523783202, 37.529414512017865, 35.888900368397884, 45.73198523011776, 34.2483862247779, 24.40530136305803, 47.37249937373774, 24.40530136305803, 32.60787208115792, 12.921702357718175, 50.6535276609777, 35.888900368397884, 1.4381033523783202, 26.04581550667801, 24.40530136305803, 49.01301351735772, 34.2483862247779, 1.4381033523783202, 27.68632965029799, 12.921702357718175, 1.4381033523783202, 16.202730644958134, 52.294041804597676, 53.93455594821766, 1.4381033523783202, 16.202730644958134, 16.202730644958134, 35.888900368397884, 1.4381033523783202, 1.4381033523783202, 27.68632965029799, 12.921702357718175, 44.09147108649778, 37.529414512017865, 47.37249937373774, 9.640674070478216, 26.04581550667801, 1.4381033523783202, 39.16992865563785, 30.967357937537948, 1.4381033523783202, 30.967357937537948, 1.4381033523783202, 17.84324478857811, 1.4381033523783202, 1.4381033523783202, 9.640674070478216, 37.529414512017865, 17.84324478857811, 29.326843793917966, 52.294041804597676, 39.16992865563785, 22.764787219438052, 44.09147108649778, 22.764787219438052, 22.764787219438052, 9.640674070478216, 8.000159926858238, 58.856098379077594, 1.4381033523783202, 1.4381033523783202, 35.888900368397884, 26.04581550667801, 39.16992865563785, 6.359645783238258, 39.16992865563785, 27.68632965029799, 14.562216501338154, 26.04581550667801, 12.921702357718175, 40.81044279925782, 17.84324478857811, 37.529414512017865, 44.09147108649778, 35.888900368397884, 52.294041804597676, 30.967357937537948, 34.2483862247779, 42.4509569428778, 1.4381033523783202, 21.12427307581807, 1.4381033523783202, 29.326843793917966, 29.326843793917966, 65.41815495355752, 47.37249937373774, 52.294041804597676, 24.40530136305803, 17.84324478857811, 45.73198523011776, 57.21558423545761, 16.202730644958134, 45.73198523011776, 34.2483862247779, 39.16992865563785, 30.967357937537948, 14.562216501338154, 26.04581550667801, 37.529414512017865, 52.294041804597676]\n"
     ]
    }
   ],
=======
   "execution_count": null,
   "metadata": {},
   "outputs": [],
>>>>>>> f2a56fb897605fe6e919463fdcc44666c7e9f183
   "source": [
    "predictions = [intercept + slope*x for x in X]\n",
    "print(predictions)"
   ]
  },
  {
   "cell_type": "markdown",
   "metadata": {},
   "source": [
    "#### Calculating residuals"
   ]
  },
  {
   "cell_type": "code",
<<<<<<< HEAD
   "execution_count": 15,
=======
   "execution_count": null,
>>>>>>> f2a56fb897605fe6e919463fdcc44666c7e9f183
   "metadata": {},
   "outputs": [],
   "source": [
    "residuals = [Y[i] - predictions[i] for i in range(len(Y))]"
   ]
  },
  {
   "cell_type": "markdown",
   "metadata": {},
   "source": [
    "## Using sklearn"
   ]
  },
  {
   "cell_type": "code",
<<<<<<< HEAD
   "execution_count": 16,
   "metadata": {},
   "outputs": [
    {
     "name": "stdout",
     "output_type": "stream",
     "text": [
      "Help on class LinearRegression in module sklearn.linear_model._base:\n",
      "\n",
      "class LinearRegression(sklearn.base.MultiOutputMixin, sklearn.base.RegressorMixin, LinearModel)\n",
      " |  LinearRegression(*, fit_intercept=True, normalize=False, copy_X=True, n_jobs=None)\n",
      " |  \n",
      " |  Ordinary least squares Linear Regression.\n",
      " |  \n",
      " |  LinearRegression fits a linear model with coefficients w = (w1, ..., wp)\n",
      " |  to minimize the residual sum of squares between the observed targets in\n",
      " |  the dataset, and the targets predicted by the linear approximation.\n",
      " |  \n",
      " |  Parameters\n",
      " |  ----------\n",
      " |  fit_intercept : bool, default=True\n",
      " |      Whether to calculate the intercept for this model. If set\n",
      " |      to False, no intercept will be used in calculations\n",
      " |      (i.e. data is expected to be centered).\n",
      " |  \n",
      " |  normalize : bool, default=False\n",
      " |      This parameter is ignored when ``fit_intercept`` is set to False.\n",
      " |      If True, the regressors X will be normalized before regression by\n",
      " |      subtracting the mean and dividing by the l2-norm.\n",
      " |      If you wish to standardize, please use\n",
      " |      :class:`sklearn.preprocessing.StandardScaler` before calling ``fit`` on\n",
      " |      an estimator with ``normalize=False``.\n",
      " |  \n",
      " |  copy_X : bool, default=True\n",
      " |      If True, X will be copied; else, it may be overwritten.\n",
      " |  \n",
      " |  n_jobs : int, default=None\n",
      " |      The number of jobs to use for the computation. This will only provide\n",
      " |      speedup for n_targets > 1 and sufficient large problems.\n",
      " |      ``None`` means 1 unless in a :obj:`joblib.parallel_backend` context.\n",
      " |      ``-1`` means using all processors. See :term:`Glossary <n_jobs>`\n",
      " |      for more details.\n",
      " |  \n",
      " |  Attributes\n",
      " |  ----------\n",
      " |  coef_ : array of shape (n_features, ) or (n_targets, n_features)\n",
      " |      Estimated coefficients for the linear regression problem.\n",
      " |      If multiple targets are passed during the fit (y 2D), this\n",
      " |      is a 2D array of shape (n_targets, n_features), while if only\n",
      " |      one target is passed, this is a 1D array of length n_features.\n",
      " |  \n",
      " |  rank_ : int\n",
      " |      Rank of matrix `X`. Only available when `X` is dense.\n",
      " |  \n",
      " |  singular_ : array of shape (min(X, y),)\n",
      " |      Singular values of `X`. Only available when `X` is dense.\n",
      " |  \n",
      " |  intercept_ : float or array of shape (n_targets,)\n",
      " |      Independent term in the linear model. Set to 0.0 if\n",
      " |      `fit_intercept = False`.\n",
      " |  \n",
      " |  See Also\n",
      " |  --------\n",
      " |  sklearn.linear_model.Ridge : Ridge regression addresses some of the\n",
      " |      problems of Ordinary Least Squares by imposing a penalty on the\n",
      " |      size of the coefficients with l2 regularization.\n",
      " |  sklearn.linear_model.Lasso : The Lasso is a linear model that estimates\n",
      " |      sparse coefficients with l1 regularization.\n",
      " |  sklearn.linear_model.ElasticNet : Elastic-Net is a linear regression\n",
      " |      model trained with both l1 and l2 -norm regularization of the\n",
      " |      coefficients.\n",
      " |  \n",
      " |  Notes\n",
      " |  -----\n",
      " |  From the implementation point of view, this is just plain Ordinary\n",
      " |  Least Squares (scipy.linalg.lstsq) wrapped as a predictor object.\n",
      " |  \n",
      " |  Examples\n",
      " |  --------\n",
      " |  >>> import numpy as np\n",
      " |  >>> from sklearn.linear_model import LinearRegression\n",
      " |  >>> X = np.array([[1, 1], [1, 2], [2, 2], [2, 3]])\n",
      " |  >>> # y = 1 * x_0 + 2 * x_1 + 3\n",
      " |  >>> y = np.dot(X, np.array([1, 2])) + 3\n",
      " |  >>> reg = LinearRegression().fit(X, y)\n",
      " |  >>> reg.score(X, y)\n",
      " |  1.0\n",
      " |  >>> reg.coef_\n",
      " |  array([1., 2.])\n",
      " |  >>> reg.intercept_\n",
      " |  3.0000...\n",
      " |  >>> reg.predict(np.array([[3, 5]]))\n",
      " |  array([16.])\n",
      " |  \n",
      " |  Method resolution order:\n",
      " |      LinearRegression\n",
      " |      sklearn.base.MultiOutputMixin\n",
      " |      sklearn.base.RegressorMixin\n",
      " |      LinearModel\n",
      " |      sklearn.base.BaseEstimator\n",
      " |      builtins.object\n",
      " |  \n",
      " |  Methods defined here:\n",
      " |  \n",
      " |  __init__(self, *, fit_intercept=True, normalize=False, copy_X=True, n_jobs=None)\n",
      " |      Initialize self.  See help(type(self)) for accurate signature.\n",
      " |  \n",
      " |  fit(self, X, y, sample_weight=None)\n",
      " |      Fit linear model.\n",
      " |      \n",
      " |      Parameters\n",
      " |      ----------\n",
      " |      X : {array-like, sparse matrix} of shape (n_samples, n_features)\n",
      " |          Training data\n",
      " |      \n",
      " |      y : array-like of shape (n_samples,) or (n_samples, n_targets)\n",
      " |          Target values. Will be cast to X's dtype if necessary\n",
      " |      \n",
      " |      sample_weight : array-like of shape (n_samples,), default=None\n",
      " |          Individual weights for each sample\n",
      " |      \n",
      " |          .. versionadded:: 0.17\n",
      " |             parameter *sample_weight* support to LinearRegression.\n",
      " |      \n",
      " |      Returns\n",
      " |      -------\n",
      " |      self : returns an instance of self.\n",
      " |  \n",
      " |  ----------------------------------------------------------------------\n",
      " |  Data and other attributes defined here:\n",
      " |  \n",
      " |  __abstractmethods__ = frozenset()\n",
      " |  \n",
      " |  ----------------------------------------------------------------------\n",
      " |  Data descriptors inherited from sklearn.base.MultiOutputMixin:\n",
      " |  \n",
      " |  __dict__\n",
      " |      dictionary for instance variables (if defined)\n",
      " |  \n",
      " |  __weakref__\n",
      " |      list of weak references to the object (if defined)\n",
      " |  \n",
      " |  ----------------------------------------------------------------------\n",
      " |  Methods inherited from sklearn.base.RegressorMixin:\n",
      " |  \n",
      " |  score(self, X, y, sample_weight=None)\n",
      " |      Return the coefficient of determination R^2 of the prediction.\n",
      " |      \n",
      " |      The coefficient R^2 is defined as (1 - u/v), where u is the residual\n",
      " |      sum of squares ((y_true - y_pred) ** 2).sum() and v is the total\n",
      " |      sum of squares ((y_true - y_true.mean()) ** 2).sum().\n",
      " |      The best possible score is 1.0 and it can be negative (because the\n",
      " |      model can be arbitrarily worse). A constant model that always\n",
      " |      predicts the expected value of y, disregarding the input features,\n",
      " |      would get a R^2 score of 0.0.\n",
      " |      \n",
      " |      Parameters\n",
      " |      ----------\n",
      " |      X : array-like of shape (n_samples, n_features)\n",
      " |          Test samples. For some estimators this may be a\n",
      " |          precomputed kernel matrix or a list of generic objects instead,\n",
      " |          shape = (n_samples, n_samples_fitted),\n",
      " |          where n_samples_fitted is the number of\n",
      " |          samples used in the fitting for the estimator.\n",
      " |      \n",
      " |      y : array-like of shape (n_samples,) or (n_samples, n_outputs)\n",
      " |          True values for X.\n",
      " |      \n",
      " |      sample_weight : array-like of shape (n_samples,), default=None\n",
      " |          Sample weights.\n",
      " |      \n",
      " |      Returns\n",
      " |      -------\n",
      " |      score : float\n",
      " |          R^2 of self.predict(X) wrt. y.\n",
      " |      \n",
      " |      Notes\n",
      " |      -----\n",
      " |      The R2 score used when calling ``score`` on a regressor uses\n",
      " |      ``multioutput='uniform_average'`` from version 0.23 to keep consistent\n",
      " |      with default value of :func:`~sklearn.metrics.r2_score`.\n",
      " |      This influences the ``score`` method of all the multioutput\n",
      " |      regressors (except for\n",
      " |      :class:`~sklearn.multioutput.MultiOutputRegressor`).\n",
      " |  \n",
      " |  ----------------------------------------------------------------------\n",
      " |  Methods inherited from LinearModel:\n",
      " |  \n",
      " |  predict(self, X)\n",
      " |      Predict using the linear model.\n",
      " |      \n",
      " |      Parameters\n",
      " |      ----------\n",
      " |      X : array_like or sparse matrix, shape (n_samples, n_features)\n",
      " |          Samples.\n",
      " |      \n",
      " |      Returns\n",
      " |      -------\n",
      " |      C : array, shape (n_samples,)\n",
      " |          Returns predicted values.\n",
      " |  \n",
      " |  ----------------------------------------------------------------------\n",
      " |  Methods inherited from sklearn.base.BaseEstimator:\n",
      " |  \n",
      " |  __getstate__(self)\n",
      " |  \n",
      " |  __repr__(self, N_CHAR_MAX=700)\n",
      " |      Return repr(self).\n",
      " |  \n",
      " |  __setstate__(self, state)\n",
      " |  \n",
      " |  get_params(self, deep=True)\n",
      " |      Get parameters for this estimator.\n",
      " |      \n",
      " |      Parameters\n",
      " |      ----------\n",
      " |      deep : bool, default=True\n",
      " |          If True, will return the parameters for this estimator and\n",
      " |          contained subobjects that are estimators.\n",
      " |      \n",
      " |      Returns\n",
      " |      -------\n",
      " |      params : mapping of string to any\n",
      " |          Parameter names mapped to their values.\n",
      " |  \n",
      " |  set_params(self, **params)\n",
      " |      Set the parameters of this estimator.\n",
      " |      \n",
      " |      The method works on simple estimators as well as on nested objects\n",
      " |      (such as pipelines). The latter have parameters of the form\n",
      " |      ``<component>__<parameter>`` so that it's possible to update each\n",
      " |      component of a nested object.\n",
      " |      \n",
      " |      Parameters\n",
      " |      ----------\n",
      " |      **params : dict\n",
      " |          Estimator parameters.\n",
      " |      \n",
      " |      Returns\n",
      " |      -------\n",
      " |      self : object\n",
      " |          Estimator instance.\n",
      "\n"
     ]
    }
   ],
=======
   "execution_count": null,
   "metadata": {},
   "outputs": [],
>>>>>>> f2a56fb897605fe6e919463fdcc44666c7e9f183
   "source": [
    "from sklearn import linear_model\n",
    "from sklearn.metrics import mean_squared_error, r2_score\n",
    "help(linear_model.LinearRegression)"
   ]
  },
  {
   "cell_type": "code",
<<<<<<< HEAD
   "execution_count": 17,
   "metadata": {},
   "outputs": [
    {
     "data": {
      "text/plain": [
       "0.9059552749155962"
      ]
     },
     "execution_count": 17,
     "metadata": {},
     "output_type": "execute_result"
    }
   ],
=======
   "execution_count": null,
   "metadata": {},
   "outputs": [],
>>>>>>> f2a56fb897605fe6e919463fdcc44666c7e9f183
   "source": [
    "X = X.values.reshape(-1, 1)\n",
    "lm = linear_model.LinearRegression()\n",
    "model = lm.fit(X,Y)\n",
    "lm.score(X,Y)"
   ]
  },
  {
   "cell_type": "code",
<<<<<<< HEAD
   "execution_count": 18,
   "metadata": {},
   "outputs": [
    {
     "name": "stdout",
     "output_type": "stream",
     "text": [
      "1.4381033523783096\n",
      "[1.64051414]\n",
      "0.9059552749155962\n",
      "32.24298427103866\n"
     ]
    }
   ],
=======
   "execution_count": null,
   "metadata": {},
   "outputs": [],
>>>>>>> f2a56fb897605fe6e919463fdcc44666c7e9f183
   "source": [
    "print(lm.intercept_)\n",
    "print(lm.coef_)\n",
    "predictions = lm.predict(X)\n",
    "print(r2_score(Y, predictions))\n",
    "print(mean_squared_error(Y, predictions))\n"
   ]
  },
  {
   "cell_type": "markdown",
   "metadata": {},
   "source": [
    "## Logistic Regression"
   ]
  },
  {
   "cell_type": "code",
<<<<<<< HEAD
   "execution_count": 19,
=======
   "execution_count": 216,
>>>>>>> f2a56fb897605fe6e919463fdcc44666c7e9f183
   "metadata": {},
   "outputs": [
    {
     "name": "stdout",
     "output_type": "stream",
     "text": [
      "Optimization terminated successfully.\n",
      "         Current function value: 0.676012\n",
      "         Iterations 4\n"
     ]
    },
    {
     "data": {
      "text/html": [
       "<table class=\"simpletable\">\n",
       "<caption>Logit Regression Results</caption>\n",
       "<tr>\n",
       "  <th>Dep. Variable:</th>           <td>0</td>        <th>  No. Observations:  </th>  <td>   367</td> \n",
       "</tr>\n",
       "<tr>\n",
       "  <th>Model:</th>                 <td>Logit</td>      <th>  Df Residuals:      </th>  <td>   365</td> \n",
       "</tr>\n",
       "<tr>\n",
       "  <th>Method:</th>                 <td>MLE</td>       <th>  Df Model:          </th>  <td>     1</td> \n",
       "</tr>\n",
       "<tr>\n",
       "  <th>Date:</th>            <td>Tue, 10 Nov 2020</td> <th>  Pseudo R-squ.:     </th>  <td>0.02089</td>\n",
       "</tr>\n",
       "<tr>\n",
<<<<<<< HEAD
       "  <th>Time:</th>                <td>21:12:46</td>     <th>  Log-Likelihood:    </th> <td> -248.10</td>\n",
=======
       "  <th>Time:</th>                <td>11:06:34</td>     <th>  Log-Likelihood:    </th> <td> -248.10</td>\n",
>>>>>>> f2a56fb897605fe6e919463fdcc44666c7e9f183
       "</tr>\n",
       "<tr>\n",
       "  <th>converged:</th>             <td>True</td>       <th>  LL-Null:           </th> <td> -253.39</td>\n",
       "</tr>\n",
       "<tr>\n",
       "  <th>Covariance Type:</th>     <td>nonrobust</td>    <th>  LLR p-value:       </th> <td>0.001138</td>\n",
       "</tr>\n",
       "</table>\n",
       "<table class=\"simpletable\">\n",
       "<tr>\n",
       "           <td></td>              <th>coef</th>     <th>std err</th>      <th>z</th>      <th>P>|z|</th>  <th>[0.025</th>    <th>0.975]</th>  \n",
       "</tr>\n",
       "<tr>\n",
       "  <th>const</th>               <td>    0.3719</td> <td>    0.193</td> <td>    1.930</td> <td> 0.054</td> <td>   -0.006</td> <td>    0.750</td>\n",
       "</tr>\n",
       "<tr>\n",
       "  <th>MinutesOfBeingAwake</th> <td>   -0.0187</td> <td>    0.006</td> <td>   -3.202</td> <td> 0.001</td> <td>   -0.030</td> <td>   -0.007</td>\n",
       "</tr>\n",
       "</table>"
      ],
      "text/plain": [
       "<class 'statsmodels.iolib.summary.Summary'>\n",
       "\"\"\"\n",
       "                           Logit Regression Results                           \n",
       "==============================================================================\n",
       "Dep. Variable:                      0   No. Observations:                  367\n",
       "Model:                          Logit   Df Residuals:                      365\n",
       "Method:                           MLE   Df Model:                            1\n",
       "Date:                Tue, 10 Nov 2020   Pseudo R-squ.:                 0.02089\n",
<<<<<<< HEAD
       "Time:                        21:12:46   Log-Likelihood:                -248.10\n",
=======
       "Time:                        11:06:34   Log-Likelihood:                -248.10\n",
>>>>>>> f2a56fb897605fe6e919463fdcc44666c7e9f183
       "converged:                       True   LL-Null:                       -253.39\n",
       "Covariance Type:            nonrobust   LLR p-value:                  0.001138\n",
       "=======================================================================================\n",
       "                          coef    std err          z      P>|z|      [0.025      0.975]\n",
       "---------------------------------------------------------------------------------------\n",
       "const                   0.3719      0.193      1.930      0.054      -0.006       0.750\n",
       "MinutesOfBeingAwake    -0.0187      0.006     -3.202      0.001      -0.030      -0.007\n",
       "=======================================================================================\n",
       "\"\"\""
      ]
     },
<<<<<<< HEAD
     "execution_count": 19,
=======
     "execution_count": 216,
>>>>>>> f2a56fb897605fe6e919463fdcc44666c7e9f183
     "metadata": {},
     "output_type": "execute_result"
    }
   ],
   "source": [
    "Y = pd.DataFrame(np.where(data['Sleep efficiency']>90, 1, 0))\n",
    "X = data['MinutesOfBeingAwake']\n",
    "X = sm.add_constant(X)\n",
    "model = sm.Logit(Y, X)\n",
    "results = model.fit()\n",
    "results.summary()"
   ]
  },
  {
   "cell_type": "code",
<<<<<<< HEAD
   "execution_count": 20,
=======
   "execution_count": 211,
>>>>>>> f2a56fb897605fe6e919463fdcc44666c7e9f183
   "metadata": {},
   "outputs": [
    {
     "data": {
      "text/plain": [
       "0      0.471448\n",
       "1      0.429803\n",
       "2      0.380273\n",
       "3      0.448225\n",
       "4      0.300747\n",
       "         ...   \n",
       "362    0.438993\n",
       "363    0.494796\n",
       "364    0.429803\n",
       "365    0.398055\n",
       "366    0.333117\n",
       "Length: 367, dtype: float64"
      ]
     },
<<<<<<< HEAD
     "execution_count": 20,
=======
     "execution_count": 211,
>>>>>>> f2a56fb897605fe6e919463fdcc44666c7e9f183
     "metadata": {},
     "output_type": "execute_result"
    }
   ],
   "source": [
    "results.predict(X)"
   ]
<<<<<<< HEAD
  },
  {
   "cell_type": "code",
   "execution_count": 22,
   "metadata": {},
   "outputs": [
    {
     "data": {
      "text/plain": [
       "array([0.58286341])"
      ]
     },
     "execution_count": 22,
     "metadata": {},
     "output_type": "execute_result"
    }
   ],
   "source": [
    "results.predict((1,2))"
   ]
  },
  {
   "cell_type": "code",
   "execution_count": null,
   "metadata": {},
   "outputs": [],
   "source": []
=======
>>>>>>> f2a56fb897605fe6e919463fdcc44666c7e9f183
  }
 ],
 "metadata": {
  "kernelspec": {
   "display_name": "Python 3",
   "language": "python",
   "name": "python3"
  },
  "language_info": {
   "codemirror_mode": {
    "name": "ipython",
    "version": 3
   },
   "file_extension": ".py",
   "mimetype": "text/x-python",
   "name": "python",
   "nbconvert_exporter": "python",
   "pygments_lexer": "ipython3",
<<<<<<< HEAD
   "version": "3.7.7"
=======
   "version": "3.8.3"
>>>>>>> f2a56fb897605fe6e919463fdcc44666c7e9f183
  }
 },
 "nbformat": 4,
 "nbformat_minor": 4
}

{
 "cells": [
  {
   "cell_type": "markdown",
   "metadata": {},
   "source": [
    "## Simple Linear Regression"
   ]
  },
  {
   "cell_type": "code",
   "execution_count": 1,
   "metadata": {},
   "outputs": [],
   "source": [
    "import numpy as np\n",
    "import pandas as pd\n",
    "import matplotlib.pyplot as plt\n",
    "import seaborn as sns"
   ]
  },
  {
   "cell_type": "code",
   "execution_count": 2,
   "metadata": {},
   "outputs": [
    {
     "data": {
      "text/html": [
       "<div>\n",
       "<style scoped>\n",
       "    .dataframe tbody tr th:only-of-type {\n",
       "        vertical-align: middle;\n",
       "    }\n",
       "\n",
       "    .dataframe tbody tr th {\n",
       "        vertical-align: top;\n",
       "    }\n",
       "\n",
       "    .dataframe thead th {\n",
       "        text-align: right;\n",
       "    }\n",
       "</style>\n",
       "<table border=\"1\" class=\"dataframe\">\n",
       "  <thead>\n",
       "    <tr style=\"text-align: right;\">\n",
       "      <th></th>\n",
       "      <th>Date</th>\n",
       "      <th>Calorie burned</th>\n",
       "      <th>Steps</th>\n",
       "      <th>Distance</th>\n",
       "      <th>Floors</th>\n",
       "      <th>Minutes Sedentary</th>\n",
       "      <th>Minutes Lightly Active</th>\n",
       "      <th>Minutes Fairly Active</th>\n",
       "      <th>Minutes Very Active</th>\n",
       "      <th>Activity Calories</th>\n",
       "      <th>...</th>\n",
       "      <th>Distance_miles</th>\n",
       "      <th>Days</th>\n",
       "      <th>Days_encoded</th>\n",
       "      <th>Work_or_Weekend</th>\n",
       "      <th>Hours Sleep</th>\n",
       "      <th>Sleep efficiency</th>\n",
       "      <th>Yesterday_sleep</th>\n",
       "      <th>Yesterday_sleep_efficiency</th>\n",
       "      <th>Months</th>\n",
       "      <th>Months_encoded</th>\n",
       "    </tr>\n",
       "  </thead>\n",
       "  <tbody>\n",
       "    <tr>\n",
       "      <th>0</th>\n",
       "      <td>2015-05-08</td>\n",
       "      <td>1934</td>\n",
       "      <td>905</td>\n",
       "      <td>0.65</td>\n",
       "      <td>0</td>\n",
       "      <td>1.355</td>\n",
       "      <td>46</td>\n",
       "      <td>0</td>\n",
       "      <td>0</td>\n",
       "      <td>1680</td>\n",
       "      <td>...</td>\n",
       "      <td>0.403891</td>\n",
       "      <td>Friday</td>\n",
       "      <td>4.0</td>\n",
       "      <td>1</td>\n",
       "      <td>6.400000</td>\n",
       "      <td>92.086331</td>\n",
       "      <td>0.000000</td>\n",
       "      <td>0.000000</td>\n",
       "      <td>May</td>\n",
       "      <td>5</td>\n",
       "    </tr>\n",
       "    <tr>\n",
       "      <th>1</th>\n",
       "      <td>2015-05-09</td>\n",
       "      <td>3631</td>\n",
       "      <td>18925</td>\n",
       "      <td>14.11</td>\n",
       "      <td>4</td>\n",
       "      <td>611.000</td>\n",
       "      <td>316</td>\n",
       "      <td>61</td>\n",
       "      <td>60</td>\n",
       "      <td>2248</td>\n",
       "      <td>...</td>\n",
       "      <td>8.767545</td>\n",
       "      <td>Saturday</td>\n",
       "      <td>5.0</td>\n",
       "      <td>0</td>\n",
       "      <td>7.566667</td>\n",
       "      <td>92.464358</td>\n",
       "      <td>6.400000</td>\n",
       "      <td>92.086331</td>\n",
       "      <td>May</td>\n",
       "      <td>5</td>\n",
       "    </tr>\n",
       "    <tr>\n",
       "      <th>2</th>\n",
       "      <td>2015-05-10</td>\n",
       "      <td>3204</td>\n",
       "      <td>14228</td>\n",
       "      <td>10.57</td>\n",
       "      <td>1</td>\n",
       "      <td>602.000</td>\n",
       "      <td>226</td>\n",
       "      <td>14</td>\n",
       "      <td>77</td>\n",
       "      <td>1719</td>\n",
       "      <td>...</td>\n",
       "      <td>6.567891</td>\n",
       "      <td>Sunday</td>\n",
       "      <td>6.0</td>\n",
       "      <td>0</td>\n",
       "      <td>6.450000</td>\n",
       "      <td>88.761468</td>\n",
       "      <td>7.566667</td>\n",
       "      <td>92.464358</td>\n",
       "      <td>May</td>\n",
       "      <td>5</td>\n",
       "    </tr>\n",
       "    <tr>\n",
       "      <th>3</th>\n",
       "      <td>2015-05-11</td>\n",
       "      <td>2673</td>\n",
       "      <td>6756</td>\n",
       "      <td>5.02</td>\n",
       "      <td>8</td>\n",
       "      <td>749.000</td>\n",
       "      <td>190</td>\n",
       "      <td>23</td>\n",
       "      <td>4</td>\n",
       "      <td>9620</td>\n",
       "      <td>...</td>\n",
       "      <td>3.119282</td>\n",
       "      <td>Monday</td>\n",
       "      <td>0.0</td>\n",
       "      <td>1</td>\n",
       "      <td>5.183333</td>\n",
       "      <td>88.857143</td>\n",
       "      <td>6.450000</td>\n",
       "      <td>88.761468</td>\n",
       "      <td>May</td>\n",
       "      <td>5</td>\n",
       "    </tr>\n",
       "    <tr>\n",
       "      <th>4</th>\n",
       "      <td>2015-05-12</td>\n",
       "      <td>2495</td>\n",
       "      <td>502</td>\n",
       "      <td>3.73</td>\n",
       "      <td>1</td>\n",
       "      <td>876.000</td>\n",
       "      <td>171</td>\n",
       "      <td>0</td>\n",
       "      <td>0</td>\n",
       "      <td>7360</td>\n",
       "      <td>...</td>\n",
       "      <td>2.317714</td>\n",
       "      <td>Tuesday</td>\n",
       "      <td>1.0</td>\n",
       "      <td>1</td>\n",
       "      <td>6.783333</td>\n",
       "      <td>82.892057</td>\n",
       "      <td>5.183333</td>\n",
       "      <td>88.857143</td>\n",
       "      <td>May</td>\n",
       "      <td>5</td>\n",
       "    </tr>\n",
       "  </tbody>\n",
       "</table>\n",
       "<p>5 rows × 24 columns</p>\n",
       "</div>"
      ],
      "text/plain": [
       "         Date  Calorie burned  Steps  Distance  Floors  Minutes Sedentary  \\\n",
       "0  2015-05-08            1934    905      0.65       0              1.355   \n",
       "1  2015-05-09            3631  18925     14.11       4            611.000   \n",
       "2  2015-05-10            3204  14228     10.57       1            602.000   \n",
       "3  2015-05-11            2673   6756      5.02       8            749.000   \n",
       "4  2015-05-12            2495    502      3.73       1            876.000   \n",
       "\n",
       "   Minutes Lightly Active  Minutes Fairly Active  Minutes Very Active  \\\n",
       "0                      46                      0                    0   \n",
       "1                     316                     61                   60   \n",
       "2                     226                     14                   77   \n",
       "3                     190                     23                    4   \n",
       "4                     171                      0                    0   \n",
       "\n",
       "   Activity Calories  ...  Distance_miles      Days  Days_encoded  \\\n",
       "0               1680  ...        0.403891    Friday           4.0   \n",
       "1               2248  ...        8.767545  Saturday           5.0   \n",
       "2               1719  ...        6.567891    Sunday           6.0   \n",
       "3               9620  ...        3.119282    Monday           0.0   \n",
       "4               7360  ...        2.317714   Tuesday           1.0   \n",
       "\n",
       "   Work_or_Weekend  Hours Sleep Sleep efficiency  Yesterday_sleep  \\\n",
       "0                1     6.400000        92.086331         0.000000   \n",
       "1                0     7.566667        92.464358         6.400000   \n",
       "2                0     6.450000        88.761468         7.566667   \n",
       "3                1     5.183333        88.857143         6.450000   \n",
       "4                1     6.783333        82.892057         5.183333   \n",
       "\n",
       "   Yesterday_sleep_efficiency  Months  Months_encoded  \n",
       "0                    0.000000     May               5  \n",
       "1                   92.086331     May               5  \n",
       "2                   92.464358     May               5  \n",
       "3                   88.761468     May               5  \n",
       "4                   88.857143     May               5  \n",
       "\n",
       "[5 rows x 24 columns]"
      ]
     },
     "execution_count": 2,
     "metadata": {},
     "output_type": "execute_result"
    }
   ],
   "source": [
    "data = pd.read_csv('../../03_data-visualization/02_lab-matplotlib-seaborn/your-code/Fitbit2.csv') \n",
    "data.head()"
   ]
  },
  {
   "cell_type": "code",
   "execution_count": 3,
   "metadata": {},
   "outputs": [
    {
     "data": {
      "text/plain": [
       "<AxesSubplot:>"
      ]
     },
     "execution_count": 3,
     "metadata": {},
     "output_type": "execute_result"
    },
    {
     "data": {
      "image/png": "[encoded data removed]",
      "text/plain": [
       "<Figure size 1080x1080 with 2 Axes>"
      ]
     },
     "metadata": {
      "needs_background": "light"
     },
     "output_type": "display_data"
    }
   ],
   "source": [
    "plt.figure(figsize=(15,15))\n",
    "sns.heatmap(data.corr())"
   ]
  },
  {
   "cell_type": "markdown",
   "metadata": {},
   "source": [
    "### Simple Regression Plot"
   ]
  },
  {
   "cell_type": "code",
   "execution_count": 4,
   "metadata": {},
   "outputs": [
    {
     "data": {
      "text/plain": [
       "<AxesSubplot:xlabel='NumberOfAwakings', ylabel='MinutesOfBeingAwake'>"
      ]
     },
     "execution_count": 4,
     "metadata": {},
     "output_type": "execute_result"
    },
    {
     "data": {
      "image/png": "[encoded data removed]",
      "text/plain": [
       "<Figure size 432x288 with 1 Axes>"
      ]
     },
     "metadata": {
      "needs_background": "light"
     },
     "output_type": "display_data"
    }
   ],
   "source": [
    "sns.regplot(x=\"NumberOfAwakings\", y=\"MinutesOfBeingAwake\", data=data)\n"
   ]
  },
  {
   "cell_type": "markdown",
   "metadata": {},
   "source": [
    "[MinutesOfBeingAwake] = b0 + b1*[NumberOfAwakings]"
   ]
  },
  {
   "cell_type": "markdown",
   "metadata": {},
   "source": [
    "### Estimating OLS using statsmodels"
   ]
  },
  {
   "cell_type": "code",
   "execution_count": 5,
   "metadata": {},
   "outputs": [],
   "source": [
    "import statsmodels.api as sm"
   ]
  },
  {
   "cell_type": "code",
   "execution_count": 6,
   "metadata": {},
   "outputs": [
    {
     "data": {
      "text/html": [
       "<table class=\"simpletable\">\n",
       "<caption>OLS Regression Results</caption>\n",
       "<tr>\n",
       "  <th>Dep. Variable:</th>    <td>MinutesOfBeingAwake</td> <th>  R-squared:         </th> <td>   0.906</td> \n",
       "</tr>\n",
       "<tr>\n",
       "  <th>Model:</th>                    <td>OLS</td>         <th>  Adj. R-squared:    </th> <td>   0.906</td> \n",
       "</tr>\n",
       "<tr>\n",
       "  <th>Method:</th>              <td>Least Squares</td>    <th>  F-statistic:       </th> <td>   3516.</td> \n",
       "</tr>\n",
       "<tr>\n",
       "  <th>Date:</th>              <td>Tue, 10 Nov 2020</td>   <th>  Prob (F-statistic):</th> <td>1.89e-189</td>\n",
       "</tr>\n",
       "<tr>\n",
       "  <th>Time:</th>                  <td>21:12:44</td>       <th>  Log-Likelihood:    </th> <td> -1158.1</td> \n",
       "</tr>\n",
       "<tr>\n",
       "  <th>No. Observations:</th>       <td>   367</td>        <th>  AIC:               </th> <td>   2320.</td> \n",
       "</tr>\n",
       "<tr>\n",
       "  <th>Df Residuals:</th>           <td>   365</td>        <th>  BIC:               </th> <td>   2328.</td> \n",
       "</tr>\n",
       "<tr>\n",
       "  <th>Df Model:</th>               <td>     1</td>        <th>                     </th>     <td> </td>    \n",
       "</tr>\n",
       "<tr>\n",
       "  <th>Covariance Type:</th>       <td>nonrobust</td>      <th>                     </th>     <td> </td>    \n",
       "</tr>\n",
       "</table>\n",
       "<table class=\"simpletable\">\n",
       "<tr>\n",
       "          <td></td>            <th>coef</th>     <th>std err</th>      <th>t</th>      <th>P>|t|</th>  <th>[0.025</th>    <th>0.975]</th>  \n",
       "</tr>\n",
       "<tr>\n",
       "  <th>const</th>            <td>    1.4381</td> <td>    0.538</td> <td>    2.675</td> <td> 0.008</td> <td>    0.381</td> <td>    2.495</td>\n",
       "</tr>\n",
       "<tr>\n",
       "  <th>NumberOfAwakings</th> <td>    1.6405</td> <td>    0.028</td> <td>   59.297</td> <td> 0.000</td> <td>    1.586</td> <td>    1.695</td>\n",
       "</tr>\n",
       "</table>\n",
       "<table class=\"simpletable\">\n",
       "<tr>\n",
       "  <th>Omnibus:</th>       <td>17.535</td> <th>  Durbin-Watson:     </th> <td>   1.830</td>\n",
       "</tr>\n",
       "<tr>\n",
       "  <th>Prob(Omnibus):</th> <td> 0.000</td> <th>  Jarque-Bera (JB):  </th> <td>  31.142</td>\n",
       "</tr>\n",
       "<tr>\n",
       "  <th>Skew:</th>          <td> 0.290</td> <th>  Prob(JB):          </th> <td>1.73e-07</td>\n",
       "</tr>\n",
       "<tr>\n",
       "  <th>Kurtosis:</th>      <td> 4.304</td> <th>  Cond. No.          </th> <td>    35.2</td>\n",
       "</tr>\n",
       "</table><br/><br/>Notes:<br/>[1] Standard Errors assume that the covariance matrix of the errors is correctly specified."
      ],
      "text/plain": [
       "<class 'statsmodels.iolib.summary.Summary'>\n",
       "\"\"\"\n",
       "                             OLS Regression Results                            \n",
       "===============================================================================\n",
       "Dep. Variable:     MinutesOfBeingAwake   R-squared:                       0.906\n",
       "Model:                             OLS   Adj. R-squared:                  0.906\n",
       "Method:                  Least Squares   F-statistic:                     3516.\n",
       "Date:                 Tue, 10 Nov 2020   Prob (F-statistic):          1.89e-189\n",
       "Time:                         21:12:44   Log-Likelihood:                -1158.1\n",
       "No. Observations:                  367   AIC:                             2320.\n",
       "Df Residuals:                      365   BIC:                             2328.\n",
       "Df Model:                            1                                         \n",
       "Covariance Type:             nonrobust                                         \n",
       "====================================================================================\n",
       "                       coef    std err          t      P>|t|      [0.025      0.975]\n",
       "------------------------------------------------------------------------------------\n",
       "const                1.4381      0.538      2.675      0.008       0.381       2.495\n",
       "NumberOfAwakings     1.6405      0.028     59.297      0.000       1.586       1.695\n",
       "==============================================================================\n",
       "Omnibus:                       17.535   Durbin-Watson:                   1.830\n",
       "Prob(Omnibus):                  0.000   Jarque-Bera (JB):               31.142\n",
       "Skew:                           0.290   Prob(JB):                     1.73e-07\n",
       "Kurtosis:                       4.304   Cond. No.                         35.2\n",
       "==============================================================================\n",
       "\n",
       "Notes:\n",
       "[1] Standard Errors assume that the covariance matrix of the errors is correctly specified.\n",
       "\"\"\""
      ]
     },
     "execution_count": 6,
     "metadata": {},
     "output_type": "execute_result"
    }
   ],
   "source": [
    "Y = data['MinutesOfBeingAwake']\n",
    "X = data['NumberOfAwakings']\n",
    "X = sm.add_constant(X)\n",
    "model = sm.OLS(Y,X)\n",
    "results = model.fit()\n",
    "results.summary()"
   ]
  },
  {
   "cell_type": "markdown",
   "metadata": {},
   "source": [
    "#### Using 'Work_or_Weekend' as an explanatory variable"
   ]
  },
  {
   "cell_type": "code",
   "execution_count": 7,
   "metadata": {},
   "outputs": [
    {
     "data": {
      "text/plain": [
       "1    262\n",
       "0    105\n",
       "Name: Work_or_Weekend, dtype: int64"
      ]
     },
     "execution_count": 7,
     "metadata": {},
     "output_type": "execute_result"
    }
   ],
   "source": [
    "data['Work_or_Weekend'].value_counts()"
   ]
  },
  {
   "cell_type": "code",
   "execution_count": 8,
   "metadata": {},
   "outputs": [
    {
     "data": {
      "text/html": [
       "<div>\n",
       "<style scoped>\n",
       "    .dataframe tbody tr th:only-of-type {\n",
       "        vertical-align: middle;\n",
       "    }\n",
       "\n",
       "    .dataframe tbody tr th {\n",
       "        vertical-align: top;\n",
       "    }\n",
       "\n",
       "    .dataframe thead th {\n",
       "        text-align: right;\n",
       "    }\n",
       "</style>\n",
       "<table border=\"1\" class=\"dataframe\">\n",
       "  <thead>\n",
       "    <tr style=\"text-align: right;\">\n",
       "      <th></th>\n",
       "      <th>MinutesOfBeingAwake</th>\n",
       "    </tr>\n",
       "    <tr>\n",
       "      <th>Work_or_Weekend</th>\n",
       "      <th></th>\n",
       "    </tr>\n",
       "  </thead>\n",
       "  <tbody>\n",
       "    <tr>\n",
       "      <th>0</th>\n",
       "      <td>26.895238</td>\n",
       "    </tr>\n",
       "    <tr>\n",
       "      <th>1</th>\n",
       "      <td>28.454198</td>\n",
       "    </tr>\n",
       "  </tbody>\n",
       "</table>\n",
       "</div>"
      ],
      "text/plain": [
       "                 MinutesOfBeingAwake\n",
       "Work_or_Weekend                     \n",
       "0                          26.895238\n",
       "1                          28.454198"
      ]
     },
     "execution_count": 8,
     "metadata": {},
     "output_type": "execute_result"
    }
   ],
   "source": [
    "pd.pivot_table(data, index = ['Work_or_Weekend'], values='MinutesOfBeingAwake')"
   ]
  },
  {
   "cell_type": "code",
   "execution_count": 9,
   "metadata": {},
   "outputs": [
    {
     "data": {
      "text/html": [
       "<table class=\"simpletable\">\n",
       "<caption>OLS Regression Results</caption>\n",
       "<tr>\n",
       "  <th>Dep. Variable:</th>    <td>MinutesOfBeingAwake</td> <th>  R-squared:         </th> <td>   0.001</td>\n",
       "</tr>\n",
       "<tr>\n",
       "  <th>Model:</th>                    <td>OLS</td>         <th>  Adj. R-squared:    </th> <td>  -0.001</td>\n",
       "</tr>\n",
       "<tr>\n",
       "  <th>Method:</th>              <td>Least Squares</td>    <th>  F-statistic:       </th> <td>  0.5292</td>\n",
       "</tr>\n",
       "<tr>\n",
       "  <th>Date:</th>              <td>Tue, 10 Nov 2020</td>   <th>  Prob (F-statistic):</th>  <td> 0.467</td> \n",
       "</tr>\n",
       "<tr>\n",
       "  <th>Time:</th>                  <td>21:12:44</td>       <th>  Log-Likelihood:    </th> <td> -1591.6</td>\n",
       "</tr>\n",
       "<tr>\n",
       "  <th>No. Observations:</th>       <td>   367</td>        <th>  AIC:               </th> <td>   3187.</td>\n",
       "</tr>\n",
       "<tr>\n",
       "  <th>Df Residuals:</th>           <td>   365</td>        <th>  BIC:               </th> <td>   3195.</td>\n",
       "</tr>\n",
       "<tr>\n",
       "  <th>Df Model:</th>               <td>     1</td>        <th>                     </th>     <td> </td>   \n",
       "</tr>\n",
       "<tr>\n",
       "  <th>Covariance Type:</th>       <td>nonrobust</td>      <th>                     </th>     <td> </td>   \n",
       "</tr>\n",
       "</table>\n",
       "<table class=\"simpletable\">\n",
       "<tr>\n",
       "         <td></td>            <th>coef</th>     <th>std err</th>      <th>t</th>      <th>P>|t|</th>  <th>[0.025</th>    <th>0.975]</th>  \n",
       "</tr>\n",
       "<tr>\n",
       "  <th>const</th>           <td>   26.8952</td> <td>    1.811</td> <td>   14.854</td> <td> 0.000</td> <td>   23.335</td> <td>   30.456</td>\n",
       "</tr>\n",
       "<tr>\n",
       "  <th>Work_or_Weekend</th> <td>    1.5590</td> <td>    2.143</td> <td>    0.727</td> <td> 0.467</td> <td>   -2.655</td> <td>    5.773</td>\n",
       "</tr>\n",
       "</table>\n",
       "<table class=\"simpletable\">\n",
       "<tr>\n",
       "  <th>Omnibus:</th>       <td>24.581</td> <th>  Durbin-Watson:     </th> <td>   1.808</td>\n",
       "</tr>\n",
       "<tr>\n",
       "  <th>Prob(Omnibus):</th> <td> 0.000</td> <th>  Jarque-Bera (JB):  </th> <td>   9.338</td>\n",
       "</tr>\n",
       "<tr>\n",
       "  <th>Skew:</th>          <td> 0.058</td> <th>  Prob(JB):          </th> <td> 0.00938</td>\n",
       "</tr>\n",
       "<tr>\n",
       "  <th>Kurtosis:</th>      <td> 2.227</td> <th>  Cond. No.          </th> <td>    3.51</td>\n",
       "</tr>\n",
       "</table><br/><br/>Notes:<br/>[1] Standard Errors assume that the covariance matrix of the errors is correctly specified."
      ],
      "text/plain": [
       "<class 'statsmodels.iolib.summary.Summary'>\n",
       "\"\"\"\n",
       "                             OLS Regression Results                            \n",
       "===============================================================================\n",
       "Dep. Variable:     MinutesOfBeingAwake   R-squared:                       0.001\n",
       "Model:                             OLS   Adj. R-squared:                 -0.001\n",
       "Method:                  Least Squares   F-statistic:                    0.5292\n",
       "Date:                 Tue, 10 Nov 2020   Prob (F-statistic):              0.467\n",
       "Time:                         21:12:44   Log-Likelihood:                -1591.6\n",
       "No. Observations:                  367   AIC:                             3187.\n",
       "Df Residuals:                      365   BIC:                             3195.\n",
       "Df Model:                            1                                         \n",
       "Covariance Type:             nonrobust                                         \n",
       "===================================================================================\n",
       "                      coef    std err          t      P>|t|      [0.025      0.975]\n",
       "-----------------------------------------------------------------------------------\n",
       "const              26.8952      1.811     14.854      0.000      23.335      30.456\n",
       "Work_or_Weekend     1.5590      2.143      0.727      0.467      -2.655       5.773\n",
       "==============================================================================\n",
       "Omnibus:                       24.581   Durbin-Watson:                   1.808\n",
       "Prob(Omnibus):                  0.000   Jarque-Bera (JB):                9.338\n",
       "Skew:                           0.058   Prob(JB):                      0.00938\n",
       "Kurtosis:                       2.227   Cond. No.                         3.51\n",
       "==============================================================================\n",
       "\n",
       "Notes:\n",
       "[1] Standard Errors assume that the covariance matrix of the errors is correctly specified.\n",
       "\"\"\""
      ]
     },
     "execution_count": 9,
     "metadata": {},
     "output_type": "execute_result"
    }
   ],
   "source": [
    "Y = data['MinutesOfBeingAwake']\n",
    "X = data['Work_or_Weekend']\n",
    "X = sm.add_constant(X)\n",
    "model = sm.OLS(Y,X)\n",
    "results = model.fit()\n",
    "results.summary()"
   ]
  },
  {
   "cell_type": "markdown",
   "metadata": {},
   "source": [
    "#### Using an indicator for whether sleep was efficient (above 90) as an explanatory variable\n"
   ]
  },
  {
   "cell_type": "code",
   "execution_count": 10,
   "metadata": {},
   "outputs": [
    {
     "data": {
      "text/html": [
       "<table class=\"simpletable\">\n",
       "<caption>OLS Regression Results</caption>\n",
       "<tr>\n",
       "  <th>Dep. Variable:</th>    <td>MinutesOfBeingAwake</td> <th>  R-squared:         </th> <td>   0.029</td>\n",
       "</tr>\n",
       "<tr>\n",
       "  <th>Model:</th>                    <td>OLS</td>         <th>  Adj. R-squared:    </th> <td>   0.026</td>\n",
       "</tr>\n",
       "<tr>\n",
       "  <th>Method:</th>              <td>Least Squares</td>    <th>  F-statistic:       </th> <td>   10.72</td>\n",
       "</tr>\n",
       "<tr>\n",
       "  <th>Date:</th>              <td>Tue, 10 Nov 2020</td>   <th>  Prob (F-statistic):</th>  <td>0.00116</td>\n",
       "</tr>\n",
       "<tr>\n",
       "  <th>Time:</th>                  <td>21:12:44</td>       <th>  Log-Likelihood:    </th> <td> -1586.6</td>\n",
       "</tr>\n",
       "<tr>\n",
       "  <th>No. Observations:</th>       <td>   367</td>        <th>  AIC:               </th> <td>   3177.</td>\n",
       "</tr>\n",
       "<tr>\n",
       "  <th>Df Residuals:</th>           <td>   365</td>        <th>  BIC:               </th> <td>   3185.</td>\n",
       "</tr>\n",
       "<tr>\n",
       "  <th>Df Model:</th>               <td>     1</td>        <th>                     </th>     <td> </td>   \n",
       "</tr>\n",
       "<tr>\n",
       "  <th>Covariance Type:</th>       <td>nonrobust</td>      <th>                     </th>     <td> </td>   \n",
       "</tr>\n",
       "</table>\n",
       "<table class=\"simpletable\">\n",
       "<tr>\n",
       "         <td></td>           <th>coef</th>     <th>std err</th>      <th>t</th>      <th>P>|t|</th>  <th>[0.025</th>    <th>0.975]</th>  \n",
       "</tr>\n",
       "<tr>\n",
       "  <th>const</th>          <td>   30.9137</td> <td>    1.304</td> <td>   23.710</td> <td> 0.000</td> <td>   28.350</td> <td>   33.478</td>\n",
       "</tr>\n",
       "<tr>\n",
       "  <th>EfficientSleep</th> <td>   -6.2725</td> <td>    1.916</td> <td>   -3.274</td> <td> 0.001</td> <td>  -10.040</td> <td>   -2.505</td>\n",
       "</tr>\n",
       "</table>\n",
       "<table class=\"simpletable\">\n",
       "<tr>\n",
       "  <th>Omnibus:</th>       <td>17.383</td> <th>  Durbin-Watson:     </th> <td>   1.768</td>\n",
       "</tr>\n",
       "<tr>\n",
       "  <th>Prob(Omnibus):</th> <td> 0.000</td> <th>  Jarque-Bera (JB):  </th> <td>  10.279</td>\n",
       "</tr>\n",
       "<tr>\n",
       "  <th>Skew:</th>          <td>-0.251</td> <th>  Prob(JB):          </th> <td> 0.00586</td>\n",
       "</tr>\n",
       "<tr>\n",
       "  <th>Kurtosis:</th>      <td> 2.351</td> <th>  Cond. No.          </th> <td>    2.54</td>\n",
       "</tr>\n",
       "</table><br/><br/>Notes:<br/>[1] Standard Errors assume that the covariance matrix of the errors is correctly specified."
      ],
      "text/plain": [
       "<class 'statsmodels.iolib.summary.Summary'>\n",
       "\"\"\"\n",
       "                             OLS Regression Results                            \n",
       "===============================================================================\n",
       "Dep. Variable:     MinutesOfBeingAwake   R-squared:                       0.029\n",
       "Model:                             OLS   Adj. R-squared:                  0.026\n",
       "Method:                  Least Squares   F-statistic:                     10.72\n",
       "Date:                 Tue, 10 Nov 2020   Prob (F-statistic):            0.00116\n",
       "Time:                         21:12:44   Log-Likelihood:                -1586.6\n",
       "No. Observations:                  367   AIC:                             3177.\n",
       "Df Residuals:                      365   BIC:                             3185.\n",
       "Df Model:                            1                                         \n",
       "Covariance Type:             nonrobust                                         \n",
       "==================================================================================\n",
       "                     coef    std err          t      P>|t|      [0.025      0.975]\n",
       "----------------------------------------------------------------------------------\n",
       "const             30.9137      1.304     23.710      0.000      28.350      33.478\n",
       "EfficientSleep    -6.2725      1.916     -3.274      0.001     -10.040      -2.505\n",
       "==============================================================================\n",
       "Omnibus:                       17.383   Durbin-Watson:                   1.768\n",
       "Prob(Omnibus):                  0.000   Jarque-Bera (JB):               10.279\n",
       "Skew:                          -0.251   Prob(JB):                      0.00586\n",
       "Kurtosis:                       2.351   Cond. No.                         2.54\n",
       "==============================================================================\n",
       "\n",
       "Notes:\n",
       "[1] Standard Errors assume that the covariance matrix of the errors is correctly specified.\n",
       "\"\"\""
      ]
     },
     "execution_count": 10,
     "metadata": {},
     "output_type": "execute_result"
    }
   ],
   "source": [
    "X = pd.DataFrame()\n",
    "X['EfficientSleep'] = np.where(data['Sleep efficiency']>90, 1, 0)\n",
    "X = sm.add_constant(X)\n",
    "model = sm.OLS(Y,X)\n",
    "results = model.fit()\n",
    "results.summary()"
   ]
  },
  {
   "cell_type": "markdown",
   "metadata": {},
   "source": [
    "#### Using 'Days' (categorical) as an explanatory variable\n"
   ]
  },
  {
   "cell_type": "code",
   "execution_count": 11,
   "metadata": {},
   "outputs": [
    {
     "data": {
      "text/html": [
       "<table class=\"simpletable\">\n",
       "<caption>OLS Regression Results</caption>\n",
       "<tr>\n",
       "  <th>Dep. Variable:</th>    <td>MinutesOfBeingAwake</td> <th>  R-squared:         </th> <td>   0.015</td>\n",
       "</tr>\n",
       "<tr>\n",
       "  <th>Model:</th>                    <td>OLS</td>         <th>  Adj. R-squared:    </th> <td>  -0.002</td>\n",
       "</tr>\n",
       "<tr>\n",
       "  <th>Method:</th>              <td>Least Squares</td>    <th>  F-statistic:       </th> <td>  0.8900</td>\n",
       "</tr>\n",
       "<tr>\n",
       "  <th>Date:</th>              <td>Tue, 10 Nov 2020</td>   <th>  Prob (F-statistic):</th>  <td> 0.502</td> \n",
       "</tr>\n",
       "<tr>\n",
       "  <th>Time:</th>                  <td>21:12:44</td>       <th>  Log-Likelihood:    </th> <td> -1589.2</td>\n",
       "</tr>\n",
       "<tr>\n",
       "  <th>No. Observations:</th>       <td>   367</td>        <th>  AIC:               </th> <td>   3192.</td>\n",
       "</tr>\n",
       "<tr>\n",
       "  <th>Df Residuals:</th>           <td>   360</td>        <th>  BIC:               </th> <td>   3220.</td>\n",
       "</tr>\n",
       "<tr>\n",
       "  <th>Df Model:</th>               <td>     6</td>        <th>                     </th>     <td> </td>   \n",
       "</tr>\n",
       "<tr>\n",
       "  <th>Covariance Type:</th>       <td>nonrobust</td>      <th>                     </th>     <td> </td>   \n",
       "</tr>\n",
       "</table>\n",
       "<table class=\"simpletable\">\n",
       "<tr>\n",
       "      <td></td>         <th>coef</th>     <th>std err</th>      <th>t</th>      <th>P>|t|</th>  <th>[0.025</th>    <th>0.975]</th>  \n",
       "</tr>\n",
       "<tr>\n",
       "  <th>const</th>     <td>   28.0370</td> <td>    2.525</td> <td>   11.102</td> <td> 0.000</td> <td>   23.071</td> <td>   33.004</td>\n",
       "</tr>\n",
       "<tr>\n",
       "  <th>Monday</th>    <td>   -2.4793</td> <td>    3.606</td> <td>   -0.688</td> <td> 0.492</td> <td>   -9.570</td> <td>    4.612</td>\n",
       "</tr>\n",
       "<tr>\n",
       "  <th>Saturday</th>  <td>   -1.3767</td> <td>    3.588</td> <td>   -0.384</td> <td> 0.701</td> <td>   -8.433</td> <td>    5.680</td>\n",
       "</tr>\n",
       "<tr>\n",
       "  <th>Sunday</th>    <td>   -0.9024</td> <td>    3.606</td> <td>   -0.250</td> <td> 0.803</td> <td>   -7.993</td> <td>    6.188</td>\n",
       "</tr>\n",
       "<tr>\n",
       "  <th>Thursday</th>  <td>    4.9630</td> <td>    3.606</td> <td>    1.376</td> <td> 0.170</td> <td>   -2.128</td> <td>   12.054</td>\n",
       "</tr>\n",
       "<tr>\n",
       "  <th>Tuesday</th>   <td>   -1.1332</td> <td>    3.606</td> <td>   -0.314</td> <td> 0.753</td> <td>   -8.224</td> <td>    5.958</td>\n",
       "</tr>\n",
       "<tr>\n",
       "  <th>Wednesday</th> <td>    0.7514</td> <td>    3.606</td> <td>    0.208</td> <td> 0.835</td> <td>   -6.339</td> <td>    7.842</td>\n",
       "</tr>\n",
       "</table>\n",
       "<table class=\"simpletable\">\n",
       "<tr>\n",
       "  <th>Omnibus:</th>       <td>25.696</td> <th>  Durbin-Watson:     </th> <td>   1.808</td>\n",
       "</tr>\n",
       "<tr>\n",
       "  <th>Prob(Omnibus):</th> <td> 0.000</td> <th>  Jarque-Bera (JB):  </th> <td>   9.589</td>\n",
       "</tr>\n",
       "<tr>\n",
       "  <th>Skew:</th>          <td> 0.062</td> <th>  Prob(JB):          </th> <td> 0.00827</td>\n",
       "</tr>\n",
       "<tr>\n",
       "  <th>Kurtosis:</th>      <td> 2.218</td> <th>  Cond. No.          </th> <td>    7.77</td>\n",
       "</tr>\n",
       "</table><br/><br/>Notes:<br/>[1] Standard Errors assume that the covariance matrix of the errors is correctly specified."
      ],
      "text/plain": [
       "<class 'statsmodels.iolib.summary.Summary'>\n",
       "\"\"\"\n",
       "                             OLS Regression Results                            \n",
       "===============================================================================\n",
       "Dep. Variable:     MinutesOfBeingAwake   R-squared:                       0.015\n",
       "Model:                             OLS   Adj. R-squared:                 -0.002\n",
       "Method:                  Least Squares   F-statistic:                    0.8900\n",
       "Date:                 Tue, 10 Nov 2020   Prob (F-statistic):              0.502\n",
       "Time:                         21:12:44   Log-Likelihood:                -1589.2\n",
       "No. Observations:                  367   AIC:                             3192.\n",
       "Df Residuals:                      360   BIC:                             3220.\n",
       "Df Model:                            6                                         \n",
       "Covariance Type:             nonrobust                                         \n",
       "==============================================================================\n",
       "                 coef    std err          t      P>|t|      [0.025      0.975]\n",
       "------------------------------------------------------------------------------\n",
       "const         28.0370      2.525     11.102      0.000      23.071      33.004\n",
       "Monday        -2.4793      3.606     -0.688      0.492      -9.570       4.612\n",
       "Saturday      -1.3767      3.588     -0.384      0.701      -8.433       5.680\n",
       "Sunday        -0.9024      3.606     -0.250      0.803      -7.993       6.188\n",
       "Thursday       4.9630      3.606      1.376      0.170      -2.128      12.054\n",
       "Tuesday       -1.1332      3.606     -0.314      0.753      -8.224       5.958\n",
       "Wednesday      0.7514      3.606      0.208      0.835      -6.339       7.842\n",
       "==============================================================================\n",
       "Omnibus:                       25.696   Durbin-Watson:                   1.808\n",
       "Prob(Omnibus):                  0.000   Jarque-Bera (JB):                9.589\n",
       "Skew:                           0.062   Prob(JB):                      0.00827\n",
       "Kurtosis:                       2.218   Cond. No.                         7.77\n",
       "==============================================================================\n",
       "\n",
       "Notes:\n",
       "[1] Standard Errors assume that the covariance matrix of the errors is correctly specified.\n",
       "\"\"\""
      ]
     },
     "execution_count": 11,
     "metadata": {},
     "output_type": "execute_result"
    }
   ],
   "source": [
    "X = pd.get_dummies(data['Days'], drop_first = True)\n",
    "X = sm.add_constant(X)\n",
    "model = sm.OLS(Y,X)\n",
    "results = model.fit()\n",
    "results.summary()"
   ]
  },
  {
   "cell_type": "markdown",
   "metadata": {},
   "source": [
    "### Estimating OLS parameters using scipy.stats"
   ]
  },
  {
   "cell_type": "code",
   "execution_count": 12,
   "metadata": {},
   "outputs": [
    {
     "name": "stdout",
     "output_type": "stream",
     "text": [
      "Help on function linregress in module scipy.stats._stats_mstats_common:\n",
      "\n",
      "linregress(x, y=None)\n",
      "    Calculate a linear least-squares regression for two sets of measurements.\n",
      "    \n",
      "    Parameters\n",
      "    ----------\n",
      "    x, y : array_like\n",
      "        Two sets of measurements.  Both arrays should have the same length.  If\n",
      "        only `x` is given (and ``y=None``), then it must be a two-dimensional\n",
      "        array where one dimension has length 2.  The two sets of measurements\n",
      "        are then found by splitting the array along the length-2 dimension.  In\n",
      "        the case where ``y=None`` and `x` is a 2x2 array, ``linregress(x)`` is\n",
      "        equivalent to ``linregress(x[0], x[1])``.\n",
      "    \n",
      "    Returns\n",
      "    -------\n",
      "    slope : float\n",
      "        Slope of the regression line.\n",
      "    intercept : float\n",
      "        Intercept of the regression line.\n",
      "    rvalue : float\n",
      "        Correlation coefficient.\n",
      "    pvalue : float\n",
      "        Two-sided p-value for a hypothesis test whose null hypothesis is\n",
      "        that the slope is zero, using Wald Test with t-distribution of\n",
      "        the test statistic.\n",
      "    stderr : float\n",
      "        Standard error of the estimated gradient.\n",
      "    \n",
      "    See also\n",
      "    --------\n",
      "    :func:`scipy.optimize.curve_fit` : Use non-linear\n",
      "     least squares to fit a function to data.\n",
      "    :func:`scipy.optimize.leastsq` : Minimize the sum of\n",
      "     squares of a set of equations.\n",
      "    \n",
      "    Notes\n",
      "    -----\n",
      "    Missing values are considered pair-wise: if a value is missing in `x`,\n",
      "    the corresponding value in `y` is masked.\n",
      "    \n",
      "    Examples\n",
      "    --------\n",
      "    >>> import matplotlib.pyplot as plt\n",
      "    >>> from scipy import stats\n",
      "    \n",
      "    Generate some data:\n",
      "    \n",
      "    >>> np.random.seed(12345678)\n",
      "    >>> x = np.random.random(10)\n",
      "    >>> y = 1.6*x + np.random.random(10)\n",
      "    \n",
      "    Perform the linear regression:\n",
      "    \n",
      "    >>> slope, intercept, r_value, p_value, std_err = stats.linregress(x, y)\n",
      "    >>> print(\"slope: %f    intercept: %f\" % (slope, intercept))\n",
      "    slope: 1.944864    intercept: 0.268578\n",
      "    \n",
      "    To get coefficient of determination (R-squared):\n",
      "    \n",
      "    >>> print(\"R-squared: %f\" % r_value**2)\n",
      "    R-squared: 0.735498\n",
      "    \n",
      "    Plot the data along with the fitted line:\n",
      "    \n",
      "    >>> plt.plot(x, y, 'o', label='original data')\n",
      "    >>> plt.plot(x, intercept + slope*x, 'r', label='fitted line')\n",
      "    >>> plt.legend()\n",
      "    >>> plt.show()\n",
      "    \n",
      "    Example for the case where only x is provided as a 2x2 array:\n",
      "    \n",
      "    >>> x = np.array([[0, 1], [0, 2]])\n",
      "    >>> r = stats.linregress(x)\n",
      "    >>> r.slope, r.intercept\n",
      "    (2.0, 0.0)\n",
      "\n"
     ]
    }
   ],
   "source": [
    "from scipy.stats import linregress\n",
    "help(linregress)"
   ]
  },
  {
   "cell_type": "code",
   "execution_count": 13,
   "metadata": {},
   "outputs": [
    {
     "name": "stdout",
     "output_type": "stream",
     "text": [
      "The slope is: 1.6405141436199793\n",
      "The intercept is: 1.4381033523783202\n"
     ]
    }
   ],
   "source": [
    "X = data['NumberOfAwakings']\n",
    "Y = data['MinutesOfBeingAwake']\n",
    "slope, intercept, r_value, p_value, std_err  = linregress(X, Y)\n",
    "print ('The slope is: ' + str(slope))\n",
    "print ('The intercept is: ' + str(intercept))"
   ]
  },
  {
   "cell_type": "markdown",
   "metadata": {},
   "source": [
    "#### Predictions"
   ]
  },
  {
   "cell_type": "code",
   "execution_count": 14,
   "metadata": {},
   "outputs": [
    {
     "name": "stdout",
     "output_type": "stream",
     "text": [
      "[39.16992865563785, 35.888900368397884, 42.4509569428778, 35.888900368397884, 73.62072567165741, 52.294041804597676, 21.12427307581807, 27.68632965029799, 30.967357937537948, 19.483758932198093, 14.562216501338154, 45.73198523011776, 37.529414512017865, 44.09147108649778, 44.09147108649778, 40.81044279925782, 32.60787208115792, 1.4381033523783202, 47.37249937373774, 29.326843793917966, 53.93455594821766, 44.09147108649778, 42.4509569428778, 55.57507009183764, 44.09147108649778, 57.21558423545761, 49.01301351735772, 26.04581550667801, 57.21558423545761, 45.73198523011776, 32.60787208115792, 50.6535276609777, 42.4509569428778, 24.40530136305803, 50.6535276609777, 6.359645783238258, 35.888900368397884, 24.40530136305803, 24.40530136305803, 29.326843793917966, 22.764787219438052, 19.483758932198093, 1.4381033523783202, 16.202730644958134, 50.6535276609777, 39.16992865563785, 44.09147108649778, 37.529414512017865, 49.01301351735772, 40.81044279925782, 47.37249937373774, 26.04581550667801, 26.04581550667801, 35.888900368397884, 12.921702357718175, 32.60787208115792, 37.529414512017865, 26.04581550667801, 29.326843793917966, 24.40530136305803, 22.764787219438052, 19.483758932198093, 32.60787208115792, 45.73198523011776, 22.764787219438052, 12.921702357718175, 30.967357937537948, 12.921702357718175, 45.73198523011776, 27.68632965029799, 29.326843793917966, 26.04581550667801, 24.40530136305803, 19.483758932198093, 19.483758932198093, 27.68632965029799, 40.81044279925782, 17.84324478857811, 40.81044279925782, 22.764787219438052, 1.4381033523783202, 27.68632965029799, 27.68632965029799, 35.888900368397884, 42.4509569428778, 12.921702357718175, 52.294041804597676, 39.16992865563785, 32.60787208115792, 52.294041804597676, 1.4381033523783202, 63.77764080993753, 30.967357937537948, 27.68632965029799, 34.2483862247779, 21.12427307581807, 21.12427307581807, 29.326843793917966, 40.81044279925782, 1.4381033523783202, 9.640674070478216, 1.4381033523783202, 29.326843793917966, 19.483758932198093, 45.73198523011776, 27.68632965029799, 22.764787219438052, 63.77764080993753, 26.04581550667801, 22.764787219438052, 55.57507009183764, 39.16992865563785, 32.60787208115792, 55.57507009183764, 11.281188214098195, 24.40530136305803, 62.137126666317556, 1.4381033523783202, 14.562216501338154, 6.359645783238258, 1.4381033523783202, 16.202730644958134, 34.2483862247779, 1.4381033523783202, 30.967357937537948, 35.888900368397884, 30.967357937537948, 1.4381033523783202, 16.202730644958134, 55.57507009183764, 14.562216501338154, 26.04581550667801, 75.26123981527739, 57.21558423545761, 1.4381033523783202, 19.483758932198093, 45.73198523011776, 49.01301351735772, 50.6535276609777, 40.81044279925782, 1.4381033523783202, 1.4381033523783202, 29.326843793917966, 29.326843793917966, 1.4381033523783202, 27.68632965029799, 50.6535276609777, 17.84324478857811, 39.16992865563785, 44.09147108649778, 27.68632965029799, 45.73198523011776, 47.37249937373774, 1.4381033523783202, 9.640674070478216, 4.719131639618279, 58.856098379077594, 14.562216501338154, 1.4381033523783202, 55.57507009183764, 11.281188214098195, 1.4381033523783202, 1.4381033523783202, 1.4381033523783202, 1.4381033523783202, 1.4381033523783202, 27.68632965029799, 55.57507009183764, 11.281188214098195, 49.01301351735772, 1.4381033523783202, 1.4381033523783202, 17.84324478857811, 11.281188214098195, 24.40530136305803, 17.84324478857811, 26.04581550667801, 39.16992865563785, 24.40530136305803, 1.4381033523783202, 9.640674070478216, 39.16992865563785, 12.921702357718175, 1.4381033523783202, 1.4381033523783202, 35.888900368397884, 47.37249937373774, 19.483758932198093, 26.04581550667801, 29.326843793917966, 62.137126666317556, 44.09147108649778, 9.640674070478216, 52.294041804597676, 1.4381033523783202, 24.40530136305803, 35.888900368397884, 1.4381033523783202, 39.16992865563785, 40.81044279925782, 44.09147108649778, 42.4509569428778, 1.4381033523783202, 1.4381033523783202, 27.68632965029799, 1.4381033523783202, 3.0786174959982997, 1.4381033523783202, 29.326843793917966, 53.93455594821766, 37.529414512017865, 40.81044279925782, 24.40530136305803, 55.57507009183764, 35.888900368397884, 1.4381033523783202, 8.000159926858238, 12.921702357718175, 11.281188214098195, 1.4381033523783202, 52.294041804597676, 1.4381033523783202, 1.4381033523783202, 58.856098379077594, 34.2483862247779, 35.888900368397884, 11.281188214098195, 4.719131639618279, 8.000159926858238, 1.4381033523783202, 37.529414512017865, 47.37249937373774, 17.84324478857811, 19.483758932198093, 1.4381033523783202, 1.4381033523783202, 45.73198523011776, 45.73198523011776, 40.81044279925782, 30.967357937537948, 11.281188214098195, 55.57507009183764, 22.764787219438052, 24.40530136305803, 32.60787208115792, 1.4381033523783202, 52.294041804597676, 32.60787208115792, 37.529414512017865, 14.562216501338154, 17.84324478857811, 17.84324478857811, 1.4381033523783202, 19.483758932198093, 30.967357937537948, 12.921702357718175, 32.60787208115792, 37.529414512017865, 45.73198523011776, 44.09147108649778, 9.640674070478216, 1.4381033523783202, 40.81044279925782, 50.6535276609777, 60.496612522697575, 47.37249937373774, 52.294041804597676, 1.4381033523783202, 37.529414512017865, 35.888900368397884, 45.73198523011776, 34.2483862247779, 24.40530136305803, 47.37249937373774, 24.40530136305803, 32.60787208115792, 12.921702357718175, 50.6535276609777, 35.888900368397884, 1.4381033523783202, 26.04581550667801, 24.40530136305803, 49.01301351735772, 34.2483862247779, 1.4381033523783202, 27.68632965029799, 12.921702357718175, 1.4381033523783202, 16.202730644958134, 52.294041804597676, 53.93455594821766, 1.4381033523783202, 16.202730644958134, 16.202730644958134, 35.888900368397884, 1.4381033523783202, 1.4381033523783202, 27.68632965029799, 12.921702357718175, 44.09147108649778, 37.529414512017865, 47.37249937373774, 9.640674070478216, 26.04581550667801, 1.4381033523783202, 39.16992865563785, 30.967357937537948, 1.4381033523783202, 30.967357937537948, 1.4381033523783202, 17.84324478857811, 1.4381033523783202, 1.4381033523783202, 9.640674070478216, 37.529414512017865, 17.84324478857811, 29.326843793917966, 52.294041804597676, 39.16992865563785, 22.764787219438052, 44.09147108649778, 22.764787219438052, 22.764787219438052, 9.640674070478216, 8.000159926858238, 58.856098379077594, 1.4381033523783202, 1.4381033523783202, 35.888900368397884, 26.04581550667801, 39.16992865563785, 6.359645783238258, 39.16992865563785, 27.68632965029799, 14.562216501338154, 26.04581550667801, 12.921702357718175, 40.81044279925782, 17.84324478857811, 37.529414512017865, 44.09147108649778, 35.888900368397884, 52.294041804597676, 30.967357937537948, 34.2483862247779, 42.4509569428778, 1.4381033523783202, 21.12427307581807, 1.4381033523783202, 29.326843793917966, 29.326843793917966, 65.41815495355752, 47.37249937373774, 52.294041804597676, 24.40530136305803, 17.84324478857811, 45.73198523011776, 57.21558423545761, 16.202730644958134, 45.73198523011776, 34.2483862247779, 39.16992865563785, 30.967357937537948, 14.562216501338154, 26.04581550667801, 37.529414512017865, 52.294041804597676]\n"
     ]
    }
   ],
   "source": [
    "predictions = [intercept + slope*x for x in X]\n",
    "print(predictions)"
   ]
  },
  {
   "cell_type": "markdown",
   "metadata": {},
   "source": [
    "#### Calculating residuals"
   ]
  },
  {
   "cell_type": "code",
   "execution_count": 15,
   "metadata": {},
   "outputs": [],
   "source": [
    "residuals = [Y[i] - predictions[i] for i in range(len(Y))]"
   ]
  },
  {
   "cell_type": "markdown",
   "metadata": {},
   "source": [
    "## Using sklearn"
   ]
  },
  {
   "cell_type": "code",
   "execution_count": 16,
   "metadata": {},
   "outputs": [
    {
     "name": "stdout",
     "output_type": "stream",
     "text": [
      "Help on class LinearRegression in module sklearn.linear_model._base:\n",
      "\n",
      "class LinearRegression(sklearn.base.MultiOutputMixin, sklearn.base.RegressorMixin, LinearModel)\n",
      " |  LinearRegression(*, fit_intercept=True, normalize=False, copy_X=True, n_jobs=None)\n",
      " |  \n",
      " |  Ordinary least squares Linear Regression.\n",
      " |  \n",
      " |  LinearRegression fits a linear model with coefficients w = (w1, ..., wp)\n",
      " |  to minimize the residual sum of squares between the observed targets in\n",
      " |  the dataset, and the targets predicted by the linear approximation.\n",
      " |  \n",
      " |  Parameters\n",
      " |  ----------\n",
      " |  fit_intercept : bool, default=True\n",
      " |      Whether to calculate the intercept for this model. If set\n",
      " |      to False, no intercept will be used in calculations\n",
      " |      (i.e. data is expected to be centered).\n",
      " |  \n",
      " |  normalize : bool, default=False\n",
      " |      This parameter is ignored when ``fit_intercept`` is set to False.\n",
      " |      If True, the regressors X will be normalized before regression by\n",
      " |      subtracting the mean and dividing by the l2-norm.\n",
      " |      If you wish to standardize, please use\n",
      " |      :class:`sklearn.preprocessing.StandardScaler` before calling ``fit`` on\n",
      " |      an estimator with ``normalize=False``.\n",
      " |  \n",
      " |  copy_X : bool, default=True\n",
      " |      If True, X will be copied; else, it may be overwritten.\n",
      " |  \n",
      " |  n_jobs : int, default=None\n",
      " |      The number of jobs to use for the computation. This will only provide\n",
      " |      speedup for n_targets > 1 and sufficient large problems.\n",
      " |      ``None`` means 1 unless in a :obj:`joblib.parallel_backend` context.\n",
      " |      ``-1`` means using all processors. See :term:`Glossary <n_jobs>`\n",
      " |      for more details.\n",
      " |  \n",
      " |  Attributes\n",
      " |  ----------\n",
      " |  coef_ : array of shape (n_features, ) or (n_targets, n_features)\n",
      " |      Estimated coefficients for the linear regression problem.\n",
      " |      If multiple targets are passed during the fit (y 2D), this\n",
      " |      is a 2D array of shape (n_targets, n_features), while if only\n",
      " |      one target is passed, this is a 1D array of length n_features.\n",
      " |  \n",
      " |  rank_ : int\n",
      " |      Rank of matrix `X`. Only available when `X` is dense.\n",
      " |  \n",
      " |  singular_ : array of shape (min(X, y),)\n",
      " |      Singular values of `X`. Only available when `X` is dense.\n",
      " |  \n",
      " |  intercept_ : float or array of shape (n_targets,)\n",
      " |      Independent term in the linear model. Set to 0.0 if\n",
      " |      `fit_intercept = False`.\n",
      " |  \n",
      " |  See Also\n",
      " |  --------\n",
      " |  sklearn.linear_model.Ridge : Ridge regression addresses some of the\n",
      " |      problems of Ordinary Least Squares by imposing a penalty on the\n",
      " |      size of the coefficients with l2 regularization.\n",
      " |  sklearn.linear_model.Lasso : The Lasso is a linear model that estimates\n",
      " |      sparse coefficients with l1 regularization.\n",
      " |  sklearn.linear_model.ElasticNet : Elastic-Net is a linear regression\n",
      " |      model trained with both l1 and l2 -norm regularization of the\n",
      " |      coefficients.\n",
      " |  \n",
      " |  Notes\n",
      " |  -----\n",
      " |  From the implementation point of view, this is just plain Ordinary\n",
      " |  Least Squares (scipy.linalg.lstsq) wrapped as a predictor object.\n",
      " |  \n",
      " |  Examples\n",
      " |  --------\n",
      " |  >>> import numpy as np\n",
      " |  >>> from sklearn.linear_model import LinearRegression\n",
      " |  >>> X = np.array([[1, 1], [1, 2], [2, 2], [2, 3]])\n",
      " |  >>> # y = 1 * x_0 + 2 * x_1 + 3\n",
      " |  >>> y = np.dot(X, np.array([1, 2])) + 3\n",
      " |  >>> reg = LinearRegression().fit(X, y)\n",
      " |  >>> reg.score(X, y)\n",
      " |  1.0\n",
      " |  >>> reg.coef_\n",
      " |  array([1., 2.])\n",
      " |  >>> reg.intercept_\n",
      " |  3.0000...\n",
      " |  >>> reg.predict(np.array([[3, 5]]))\n",
      " |  array([16.])\n",
      " |  \n",
      " |  Method resolution order:\n",
      " |      LinearRegression\n",
      " |      sklearn.base.MultiOutputMixin\n",
      " |      sklearn.base.RegressorMixin\n",
      " |      LinearModel\n",
      " |      sklearn.base.BaseEstimator\n",
      " |      builtins.object\n",
      " |  \n",
      " |  Methods defined here:\n",
      " |  \n",
      " |  __init__(self, *, fit_intercept=True, normalize=False, copy_X=True, n_jobs=None)\n",
      " |      Initialize self.  See help(type(self)) for accurate signature.\n",
      " |  \n",
      " |  fit(self, X, y, sample_weight=None)\n",
      " |      Fit linear model.\n",
      " |      \n",
      " |      Parameters\n",
      " |      ----------\n",
      " |      X : {array-like, sparse matrix} of shape (n_samples, n_features)\n",
      " |          Training data\n",
      " |      \n",
      " |      y : array-like of shape (n_samples,) or (n_samples, n_targets)\n",
      " |          Target values. Will be cast to X's dtype if necessary\n",
      " |      \n",
      " |      sample_weight : array-like of shape (n_samples,), default=None\n",
      " |          Individual weights for each sample\n",
      " |      \n",
      " |          .. versionadded:: 0.17\n",
      " |             parameter *sample_weight* support to LinearRegression.\n",
      " |      \n",
      " |      Returns\n",
      " |      -------\n",
      " |      self : returns an instance of self.\n",
      " |  \n",
      " |  ----------------------------------------------------------------------\n",
      " |  Data and other attributes defined here:\n",
      " |  \n",
      " |  __abstractmethods__ = frozenset()\n",
      " |  \n",
      " |  ----------------------------------------------------------------------\n",
      " |  Data descriptors inherited from sklearn.base.MultiOutputMixin:\n",
      " |  \n",
      " |  __dict__\n",
      " |      dictionary for instance variables (if defined)\n",
      " |  \n",
      " |  __weakref__\n",
      " |      list of weak references to the object (if defined)\n",
      " |  \n",
      " |  ----------------------------------------------------------------------\n",
      " |  Methods inherited from sklearn.base.RegressorMixin:\n",
      " |  \n",
      " |  score(self, X, y, sample_weight=None)\n",
      " |      Return the coefficient of determination R^2 of the prediction.\n",
      " |      \n",
      " |      The coefficient R^2 is defined as (1 - u/v), where u is the residual\n",
      " |      sum of squares ((y_true - y_pred) ** 2).sum() and v is the total\n",
      " |      sum of squares ((y_true - y_true.mean()) ** 2).sum().\n",
      " |      The best possible score is 1.0 and it can be negative (because the\n",
      " |      model can be arbitrarily worse). A constant model that always\n",
      " |      predicts the expected value of y, disregarding the input features,\n",
      " |      would get a R^2 score of 0.0.\n",
      " |      \n",
      " |      Parameters\n",
      " |      ----------\n",
      " |      X : array-like of shape (n_samples, n_features)\n",
      " |          Test samples. For some estimators this may be a\n",
      " |          precomputed kernel matrix or a list of generic objects instead,\n",
      " |          shape = (n_samples, n_samples_fitted),\n",
      " |          where n_samples_fitted is the number of\n",
      " |          samples used in the fitting for the estimator.\n",
      " |      \n",
      " |      y : array-like of shape (n_samples,) or (n_samples, n_outputs)\n",
      " |          True values for X.\n",
      " |      \n",
      " |      sample_weight : array-like of shape (n_samples,), default=None\n",
      " |          Sample weights.\n",
      " |      \n",
      " |      Returns\n",
      " |      -------\n",
      " |      score : float\n",
      " |          R^2 of self.predict(X) wrt. y.\n",
      " |      \n",
      " |      Notes\n",
      " |      -----\n",
      " |      The R2 score used when calling ``score`` on a regressor uses\n",
      " |      ``multioutput='uniform_average'`` from version 0.23 to keep consistent\n",
      " |      with default value of :func:`~sklearn.metrics.r2_score`.\n",
      " |      This influences the ``score`` method of all the multioutput\n",
      " |      regressors (except for\n",
      " |      :class:`~sklearn.multioutput.MultiOutputRegressor`).\n",
      " |  \n",
      " |  ----------------------------------------------------------------------\n",
      " |  Methods inherited from LinearModel:\n",
      " |  \n",
      " |  predict(self, X)\n",
      " |      Predict using the linear model.\n",
      " |      \n",
      " |      Parameters\n",
      " |      ----------\n",
      " |      X : array_like or sparse matrix, shape (n_samples, n_features)\n",
      " |          Samples.\n",
      " |      \n",
      " |      Returns\n",
      " |      -------\n",
      " |      C : array, shape (n_samples,)\n",
      " |          Returns predicted values.\n",
      " |  \n",
      " |  ----------------------------------------------------------------------\n",
      " |  Methods inherited from sklearn.base.BaseEstimator:\n",
      " |  \n",
      " |  __getstate__(self)\n",
      " |  \n",
      " |  __repr__(self, N_CHAR_MAX=700)\n",
      " |      Return repr(self).\n",
      " |  \n",
      " |  __setstate__(self, state)\n",
      " |  \n",
      " |  get_params(self, deep=True)\n",
      " |      Get parameters for this estimator.\n",
      " |      \n",
      " |      Parameters\n",
      " |      ----------\n",
      " |      deep : bool, default=True\n",
      " |          If True, will return the parameters for this estimator and\n",
      " |          contained subobjects that are estimators.\n",
      " |      \n",
      " |      Returns\n",
      " |      -------\n",
      " |      params : mapping of string to any\n",
      " |          Parameter names mapped to their values.\n",
      " |  \n",
      " |  set_params(self, **params)\n",
      " |      Set the parameters of this estimator.\n",
      " |      \n",
      " |      The method works on simple estimators as well as on nested objects\n",
      " |      (such as pipelines). The latter have parameters of the form\n",
      " |      ``<component>__<parameter>`` so that it's possible to update each\n",
      " |      component of a nested object.\n",
      " |      \n",
      " |      Parameters\n",
      " |      ----------\n",
      " |      **params : dict\n",
      " |          Estimator parameters.\n",
      " |      \n",
      " |      Returns\n",
      " |      -------\n",
      " |      self : object\n",
      " |          Estimator instance.\n",
      "\n"
     ]
    }
   ],
   "source": [
    "from sklearn import linear_model\n",
    "from sklearn.metrics import mean_squared_error, r2_score\n",
    "help(linear_model.LinearRegression)"
   ]
  },
  {
   "cell_type": "code",
   "execution_count": 17,
   "metadata": {},
   "outputs": [
    {
     "data": {
      "text/plain": [
       "0.9059552749155962"
      ]
     },
     "execution_count": 17,
     "metadata": {},
     "output_type": "execute_result"
    }
   ],
   "source": [
    "X = X.values.reshape(-1, 1)\n",
    "lm = linear_model.LinearRegression()\n",
    "model = lm.fit(X,Y)\n",
    "lm.score(X,Y)"
   ]
  },
  {
   "cell_type": "code",
   "execution_count": 18,
   "metadata": {},
   "outputs": [
    {
     "name": "stdout",
     "output_type": "stream",
     "text": [
      "1.4381033523783096\n",
      "[1.64051414]\n",
      "0.9059552749155962\n",
      "32.24298427103866\n"
     ]
    }
   ],
   "source": [
    "print(lm.intercept_)\n",
    "print(lm.coef_)\n",
    "predictions = lm.predict(X)\n",
    "print(r2_score(Y, predictions))\n",
    "print(mean_squared_error(Y, predictions))\n"
   ]
  },
  {
   "cell_type": "markdown",
   "metadata": {},
   "source": [
    "## Logistic Regression"
   ]
  },
  {
   "cell_type": "code",
   "execution_count": 19,
   "metadata": {},
   "outputs": [
    {
     "name": "stdout",
     "output_type": "stream",
     "text": [
      "Optimization terminated successfully.\n",
      "         Current function value: 0.676012\n",
      "         Iterations 4\n"
     ]
    },
    {
     "data": {
      "text/html": [
       "<table class=\"simpletable\">\n",
       "<caption>Logit Regression Results</caption>\n",
       "<tr>\n",
       "  <th>Dep. Variable:</th>           <td>0</td>        <th>  No. Observations:  </th>  <td>   367</td> \n",
       "</tr>\n",
       "<tr>\n",
       "  <th>Model:</th>                 <td>Logit</td>      <th>  Df Residuals:      </th>  <td>   365</td> \n",
       "</tr>\n",
       "<tr>\n",
       "  <th>Method:</th>                 <td>MLE</td>       <th>  Df Model:          </th>  <td>     1</td> \n",
       "</tr>\n",
       "<tr>\n",
       "  <th>Date:</th>            <td>Tue, 10 Nov 2020</td> <th>  Pseudo R-squ.:     </th>  <td>0.02089</td>\n",
       "</tr>\n",
       "<tr>\n",
       "  <th>Time:</th>                <td>21:12:46</td>     <th>  Log-Likelihood:    </th> <td> -248.10</td>\n",
       "</tr>\n",
       "<tr>\n",
       "  <th>converged:</th>             <td>True</td>       <th>  LL-Null:           </th> <td> -253.39</td>\n",
       "</tr>\n",
       "<tr>\n",
       "  <th>Covariance Type:</th>     <td>nonrobust</td>    <th>  LLR p-value:       </th> <td>0.001138</td>\n",
       "</tr>\n",
       "</table>\n",
       "<table class=\"simpletable\">\n",
       "<tr>\n",
       "           <td></td>              <th>coef</th>     <th>std err</th>      <th>z</th>      <th>P>|z|</th>  <th>[0.025</th>    <th>0.975]</th>  \n",
       "</tr>\n",
       "<tr>\n",
       "  <th>const</th>               <td>    0.3719</td> <td>    0.193</td> <td>    1.930</td> <td> 0.054</td> <td>   -0.006</td> <td>    0.750</td>\n",
       "</tr>\n",
       "<tr>\n",
       "  <th>MinutesOfBeingAwake</th> <td>   -0.0187</td> <td>    0.006</td> <td>   -3.202</td> <td> 0.001</td> <td>   -0.030</td> <td>   -0.007</td>\n",
       "</tr>\n",
       "</table>"
      ],
      "text/plain": [
       "<class 'statsmodels.iolib.summary.Summary'>\n",
       "\"\"\"\n",
       "                           Logit Regression Results                           \n",
       "==============================================================================\n",
       "Dep. Variable:                      0   No. Observations:                  367\n",
       "Model:                          Logit   Df Residuals:                      365\n",
       "Method:                           MLE   Df Model:                            1\n",
       "Date:                Tue, 10 Nov 2020   Pseudo R-squ.:                 0.02089\n",
       "Time:                        21:12:46   Log-Likelihood:                -248.10\n",
       "converged:                       True   LL-Null:                       -253.39\n",
       "Covariance Type:            nonrobust   LLR p-value:                  0.001138\n",
       "=======================================================================================\n",
       "                          coef    std err          z      P>|z|      [0.025      0.975]\n",
       "---------------------------------------------------------------------------------------\n",
       "const                   0.3719      0.193      1.930      0.054      -0.006       0.750\n",
       "MinutesOfBeingAwake    -0.0187      0.006     -3.202      0.001      -0.030      -0.007\n",
       "=======================================================================================\n",
       "\"\"\""
      ]
     },
     "execution_count": 19,
     "metadata": {},
     "output_type": "execute_result"
    }
   ],
   "source": [
    "Y = pd.DataFrame(np.where(data['Sleep efficiency']>90, 1, 0))\n",
    "X = data['MinutesOfBeingAwake']\n",
    "X = sm.add_constant(X)\n",
    "model = sm.Logit(Y, X)\n",
    "results = model.fit()\n",
    "results.summary()"
   ]
  },
  {
   "cell_type": "code",
   "execution_count": 20,
   "metadata": {},
   "outputs": [
    {
     "data": {
      "text/plain": [
       "0      0.471448\n",
       "1      0.429803\n",
       "2      0.380273\n",
       "3      0.448225\n",
       "4      0.300747\n",
       "         ...   \n",
       "362    0.438993\n",
       "363    0.494796\n",
       "364    0.429803\n",
       "365    0.398055\n",
       "366    0.333117\n",
       "Length: 367, dtype: float64"
      ]
     },
     "execution_count": 20,
     "metadata": {},
     "output_type": "execute_result"
    }
   ],
   "source": [
    "results.predict(X)"
   ]
  },
  {
   "cell_type": "code",
   "execution_count": 22,
   "metadata": {},
   "outputs": [
    {
     "data": {
      "text/plain": [
       "array([0.58286341])"
      ]
     },
     "execution_count": 22,
     "metadata": {},
     "output_type": "execute_result"
    }
   ],
   "source": [
    "results.predict((1,2))"
   ]
  },
  {
   "cell_type": "code",
   "execution_count": null,
   "metadata": {},
   "outputs": [],
   "source": []
  }
 ],
 "metadata": {
  "kernelspec": {
   "display_name": "Python 3",
   "language": "python",
   "name": "python3"
  },
  "language_info": {
   "codemirror_mode": {
    "name": "ipython",
    "version": 3
   },
   "file_extension": ".py",
   "mimetype": "text/x-python",
   "name": "python",
   "nbconvert_exporter": "python",
   "pygments_lexer": "ipython3",
   "version": "3.7.7"
  }
 },
 "nbformat": 4,
 "nbformat_minor": 4
}
